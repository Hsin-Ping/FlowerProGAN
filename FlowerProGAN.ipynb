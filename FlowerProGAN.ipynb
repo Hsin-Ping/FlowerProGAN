{
  "cells": [
    {
      "cell_type": "markdown",
      "source": [
        "# Techniques in ProGAN (https://blog.paperspace.com/understanding-progan/)\n",
        "## 1. Equalized Learning Rate\n",
        "- Problem: The learning rate of optimizer Adam and RMSProp depending upon the dynamic range of the parameters (like [-1, 1] or [-10, 10])\n",
        "- Solution: Scaling the weights with filter size to ensure that every weight is in the same dynamic range.\n",
        "<img src=\"files/equalized_lr.jpg\" width=\"400\" height=\"200\">\n",
        "\n",
        "## 2. Pixel Normalization\n",
        "- Problem: the output will be out of control without batch normalization\n",
        "- Solution: Add pixel normalization in each channels (dim=1)\n",
        "<img src=\"files/pn.jpg\" width=\"400\" height=\"200\">\n",
        "\n",
        "## 3. Loss Function with Gradient Penalty\n",
        "<img src=\"files/gp.jpg\" width=\"400\" height=\"200\">\n",
        "\n",
        "## 4. For alpha in Discriminator and Generator\n",
        "- formula: alpha += current_batch / (total_datasize * 0.5 * no. of epoch in this step) -> it will make alpha reach to 2 sequentially.\n",
        "\n",
        "## 5. For fade in Descitimator and Generator\n",
        "<img src=\"files/fade.jpg\" width=\"800\" height=\"400\">\n",
        "\n",
        "## 6. ProGAN model Architecture\n",
        "<img src=\"files/model.jpg\" width=\"800\" height=\"400\">"
      ],
      "metadata": {
        "id": "LTjysWI6I34z"
      },
      "id": "LTjysWI6I34z"
    },
    {
      "cell_type": "code",
      "execution_count": 18,
      "id": "ed559cd1",
      "metadata": {
        "id": "ed559cd1"
      },
      "outputs": [],
      "source": [
        "import os\n",
        "from tqdm import tqdm\n",
        "import random\n",
        "import numpy as np\n",
        "from math import log2\n",
        "\n",
        "import torch\n",
        "import torch.nn as nn\n",
        "import torch.nn.functional as F\n",
        "\n",
        "# dataset\n",
        "from torch.utils.data import DataLoader\n",
        "from torchvision.datasets import ImageFolder\n",
        "from torchvision.transforms import transforms\n",
        "from torchvision.utils import save_image\n",
        "\n",
        "# visualization\n",
        "import torchvision.utils as vutils\n",
        "import matplotlib.pyplot as plt"
      ]
    },
    {
      "cell_type": "markdown",
      "source": [
        "# Download Dataset"
      ],
      "metadata": {
        "id": "4NUi9xmrJGnh"
      },
      "id": "4NUi9xmrJGnh"
    },
    {
      "cell_type": "code",
      "source": [
        "! kaggle datasets download -d safiullina/flowers-imitation\n",
        "! unzip flowers-imitation.zip\n",
        "! mkdir kaggle && mv flowers_imitation/ kaggle/"
      ],
      "metadata": {
        "colab": {
          "base_uri": "https://localhost:8080/"
        },
        "id": "b5Q_-oP88LBp",
        "outputId": "830af549-c1b9-4e4f-c710-b09e150673d0"
      },
      "id": "b5Q_-oP88LBp",
      "execution_count": 2,
      "outputs": [
        {
          "output_type": "stream",
          "name": "stdout",
          "text": [
            "Dataset URL: https://www.kaggle.com/datasets/safiullina/flowers-imitation\n",
            "License(s): CC-BY-SA-4.0\n",
            "Downloading flowers-imitation.zip to /content\n",
            " 98% 201M/205M [00:03<00:00, 101MB/s] \n",
            "100% 205M/205M [00:03<00:00, 68.8MB/s]\n",
            "Archive:  flowers-imitation.zip\n",
            "  inflating: flowers_imitation/0.png  \n",
            "  inflating: flowers_imitation/1.png  \n",
            "  inflating: flowers_imitation/10.png  \n",
            "  inflating: flowers_imitation/100.png  \n",
            "  inflating: flowers_imitation/1000.png  \n",
            "  inflating: flowers_imitation/1001.png  \n",
            "  inflating: flowers_imitation/1002.png  \n",
            "  inflating: flowers_imitation/1003.png  \n",
            "  inflating: flowers_imitation/1004.png  \n",
            "  inflating: flowers_imitation/1005.png  \n",
            "  inflating: flowers_imitation/1006.png  \n",
            "  inflating: flowers_imitation/1007.png  \n",
            "  inflating: flowers_imitation/1008.png  \n",
            "  inflating: flowers_imitation/1009.png  \n",
            "  inflating: flowers_imitation/101.png  \n",
            "  inflating: flowers_imitation/1010.png  \n",
            "  inflating: flowers_imitation/1011.png  \n",
            "  inflating: flowers_imitation/1012.png  \n",
            "  inflating: flowers_imitation/1013.png  \n",
            "  inflating: flowers_imitation/1014.png  \n",
            "  inflating: flowers_imitation/1015.png  \n",
            "  inflating: flowers_imitation/1016.png  \n",
            "  inflating: flowers_imitation/1017.png  \n",
            "  inflating: flowers_imitation/1018.png  \n",
            "  inflating: flowers_imitation/1019.png  \n",
            "  inflating: flowers_imitation/102.png  \n",
            "  inflating: flowers_imitation/1020.png  \n",
            "  inflating: flowers_imitation/1021.png  \n",
            "  inflating: flowers_imitation/1022.png  \n",
            "  inflating: flowers_imitation/1023.png  \n",
            "  inflating: flowers_imitation/1024.png  \n",
            "  inflating: flowers_imitation/1025.png  \n",
            "  inflating: flowers_imitation/1026.png  \n",
            "  inflating: flowers_imitation/1027.png  \n",
            "  inflating: flowers_imitation/1028.png  \n",
            "  inflating: flowers_imitation/1029.png  \n",
            "  inflating: flowers_imitation/103.png  \n",
            "  inflating: flowers_imitation/1030.png  \n",
            "  inflating: flowers_imitation/1031.png  \n",
            "  inflating: flowers_imitation/1032.png  \n",
            "  inflating: flowers_imitation/1033.png  \n",
            "  inflating: flowers_imitation/1034.png  \n",
            "  inflating: flowers_imitation/1035.png  \n",
            "  inflating: flowers_imitation/1036.png  \n",
            "  inflating: flowers_imitation/1037.png  \n",
            "  inflating: flowers_imitation/1038.png  \n",
            "  inflating: flowers_imitation/1039.png  \n",
            "  inflating: flowers_imitation/104.png  \n",
            "  inflating: flowers_imitation/1040.png  \n",
            "  inflating: flowers_imitation/1041.png  \n",
            "  inflating: flowers_imitation/1042.png  \n",
            "  inflating: flowers_imitation/1043.png  \n",
            "  inflating: flowers_imitation/1044.png  \n",
            "  inflating: flowers_imitation/1045.png  \n",
            "  inflating: flowers_imitation/1046.png  \n",
            "  inflating: flowers_imitation/1047.png  \n",
            "  inflating: flowers_imitation/1048.png  \n",
            "  inflating: flowers_imitation/1049.png  \n",
            "  inflating: flowers_imitation/105.png  \n",
            "  inflating: flowers_imitation/1050.png  \n",
            "  inflating: flowers_imitation/1051.png  \n",
            "  inflating: flowers_imitation/1052.png  \n",
            "  inflating: flowers_imitation/1053.png  \n",
            "  inflating: flowers_imitation/1054.png  \n",
            "  inflating: flowers_imitation/1055.png  \n",
            "  inflating: flowers_imitation/1056.png  \n",
            "  inflating: flowers_imitation/1057.png  \n",
            "  inflating: flowers_imitation/1058.png  \n",
            "  inflating: flowers_imitation/1059.png  \n",
            "  inflating: flowers_imitation/106.png  \n",
            "  inflating: flowers_imitation/1060.png  \n",
            "  inflating: flowers_imitation/1061.png  \n",
            "  inflating: flowers_imitation/1062.png  \n",
            "  inflating: flowers_imitation/1063.png  \n",
            "  inflating: flowers_imitation/1064.png  \n",
            "  inflating: flowers_imitation/1065.png  \n",
            "  inflating: flowers_imitation/1066.png  \n",
            "  inflating: flowers_imitation/1067.png  \n",
            "  inflating: flowers_imitation/1068.png  \n",
            "  inflating: flowers_imitation/1069.png  \n",
            "  inflating: flowers_imitation/107.png  \n",
            "  inflating: flowers_imitation/1070.png  \n",
            "  inflating: flowers_imitation/1071.png  \n",
            "  inflating: flowers_imitation/1072.png  \n",
            "  inflating: flowers_imitation/1073.png  \n",
            "  inflating: flowers_imitation/1074.png  \n",
            "  inflating: flowers_imitation/1075.png  \n",
            "  inflating: flowers_imitation/1076.png  \n",
            "  inflating: flowers_imitation/1077.png  \n",
            "  inflating: flowers_imitation/1078.png  \n",
            "  inflating: flowers_imitation/1079.png  \n",
            "  inflating: flowers_imitation/108.png  \n",
            "  inflating: flowers_imitation/1080.png  \n",
            "  inflating: flowers_imitation/1081.png  \n",
            "  inflating: flowers_imitation/1082.png  \n",
            "  inflating: flowers_imitation/1083.png  \n",
            "  inflating: flowers_imitation/1084.png  \n",
            "  inflating: flowers_imitation/1085.png  \n",
            "  inflating: flowers_imitation/1086.png  \n",
            "  inflating: flowers_imitation/1087.png  \n",
            "  inflating: flowers_imitation/1088.png  \n",
            "  inflating: flowers_imitation/1089.png  \n",
            "  inflating: flowers_imitation/109.png  \n",
            "  inflating: flowers_imitation/1090.png  \n",
            "  inflating: flowers_imitation/1091.png  \n",
            "  inflating: flowers_imitation/1092.png  \n",
            "  inflating: flowers_imitation/1093.png  \n",
            "  inflating: flowers_imitation/1094.png  \n",
            "  inflating: flowers_imitation/1095.png  \n",
            "  inflating: flowers_imitation/1096.png  \n",
            "  inflating: flowers_imitation/1097.png  \n",
            "  inflating: flowers_imitation/1098.png  \n",
            "  inflating: flowers_imitation/1099.png  \n",
            "  inflating: flowers_imitation/11.png  \n",
            "  inflating: flowers_imitation/110.png  \n",
            "  inflating: flowers_imitation/1100.png  \n",
            "  inflating: flowers_imitation/1101.png  \n",
            "  inflating: flowers_imitation/1102.png  \n",
            "  inflating: flowers_imitation/1103.png  \n",
            "  inflating: flowers_imitation/1104.png  \n",
            "  inflating: flowers_imitation/1105.png  \n",
            "  inflating: flowers_imitation/1106.png  \n",
            "  inflating: flowers_imitation/1107.png  \n",
            "  inflating: flowers_imitation/1108.png  \n",
            "  inflating: flowers_imitation/1109.png  \n",
            "  inflating: flowers_imitation/111.png  \n",
            "  inflating: flowers_imitation/1110.png  \n",
            "  inflating: flowers_imitation/1111.png  \n",
            "  inflating: flowers_imitation/1112.png  \n",
            "  inflating: flowers_imitation/1113.png  \n",
            "  inflating: flowers_imitation/1114.png  \n",
            "  inflating: flowers_imitation/1115.png  \n",
            "  inflating: flowers_imitation/1116.png  \n",
            "  inflating: flowers_imitation/1117.png  \n",
            "  inflating: flowers_imitation/1118.png  \n",
            "  inflating: flowers_imitation/1119.png  \n",
            "  inflating: flowers_imitation/112.png  \n",
            "  inflating: flowers_imitation/1120.png  \n",
            "  inflating: flowers_imitation/1121.png  \n",
            "  inflating: flowers_imitation/1122.png  \n",
            "  inflating: flowers_imitation/1123.png  \n",
            "  inflating: flowers_imitation/1124.png  \n",
            "  inflating: flowers_imitation/1125.png  \n",
            "  inflating: flowers_imitation/1126.png  \n",
            "  inflating: flowers_imitation/1127.png  \n",
            "  inflating: flowers_imitation/1128.png  \n",
            "  inflating: flowers_imitation/1129.png  \n",
            "  inflating: flowers_imitation/113.png  \n",
            "  inflating: flowers_imitation/1130.png  \n",
            "  inflating: flowers_imitation/1131.png  \n",
            "  inflating: flowers_imitation/1132.png  \n",
            "  inflating: flowers_imitation/1133.png  \n",
            "  inflating: flowers_imitation/1134.png  \n",
            "  inflating: flowers_imitation/1135.png  \n",
            "  inflating: flowers_imitation/1136.png  \n",
            "  inflating: flowers_imitation/1137.png  \n",
            "  inflating: flowers_imitation/1138.png  \n",
            "  inflating: flowers_imitation/1139.png  \n",
            "  inflating: flowers_imitation/114.png  \n",
            "  inflating: flowers_imitation/1140.png  \n",
            "  inflating: flowers_imitation/1141.png  \n",
            "  inflating: flowers_imitation/1142.png  \n",
            "  inflating: flowers_imitation/1143.png  \n",
            "  inflating: flowers_imitation/1144.png  \n",
            "  inflating: flowers_imitation/1145.png  \n",
            "  inflating: flowers_imitation/1146.png  \n",
            "  inflating: flowers_imitation/1147.png  \n",
            "  inflating: flowers_imitation/1148.png  \n",
            "  inflating: flowers_imitation/1149.png  \n",
            "  inflating: flowers_imitation/115.png  \n",
            "  inflating: flowers_imitation/1150.png  \n",
            "  inflating: flowers_imitation/1151.png  \n",
            "  inflating: flowers_imitation/1152.png  \n",
            "  inflating: flowers_imitation/1153.png  \n",
            "  inflating: flowers_imitation/1154.png  \n",
            "  inflating: flowers_imitation/1155.png  \n",
            "  inflating: flowers_imitation/1156.png  \n",
            "  inflating: flowers_imitation/1157.png  \n",
            "  inflating: flowers_imitation/1158.png  \n",
            "  inflating: flowers_imitation/1159.png  \n",
            "  inflating: flowers_imitation/116.png  \n",
            "  inflating: flowers_imitation/1160.png  \n",
            "  inflating: flowers_imitation/1161.png  \n",
            "  inflating: flowers_imitation/1162.png  \n",
            "  inflating: flowers_imitation/1163.png  \n",
            "  inflating: flowers_imitation/1164.png  \n",
            "  inflating: flowers_imitation/1165.png  \n",
            "  inflating: flowers_imitation/1166.png  \n",
            "  inflating: flowers_imitation/1167.png  \n",
            "  inflating: flowers_imitation/1168.png  \n",
            "  inflating: flowers_imitation/1169.png  \n",
            "  inflating: flowers_imitation/117.png  \n",
            "  inflating: flowers_imitation/1170.png  \n",
            "  inflating: flowers_imitation/1171.png  \n",
            "  inflating: flowers_imitation/1172.png  \n",
            "  inflating: flowers_imitation/1173.png  \n",
            "  inflating: flowers_imitation/1174.png  \n",
            "  inflating: flowers_imitation/1175.png  \n",
            "  inflating: flowers_imitation/1176.png  \n",
            "  inflating: flowers_imitation/1177.png  \n",
            "  inflating: flowers_imitation/1178.png  \n",
            "  inflating: flowers_imitation/1179.png  \n",
            "  inflating: flowers_imitation/118.png  \n",
            "  inflating: flowers_imitation/1180.png  \n",
            "  inflating: flowers_imitation/1181.png  \n",
            "  inflating: flowers_imitation/1182.png  \n",
            "  inflating: flowers_imitation/1183.png  \n",
            "  inflating: flowers_imitation/1184.png  \n",
            "  inflating: flowers_imitation/1185.png  \n",
            "  inflating: flowers_imitation/1186.png  \n",
            "  inflating: flowers_imitation/1187.png  \n",
            "  inflating: flowers_imitation/1188.png  \n",
            "  inflating: flowers_imitation/1189.png  \n",
            "  inflating: flowers_imitation/119.png  \n",
            "  inflating: flowers_imitation/1190.png  \n",
            "  inflating: flowers_imitation/1191.png  \n",
            "  inflating: flowers_imitation/1192.png  \n",
            "  inflating: flowers_imitation/1193.png  \n",
            "  inflating: flowers_imitation/1194.png  \n",
            "  inflating: flowers_imitation/1195.png  \n",
            "  inflating: flowers_imitation/1196.png  \n",
            "  inflating: flowers_imitation/1197.png  \n",
            "  inflating: flowers_imitation/1198.png  \n",
            "  inflating: flowers_imitation/1199.png  \n",
            "  inflating: flowers_imitation/12.png  \n",
            "  inflating: flowers_imitation/120.png  \n",
            "  inflating: flowers_imitation/1200.png  \n",
            "  inflating: flowers_imitation/1201.png  \n",
            "  inflating: flowers_imitation/1202.png  \n",
            "  inflating: flowers_imitation/1203.png  \n",
            "  inflating: flowers_imitation/1204.png  \n",
            "  inflating: flowers_imitation/1205.png  \n",
            "  inflating: flowers_imitation/1206.png  \n",
            "  inflating: flowers_imitation/1207.png  \n",
            "  inflating: flowers_imitation/1208.png  \n",
            "  inflating: flowers_imitation/1209.png  \n",
            "  inflating: flowers_imitation/121.png  \n",
            "  inflating: flowers_imitation/1210.png  \n",
            "  inflating: flowers_imitation/1211.png  \n",
            "  inflating: flowers_imitation/1212.png  \n",
            "  inflating: flowers_imitation/1213.png  \n",
            "  inflating: flowers_imitation/1214.png  \n",
            "  inflating: flowers_imitation/1215.png  \n",
            "  inflating: flowers_imitation/1216.png  \n",
            "  inflating: flowers_imitation/1217.png  \n",
            "  inflating: flowers_imitation/1218.png  \n",
            "  inflating: flowers_imitation/1219.png  \n",
            "  inflating: flowers_imitation/122.png  \n",
            "  inflating: flowers_imitation/1220.png  \n",
            "  inflating: flowers_imitation/1221.png  \n",
            "  inflating: flowers_imitation/1222.png  \n",
            "  inflating: flowers_imitation/1223.png  \n",
            "  inflating: flowers_imitation/1224.png  \n",
            "  inflating: flowers_imitation/1225.png  \n",
            "  inflating: flowers_imitation/1226.png  \n",
            "  inflating: flowers_imitation/1227.png  \n",
            "  inflating: flowers_imitation/1228.png  \n",
            "  inflating: flowers_imitation/1229.png  \n",
            "  inflating: flowers_imitation/123.png  \n",
            "  inflating: flowers_imitation/1230.png  \n",
            "  inflating: flowers_imitation/1231.png  \n",
            "  inflating: flowers_imitation/1232.png  \n",
            "  inflating: flowers_imitation/1233.png  \n",
            "  inflating: flowers_imitation/1234.png  \n",
            "  inflating: flowers_imitation/1235.png  \n",
            "  inflating: flowers_imitation/1236.png  \n",
            "  inflating: flowers_imitation/1237.png  \n",
            "  inflating: flowers_imitation/1238.png  \n",
            "  inflating: flowers_imitation/1239.png  \n",
            "  inflating: flowers_imitation/124.png  \n",
            "  inflating: flowers_imitation/1240.png  \n",
            "  inflating: flowers_imitation/1241.png  \n",
            "  inflating: flowers_imitation/1242.png  \n",
            "  inflating: flowers_imitation/1243.png  \n",
            "  inflating: flowers_imitation/1244.png  \n",
            "  inflating: flowers_imitation/1245.png  \n",
            "  inflating: flowers_imitation/1246.png  \n",
            "  inflating: flowers_imitation/1247.png  \n",
            "  inflating: flowers_imitation/1248.png  \n",
            "  inflating: flowers_imitation/1249.png  \n",
            "  inflating: flowers_imitation/125.png  \n",
            "  inflating: flowers_imitation/1250.png  \n",
            "  inflating: flowers_imitation/1251.png  \n",
            "  inflating: flowers_imitation/1252.png  \n",
            "  inflating: flowers_imitation/1253.png  \n",
            "  inflating: flowers_imitation/1254.png  \n",
            "  inflating: flowers_imitation/1255.png  \n",
            "  inflating: flowers_imitation/1256.png  \n",
            "  inflating: flowers_imitation/1257.png  \n",
            "  inflating: flowers_imitation/1258.png  \n",
            "  inflating: flowers_imitation/1259.png  \n",
            "  inflating: flowers_imitation/126.png  \n",
            "  inflating: flowers_imitation/1260.png  \n",
            "  inflating: flowers_imitation/1261.png  \n",
            "  inflating: flowers_imitation/1262.png  \n",
            "  inflating: flowers_imitation/1263.png  \n",
            "  inflating: flowers_imitation/1264.png  \n",
            "  inflating: flowers_imitation/1265.png  \n",
            "  inflating: flowers_imitation/1266.png  \n",
            "  inflating: flowers_imitation/1267.png  \n",
            "  inflating: flowers_imitation/1268.png  \n",
            "  inflating: flowers_imitation/1269.png  \n",
            "  inflating: flowers_imitation/127.png  \n",
            "  inflating: flowers_imitation/1270.png  \n",
            "  inflating: flowers_imitation/1271.png  \n",
            "  inflating: flowers_imitation/1272.png  \n",
            "  inflating: flowers_imitation/1273.png  \n",
            "  inflating: flowers_imitation/1274.png  \n",
            "  inflating: flowers_imitation/1275.png  \n",
            "  inflating: flowers_imitation/1276.png  \n",
            "  inflating: flowers_imitation/1277.png  \n",
            "  inflating: flowers_imitation/1278.png  \n",
            "  inflating: flowers_imitation/1279.png  \n",
            "  inflating: flowers_imitation/128.png  \n",
            "  inflating: flowers_imitation/1280.png  \n",
            "  inflating: flowers_imitation/1281.png  \n",
            "  inflating: flowers_imitation/1282.png  \n",
            "  inflating: flowers_imitation/1283.png  \n",
            "  inflating: flowers_imitation/1284.png  \n",
            "  inflating: flowers_imitation/1285.png  \n",
            "  inflating: flowers_imitation/1286.png  \n",
            "  inflating: flowers_imitation/1287.png  \n",
            "  inflating: flowers_imitation/1288.png  \n",
            "  inflating: flowers_imitation/1289.png  \n",
            "  inflating: flowers_imitation/129.png  \n",
            "  inflating: flowers_imitation/1290.png  \n",
            "  inflating: flowers_imitation/1291.png  \n",
            "  inflating: flowers_imitation/1292.png  \n",
            "  inflating: flowers_imitation/1293.png  \n",
            "  inflating: flowers_imitation/1294.png  \n",
            "  inflating: flowers_imitation/1295.png  \n",
            "  inflating: flowers_imitation/1296.png  \n",
            "  inflating: flowers_imitation/1297.png  \n",
            "  inflating: flowers_imitation/1298.png  \n",
            "  inflating: flowers_imitation/1299.png  \n",
            "  inflating: flowers_imitation/13.png  \n",
            "  inflating: flowers_imitation/130.png  \n",
            "  inflating: flowers_imitation/1300.png  \n",
            "  inflating: flowers_imitation/1301.png  \n",
            "  inflating: flowers_imitation/1302.png  \n",
            "  inflating: flowers_imitation/1303.png  \n",
            "  inflating: flowers_imitation/1304.png  \n",
            "  inflating: flowers_imitation/1305.png  \n",
            "  inflating: flowers_imitation/1306.png  \n",
            "  inflating: flowers_imitation/1307.png  \n",
            "  inflating: flowers_imitation/1308.png  \n",
            "  inflating: flowers_imitation/1309.png  \n",
            "  inflating: flowers_imitation/131.png  \n",
            "  inflating: flowers_imitation/1310.png  \n",
            "  inflating: flowers_imitation/1311.png  \n",
            "  inflating: flowers_imitation/1312.png  \n",
            "  inflating: flowers_imitation/1313.png  \n",
            "  inflating: flowers_imitation/1314.png  \n",
            "  inflating: flowers_imitation/1315.png  \n",
            "  inflating: flowers_imitation/1316.png  \n",
            "  inflating: flowers_imitation/1317.png  \n",
            "  inflating: flowers_imitation/1318.png  \n",
            "  inflating: flowers_imitation/1319.png  \n",
            "  inflating: flowers_imitation/132.png  \n",
            "  inflating: flowers_imitation/1320.png  \n",
            "  inflating: flowers_imitation/1321.png  \n",
            "  inflating: flowers_imitation/1322.png  \n",
            "  inflating: flowers_imitation/1323.png  \n",
            "  inflating: flowers_imitation/1324.png  \n",
            "  inflating: flowers_imitation/1325.png  \n",
            "  inflating: flowers_imitation/1326.png  \n",
            "  inflating: flowers_imitation/1327.png  \n",
            "  inflating: flowers_imitation/1328.png  \n",
            "  inflating: flowers_imitation/1329.png  \n",
            "  inflating: flowers_imitation/133.png  \n",
            "  inflating: flowers_imitation/1330.png  \n",
            "  inflating: flowers_imitation/1331.png  \n",
            "  inflating: flowers_imitation/1332.png  \n",
            "  inflating: flowers_imitation/1333.png  \n",
            "  inflating: flowers_imitation/1334.png  \n",
            "  inflating: flowers_imitation/1335.png  \n",
            "  inflating: flowers_imitation/1336.png  \n",
            "  inflating: flowers_imitation/1337.png  \n",
            "  inflating: flowers_imitation/1338.png  \n",
            "  inflating: flowers_imitation/1339.png  \n",
            "  inflating: flowers_imitation/134.png  \n",
            "  inflating: flowers_imitation/1340.png  \n",
            "  inflating: flowers_imitation/1341.png  \n",
            "  inflating: flowers_imitation/1342.png  \n",
            "  inflating: flowers_imitation/1343.png  \n",
            "  inflating: flowers_imitation/1344.png  \n",
            "  inflating: flowers_imitation/1345.png  \n",
            "  inflating: flowers_imitation/1346.png  \n",
            "  inflating: flowers_imitation/1347.png  \n",
            "  inflating: flowers_imitation/1348.png  \n",
            "  inflating: flowers_imitation/1349.png  \n",
            "  inflating: flowers_imitation/135.png  \n",
            "  inflating: flowers_imitation/1350.png  \n",
            "  inflating: flowers_imitation/1351.png  \n",
            "  inflating: flowers_imitation/1352.png  \n",
            "  inflating: flowers_imitation/1353.png  \n",
            "  inflating: flowers_imitation/1354.png  \n",
            "  inflating: flowers_imitation/1355.png  \n",
            "  inflating: flowers_imitation/1356.png  \n",
            "  inflating: flowers_imitation/1357.png  \n",
            "  inflating: flowers_imitation/1358.png  \n",
            "  inflating: flowers_imitation/1359.png  \n",
            "  inflating: flowers_imitation/136.png  \n",
            "  inflating: flowers_imitation/1360.png  \n",
            "  inflating: flowers_imitation/1361.png  \n",
            "  inflating: flowers_imitation/1362.png  \n",
            "  inflating: flowers_imitation/1363.png  \n",
            "  inflating: flowers_imitation/1364.png  \n",
            "  inflating: flowers_imitation/1365.png  \n",
            "  inflating: flowers_imitation/1366.png  \n",
            "  inflating: flowers_imitation/1367.png  \n",
            "  inflating: flowers_imitation/1368.png  \n",
            "  inflating: flowers_imitation/1369.png  \n",
            "  inflating: flowers_imitation/137.png  \n",
            "  inflating: flowers_imitation/1370.png  \n",
            "  inflating: flowers_imitation/1371.png  \n",
            "  inflating: flowers_imitation/1372.png  \n",
            "  inflating: flowers_imitation/1373.png  \n",
            "  inflating: flowers_imitation/1374.png  \n",
            "  inflating: flowers_imitation/1375.png  \n",
            "  inflating: flowers_imitation/1376.png  \n",
            "  inflating: flowers_imitation/1377.png  \n",
            "  inflating: flowers_imitation/1378.png  \n",
            "  inflating: flowers_imitation/1379.png  \n",
            "  inflating: flowers_imitation/138.png  \n",
            "  inflating: flowers_imitation/1380.png  \n",
            "  inflating: flowers_imitation/1381.png  \n",
            "  inflating: flowers_imitation/1382.png  \n",
            "  inflating: flowers_imitation/1383.png  \n",
            "  inflating: flowers_imitation/1384.png  \n",
            "  inflating: flowers_imitation/1385.png  \n",
            "  inflating: flowers_imitation/1386.png  \n",
            "  inflating: flowers_imitation/1387.png  \n",
            "  inflating: flowers_imitation/1388.png  \n",
            "  inflating: flowers_imitation/1389.png  \n",
            "  inflating: flowers_imitation/139.png  \n",
            "  inflating: flowers_imitation/1390.png  \n",
            "  inflating: flowers_imitation/1391.png  \n",
            "  inflating: flowers_imitation/1392.png  \n",
            "  inflating: flowers_imitation/1393.png  \n",
            "  inflating: flowers_imitation/1394.png  \n",
            "  inflating: flowers_imitation/1395.png  \n",
            "  inflating: flowers_imitation/1396.png  \n",
            "  inflating: flowers_imitation/1397.png  \n",
            "  inflating: flowers_imitation/1398.png  \n",
            "  inflating: flowers_imitation/1399.png  \n",
            "  inflating: flowers_imitation/14.png  \n",
            "  inflating: flowers_imitation/140.png  \n",
            "  inflating: flowers_imitation/1400.png  \n",
            "  inflating: flowers_imitation/1401.png  \n",
            "  inflating: flowers_imitation/1402.png  \n",
            "  inflating: flowers_imitation/1403.png  \n",
            "  inflating: flowers_imitation/1404.png  \n",
            "  inflating: flowers_imitation/1405.png  \n",
            "  inflating: flowers_imitation/1406.png  \n",
            "  inflating: flowers_imitation/1407.png  \n",
            "  inflating: flowers_imitation/1408.png  \n",
            "  inflating: flowers_imitation/1409.png  \n",
            "  inflating: flowers_imitation/141.png  \n",
            "  inflating: flowers_imitation/1410.png  \n",
            "  inflating: flowers_imitation/1411.png  \n",
            "  inflating: flowers_imitation/1412.png  \n",
            "  inflating: flowers_imitation/1413.png  \n",
            "  inflating: flowers_imitation/1414.png  \n",
            "  inflating: flowers_imitation/1415.png  \n",
            "  inflating: flowers_imitation/1416.png  \n",
            "  inflating: flowers_imitation/1417.png  \n",
            "  inflating: flowers_imitation/1418.png  \n",
            "  inflating: flowers_imitation/1419.png  \n",
            "  inflating: flowers_imitation/142.png  \n",
            "  inflating: flowers_imitation/1420.png  \n",
            "  inflating: flowers_imitation/1421.png  \n",
            "  inflating: flowers_imitation/1422.png  \n",
            "  inflating: flowers_imitation/1423.png  \n",
            "  inflating: flowers_imitation/1424.png  \n",
            "  inflating: flowers_imitation/1425.png  \n",
            "  inflating: flowers_imitation/1426.png  \n",
            "  inflating: flowers_imitation/1427.png  \n",
            "  inflating: flowers_imitation/1428.png  \n",
            "  inflating: flowers_imitation/1429.png  \n",
            "  inflating: flowers_imitation/143.png  \n",
            "  inflating: flowers_imitation/1430.png  \n",
            "  inflating: flowers_imitation/1431.png  \n",
            "  inflating: flowers_imitation/1432.png  \n",
            "  inflating: flowers_imitation/1433.png  \n",
            "  inflating: flowers_imitation/1434.png  \n",
            "  inflating: flowers_imitation/1435.png  \n",
            "  inflating: flowers_imitation/1436.png  \n",
            "  inflating: flowers_imitation/1437.png  \n",
            "  inflating: flowers_imitation/1438.png  \n",
            "  inflating: flowers_imitation/1439.png  \n",
            "  inflating: flowers_imitation/144.png  \n",
            "  inflating: flowers_imitation/1440.png  \n",
            "  inflating: flowers_imitation/1441.png  \n",
            "  inflating: flowers_imitation/1442.png  \n",
            "  inflating: flowers_imitation/1443.png  \n",
            "  inflating: flowers_imitation/1444.png  \n",
            "  inflating: flowers_imitation/1445.png  \n",
            "  inflating: flowers_imitation/1446.png  \n",
            "  inflating: flowers_imitation/1447.png  \n",
            "  inflating: flowers_imitation/1448.png  \n",
            "  inflating: flowers_imitation/1449.png  \n",
            "  inflating: flowers_imitation/145.png  \n",
            "  inflating: flowers_imitation/1450.png  \n",
            "  inflating: flowers_imitation/1451.png  \n",
            "  inflating: flowers_imitation/1452.png  \n",
            "  inflating: flowers_imitation/1453.png  \n",
            "  inflating: flowers_imitation/1454.png  \n",
            "  inflating: flowers_imitation/1455.png  \n",
            "  inflating: flowers_imitation/1456.png  \n",
            "  inflating: flowers_imitation/1457.png  \n",
            "  inflating: flowers_imitation/1458.png  \n",
            "  inflating: flowers_imitation/1459.png  \n",
            "  inflating: flowers_imitation/146.png  \n",
            "  inflating: flowers_imitation/1460.png  \n",
            "  inflating: flowers_imitation/1461.png  \n",
            "  inflating: flowers_imitation/1462.png  \n",
            "  inflating: flowers_imitation/1463.png  \n",
            "  inflating: flowers_imitation/1464.png  \n",
            "  inflating: flowers_imitation/1465.png  \n",
            "  inflating: flowers_imitation/1466.png  \n",
            "  inflating: flowers_imitation/1467.png  \n",
            "  inflating: flowers_imitation/1468.png  \n",
            "  inflating: flowers_imitation/1469.png  \n",
            "  inflating: flowers_imitation/147.png  \n",
            "  inflating: flowers_imitation/1470.png  \n",
            "  inflating: flowers_imitation/1471.png  \n",
            "  inflating: flowers_imitation/1472.png  \n",
            "  inflating: flowers_imitation/1473.png  \n",
            "  inflating: flowers_imitation/1474.png  \n",
            "  inflating: flowers_imitation/1475.png  \n",
            "  inflating: flowers_imitation/1476.png  \n",
            "  inflating: flowers_imitation/1477.png  \n",
            "  inflating: flowers_imitation/1478.png  \n",
            "  inflating: flowers_imitation/1479.png  \n",
            "  inflating: flowers_imitation/148.png  \n",
            "  inflating: flowers_imitation/1480.png  \n",
            "  inflating: flowers_imitation/1481.png  \n",
            "  inflating: flowers_imitation/1482.png  \n",
            "  inflating: flowers_imitation/1483.png  \n",
            "  inflating: flowers_imitation/1484.png  \n",
            "  inflating: flowers_imitation/1485.png  \n",
            "  inflating: flowers_imitation/1486.png  \n",
            "  inflating: flowers_imitation/1487.png  \n",
            "  inflating: flowers_imitation/1488.png  \n",
            "  inflating: flowers_imitation/1489.png  \n",
            "  inflating: flowers_imitation/149.png  \n",
            "  inflating: flowers_imitation/1490.png  \n",
            "  inflating: flowers_imitation/1491.png  \n",
            "  inflating: flowers_imitation/1492.png  \n",
            "  inflating: flowers_imitation/1493.png  \n",
            "  inflating: flowers_imitation/1494.png  \n",
            "  inflating: flowers_imitation/1495.png  \n",
            "  inflating: flowers_imitation/1496.png  \n",
            "  inflating: flowers_imitation/1497.png  \n",
            "  inflating: flowers_imitation/1498.png  \n",
            "  inflating: flowers_imitation/1499.png  \n",
            "  inflating: flowers_imitation/15.png  \n",
            "  inflating: flowers_imitation/150.png  \n",
            "  inflating: flowers_imitation/1500.png  \n",
            "  inflating: flowers_imitation/1501.png  \n",
            "  inflating: flowers_imitation/1502.png  \n",
            "  inflating: flowers_imitation/1503.png  \n",
            "  inflating: flowers_imitation/1504.png  \n",
            "  inflating: flowers_imitation/1505.png  \n",
            "  inflating: flowers_imitation/1506.png  \n",
            "  inflating: flowers_imitation/1507.png  \n",
            "  inflating: flowers_imitation/1508.png  \n",
            "  inflating: flowers_imitation/1509.png  \n",
            "  inflating: flowers_imitation/151.png  \n",
            "  inflating: flowers_imitation/1510.png  \n",
            "  inflating: flowers_imitation/1511.png  \n",
            "  inflating: flowers_imitation/1512.png  \n",
            "  inflating: flowers_imitation/1513.png  \n",
            "  inflating: flowers_imitation/1514.png  \n",
            "  inflating: flowers_imitation/1515.png  \n",
            "  inflating: flowers_imitation/1516.png  \n",
            "  inflating: flowers_imitation/1517.png  \n",
            "  inflating: flowers_imitation/1518.png  \n",
            "  inflating: flowers_imitation/1519.png  \n",
            "  inflating: flowers_imitation/152.png  \n",
            "  inflating: flowers_imitation/1520.png  \n",
            "  inflating: flowers_imitation/1521.png  \n",
            "  inflating: flowers_imitation/1522.png  \n",
            "  inflating: flowers_imitation/1523.png  \n",
            "  inflating: flowers_imitation/1524.png  \n",
            "  inflating: flowers_imitation/1525.png  \n",
            "  inflating: flowers_imitation/1526.png  \n",
            "  inflating: flowers_imitation/1527.png  \n",
            "  inflating: flowers_imitation/1528.png  \n",
            "  inflating: flowers_imitation/1529.png  \n",
            "  inflating: flowers_imitation/153.png  \n",
            "  inflating: flowers_imitation/1530.png  \n",
            "  inflating: flowers_imitation/1531.png  \n",
            "  inflating: flowers_imitation/1532.png  \n",
            "  inflating: flowers_imitation/1533.png  \n",
            "  inflating: flowers_imitation/1534.png  \n",
            "  inflating: flowers_imitation/1535.png  \n",
            "  inflating: flowers_imitation/1536.png  \n",
            "  inflating: flowers_imitation/1537.png  \n",
            "  inflating: flowers_imitation/1538.png  \n",
            "  inflating: flowers_imitation/1539.png  \n",
            "  inflating: flowers_imitation/154.png  \n",
            "  inflating: flowers_imitation/1540.png  \n",
            "  inflating: flowers_imitation/1541.png  \n",
            "  inflating: flowers_imitation/1542.png  \n",
            "  inflating: flowers_imitation/1543.png  \n",
            "  inflating: flowers_imitation/1544.png  \n",
            "  inflating: flowers_imitation/1545.png  \n",
            "  inflating: flowers_imitation/1546.png  \n",
            "  inflating: flowers_imitation/1547.png  \n",
            "  inflating: flowers_imitation/1548.png  \n",
            "  inflating: flowers_imitation/1549.png  \n",
            "  inflating: flowers_imitation/155.png  \n",
            "  inflating: flowers_imitation/1550.png  \n",
            "  inflating: flowers_imitation/1551.png  \n",
            "  inflating: flowers_imitation/1552.png  \n",
            "  inflating: flowers_imitation/1553.png  \n",
            "  inflating: flowers_imitation/1554.png  \n",
            "  inflating: flowers_imitation/1555.png  \n",
            "  inflating: flowers_imitation/1556.png  \n",
            "  inflating: flowers_imitation/1557.png  \n",
            "  inflating: flowers_imitation/1558.png  \n",
            "  inflating: flowers_imitation/1559.png  \n",
            "  inflating: flowers_imitation/156.png  \n",
            "  inflating: flowers_imitation/1560.png  \n",
            "  inflating: flowers_imitation/1561.png  \n",
            "  inflating: flowers_imitation/1562.png  \n",
            "  inflating: flowers_imitation/1563.png  \n",
            "  inflating: flowers_imitation/1564.png  \n",
            "  inflating: flowers_imitation/1565.png  \n",
            "  inflating: flowers_imitation/1566.png  \n",
            "  inflating: flowers_imitation/1567.png  \n",
            "  inflating: flowers_imitation/1568.png  \n",
            "  inflating: flowers_imitation/1569.png  \n",
            "  inflating: flowers_imitation/157.png  \n",
            "  inflating: flowers_imitation/1570.png  \n",
            "  inflating: flowers_imitation/1571.png  \n",
            "  inflating: flowers_imitation/1572.png  \n",
            "  inflating: flowers_imitation/1573.png  \n",
            "  inflating: flowers_imitation/1574.png  \n",
            "  inflating: flowers_imitation/1575.png  \n",
            "  inflating: flowers_imitation/1576.png  \n",
            "  inflating: flowers_imitation/1577.png  \n",
            "  inflating: flowers_imitation/1578.png  \n",
            "  inflating: flowers_imitation/1579.png  \n",
            "  inflating: flowers_imitation/158.png  \n",
            "  inflating: flowers_imitation/1580.png  \n",
            "  inflating: flowers_imitation/1581.png  \n",
            "  inflating: flowers_imitation/1582.png  \n",
            "  inflating: flowers_imitation/1583.png  \n",
            "  inflating: flowers_imitation/1584.png  \n",
            "  inflating: flowers_imitation/1585.png  \n",
            "  inflating: flowers_imitation/1586.png  \n",
            "  inflating: flowers_imitation/1587.png  \n",
            "  inflating: flowers_imitation/1588.png  \n",
            "  inflating: flowers_imitation/1589.png  \n",
            "  inflating: flowers_imitation/159.png  \n",
            "  inflating: flowers_imitation/1590.png  \n",
            "  inflating: flowers_imitation/1591.png  \n",
            "  inflating: flowers_imitation/1592.png  \n",
            "  inflating: flowers_imitation/1593.png  \n",
            "  inflating: flowers_imitation/1594.png  \n",
            "  inflating: flowers_imitation/1595.png  \n",
            "  inflating: flowers_imitation/1596.png  \n",
            "  inflating: flowers_imitation/1597.png  \n",
            "  inflating: flowers_imitation/1598.png  \n",
            "  inflating: flowers_imitation/1599.png  \n",
            "  inflating: flowers_imitation/16.png  \n",
            "  inflating: flowers_imitation/160.png  \n",
            "  inflating: flowers_imitation/1600.png  \n",
            "  inflating: flowers_imitation/1601.png  \n",
            "  inflating: flowers_imitation/1602.png  \n",
            "  inflating: flowers_imitation/1603.png  \n",
            "  inflating: flowers_imitation/1604.png  \n",
            "  inflating: flowers_imitation/1605.png  \n",
            "  inflating: flowers_imitation/1606.png  \n",
            "  inflating: flowers_imitation/1607.png  \n",
            "  inflating: flowers_imitation/1608.png  \n",
            "  inflating: flowers_imitation/1609.png  \n",
            "  inflating: flowers_imitation/161.png  \n",
            "  inflating: flowers_imitation/1610.png  \n",
            "  inflating: flowers_imitation/1611.png  \n",
            "  inflating: flowers_imitation/1612.png  \n",
            "  inflating: flowers_imitation/1613.png  \n",
            "  inflating: flowers_imitation/1614.png  \n",
            "  inflating: flowers_imitation/1615.png  \n",
            "  inflating: flowers_imitation/1616.png  \n",
            "  inflating: flowers_imitation/1617.png  \n",
            "  inflating: flowers_imitation/1618.png  \n",
            "  inflating: flowers_imitation/1619.png  \n",
            "  inflating: flowers_imitation/162.png  \n",
            "  inflating: flowers_imitation/1620.png  \n",
            "  inflating: flowers_imitation/1621.png  \n",
            "  inflating: flowers_imitation/1622.png  \n",
            "  inflating: flowers_imitation/1623.png  \n",
            "  inflating: flowers_imitation/1624.png  \n",
            "  inflating: flowers_imitation/1625.png  \n",
            "  inflating: flowers_imitation/1626.png  \n",
            "  inflating: flowers_imitation/1627.png  \n",
            "  inflating: flowers_imitation/1628.png  \n",
            "  inflating: flowers_imitation/1629.png  \n",
            "  inflating: flowers_imitation/163.png  \n",
            "  inflating: flowers_imitation/1630.png  \n",
            "  inflating: flowers_imitation/1631.png  \n",
            "  inflating: flowers_imitation/1632.png  \n",
            "  inflating: flowers_imitation/1633.png  \n",
            "  inflating: flowers_imitation/1634.png  \n",
            "  inflating: flowers_imitation/1635.png  \n",
            "  inflating: flowers_imitation/1636.png  \n",
            "  inflating: flowers_imitation/1637.png  \n",
            "  inflating: flowers_imitation/1638.png  \n",
            "  inflating: flowers_imitation/1639.png  \n",
            "  inflating: flowers_imitation/164.png  \n",
            "  inflating: flowers_imitation/1640.png  \n",
            "  inflating: flowers_imitation/1641.png  \n",
            "  inflating: flowers_imitation/1642.png  \n",
            "  inflating: flowers_imitation/1643.png  \n",
            "  inflating: flowers_imitation/1644.png  \n",
            "  inflating: flowers_imitation/1645.png  \n",
            "  inflating: flowers_imitation/1646.png  \n",
            "  inflating: flowers_imitation/1647.png  \n",
            "  inflating: flowers_imitation/1648.png  \n",
            "  inflating: flowers_imitation/1649.png  \n",
            "  inflating: flowers_imitation/165.png  \n",
            "  inflating: flowers_imitation/1650.png  \n",
            "  inflating: flowers_imitation/1651.png  \n",
            "  inflating: flowers_imitation/1652.png  \n",
            "  inflating: flowers_imitation/1653.png  \n",
            "  inflating: flowers_imitation/1654.png  \n",
            "  inflating: flowers_imitation/1655.png  \n",
            "  inflating: flowers_imitation/1656.png  \n",
            "  inflating: flowers_imitation/1657.png  \n",
            "  inflating: flowers_imitation/1658.png  \n",
            "  inflating: flowers_imitation/1659.png  \n",
            "  inflating: flowers_imitation/166.png  \n",
            "  inflating: flowers_imitation/1660.png  \n",
            "  inflating: flowers_imitation/1661.png  \n",
            "  inflating: flowers_imitation/1662.png  \n",
            "  inflating: flowers_imitation/1663.png  \n",
            "  inflating: flowers_imitation/1664.png  \n",
            "  inflating: flowers_imitation/1665.png  \n",
            "  inflating: flowers_imitation/1666.png  \n",
            "  inflating: flowers_imitation/1667.png  \n",
            "  inflating: flowers_imitation/1668.png  \n",
            "  inflating: flowers_imitation/1669.png  \n",
            "  inflating: flowers_imitation/167.png  \n",
            "  inflating: flowers_imitation/1670.png  \n",
            "  inflating: flowers_imitation/1671.png  \n",
            "  inflating: flowers_imitation/1672.png  \n",
            "  inflating: flowers_imitation/1673.png  \n",
            "  inflating: flowers_imitation/1674.png  \n",
            "  inflating: flowers_imitation/1675.png  \n",
            "  inflating: flowers_imitation/1676.png  \n",
            "  inflating: flowers_imitation/1677.png  \n",
            "  inflating: flowers_imitation/1678.png  \n",
            "  inflating: flowers_imitation/1679.png  \n",
            "  inflating: flowers_imitation/168.png  \n",
            "  inflating: flowers_imitation/1680.png  \n",
            "  inflating: flowers_imitation/1681.png  \n",
            "  inflating: flowers_imitation/1682.png  \n",
            "  inflating: flowers_imitation/1683.png  \n",
            "  inflating: flowers_imitation/1684.png  \n",
            "  inflating: flowers_imitation/1685.png  \n",
            "  inflating: flowers_imitation/1686.png  \n",
            "  inflating: flowers_imitation/1687.png  \n",
            "  inflating: flowers_imitation/1688.png  \n",
            "  inflating: flowers_imitation/1689.png  \n",
            "  inflating: flowers_imitation/169.png  \n",
            "  inflating: flowers_imitation/1690.png  \n",
            "  inflating: flowers_imitation/1691.png  \n",
            "  inflating: flowers_imitation/1692.png  \n",
            "  inflating: flowers_imitation/1693.png  \n",
            "  inflating: flowers_imitation/1694.png  \n",
            "  inflating: flowers_imitation/1695.png  \n",
            "  inflating: flowers_imitation/1696.png  \n",
            "  inflating: flowers_imitation/1697.png  \n",
            "  inflating: flowers_imitation/1698.png  \n",
            "  inflating: flowers_imitation/1699.png  \n",
            "  inflating: flowers_imitation/17.png  \n",
            "  inflating: flowers_imitation/170.png  \n",
            "  inflating: flowers_imitation/1700.png  \n",
            "  inflating: flowers_imitation/1701.png  \n",
            "  inflating: flowers_imitation/1702.png  \n",
            "  inflating: flowers_imitation/1703.png  \n",
            "  inflating: flowers_imitation/1704.png  \n",
            "  inflating: flowers_imitation/1705.png  \n",
            "  inflating: flowers_imitation/1706.png  \n",
            "  inflating: flowers_imitation/1707.png  \n",
            "  inflating: flowers_imitation/1708.png  \n",
            "  inflating: flowers_imitation/1709.png  \n",
            "  inflating: flowers_imitation/171.png  \n",
            "  inflating: flowers_imitation/1710.png  \n",
            "  inflating: flowers_imitation/1711.png  \n",
            "  inflating: flowers_imitation/1712.png  \n",
            "  inflating: flowers_imitation/1713.png  \n",
            "  inflating: flowers_imitation/1714.png  \n",
            "  inflating: flowers_imitation/1715.png  \n",
            "  inflating: flowers_imitation/1716.png  \n",
            "  inflating: flowers_imitation/1717.png  \n",
            "  inflating: flowers_imitation/1718.png  \n",
            "  inflating: flowers_imitation/1719.png  \n",
            "  inflating: flowers_imitation/172.png  \n",
            "  inflating: flowers_imitation/1720.png  \n",
            "  inflating: flowers_imitation/1721.png  \n",
            "  inflating: flowers_imitation/1722.png  \n",
            "  inflating: flowers_imitation/1723.png  \n",
            "  inflating: flowers_imitation/1724.png  \n",
            "  inflating: flowers_imitation/1725.png  \n",
            "  inflating: flowers_imitation/1726.png  \n",
            "  inflating: flowers_imitation/1727.png  \n",
            "  inflating: flowers_imitation/1728.png  \n",
            "  inflating: flowers_imitation/1729.png  \n",
            "  inflating: flowers_imitation/173.png  \n",
            "  inflating: flowers_imitation/1730.png  \n",
            "  inflating: flowers_imitation/1731.png  \n",
            "  inflating: flowers_imitation/1732.png  \n",
            "  inflating: flowers_imitation/1733.png  \n",
            "  inflating: flowers_imitation/1734.png  \n",
            "  inflating: flowers_imitation/1735.png  \n",
            "  inflating: flowers_imitation/1736.png  \n",
            "  inflating: flowers_imitation/1737.png  \n",
            "  inflating: flowers_imitation/1738.png  \n",
            "  inflating: flowers_imitation/1739.png  \n",
            "  inflating: flowers_imitation/174.png  \n",
            "  inflating: flowers_imitation/1740.png  \n",
            "  inflating: flowers_imitation/1741.png  \n",
            "  inflating: flowers_imitation/1742.png  \n",
            "  inflating: flowers_imitation/1743.png  \n",
            "  inflating: flowers_imitation/1744.png  \n",
            "  inflating: flowers_imitation/1745.png  \n",
            "  inflating: flowers_imitation/1746.png  \n",
            "  inflating: flowers_imitation/1747.png  \n",
            "  inflating: flowers_imitation/1748.png  \n",
            "  inflating: flowers_imitation/1749.png  \n",
            "  inflating: flowers_imitation/175.png  \n",
            "  inflating: flowers_imitation/1750.png  \n",
            "  inflating: flowers_imitation/1751.png  \n",
            "  inflating: flowers_imitation/1752.png  \n",
            "  inflating: flowers_imitation/1753.png  \n",
            "  inflating: flowers_imitation/1754.png  \n",
            "  inflating: flowers_imitation/1755.png  \n",
            "  inflating: flowers_imitation/1756.png  \n",
            "  inflating: flowers_imitation/1757.png  \n",
            "  inflating: flowers_imitation/1758.png  \n",
            "  inflating: flowers_imitation/1759.png  \n",
            "  inflating: flowers_imitation/176.png  \n",
            "  inflating: flowers_imitation/1760.png  \n",
            "  inflating: flowers_imitation/1761.png  \n",
            "  inflating: flowers_imitation/1762.png  \n",
            "  inflating: flowers_imitation/1763.png  \n",
            "  inflating: flowers_imitation/1764.png  \n",
            "  inflating: flowers_imitation/1765.png  \n",
            "  inflating: flowers_imitation/1766.png  \n",
            "  inflating: flowers_imitation/1767.png  \n",
            "  inflating: flowers_imitation/1768.png  \n",
            "  inflating: flowers_imitation/1769.png  \n",
            "  inflating: flowers_imitation/177.png  \n",
            "  inflating: flowers_imitation/1770.png  \n",
            "  inflating: flowers_imitation/1771.png  \n",
            "  inflating: flowers_imitation/1772.png  \n",
            "  inflating: flowers_imitation/1773.png  \n",
            "  inflating: flowers_imitation/1774.png  \n",
            "  inflating: flowers_imitation/1775.png  \n",
            "  inflating: flowers_imitation/1776.png  \n",
            "  inflating: flowers_imitation/1777.png  \n",
            "  inflating: flowers_imitation/1778.png  \n",
            "  inflating: flowers_imitation/1779.png  \n",
            "  inflating: flowers_imitation/178.png  \n",
            "  inflating: flowers_imitation/1780.png  \n",
            "  inflating: flowers_imitation/1781.png  \n",
            "  inflating: flowers_imitation/1782.png  \n",
            "  inflating: flowers_imitation/1783.png  \n",
            "  inflating: flowers_imitation/1784.png  \n",
            "  inflating: flowers_imitation/1785.png  \n",
            "  inflating: flowers_imitation/1786.png  \n",
            "  inflating: flowers_imitation/1787.png  \n",
            "  inflating: flowers_imitation/1788.png  \n",
            "  inflating: flowers_imitation/1789.png  \n",
            "  inflating: flowers_imitation/179.png  \n",
            "  inflating: flowers_imitation/1790.png  \n",
            "  inflating: flowers_imitation/1791.png  \n",
            "  inflating: flowers_imitation/1792.png  \n",
            "  inflating: flowers_imitation/1793.png  \n",
            "  inflating: flowers_imitation/1794.png  \n",
            "  inflating: flowers_imitation/1795.png  \n",
            "  inflating: flowers_imitation/1796.png  \n",
            "  inflating: flowers_imitation/1797.png  \n",
            "  inflating: flowers_imitation/1798.png  \n",
            "  inflating: flowers_imitation/1799.png  \n",
            "  inflating: flowers_imitation/18.png  \n",
            "  inflating: flowers_imitation/180.png  \n",
            "  inflating: flowers_imitation/1800.png  \n",
            "  inflating: flowers_imitation/1801.png  \n",
            "  inflating: flowers_imitation/1802.png  \n",
            "  inflating: flowers_imitation/1803.png  \n",
            "  inflating: flowers_imitation/1804.png  \n",
            "  inflating: flowers_imitation/1805.png  \n",
            "  inflating: flowers_imitation/1806.png  \n",
            "  inflating: flowers_imitation/1807.png  \n",
            "  inflating: flowers_imitation/1808.png  \n",
            "  inflating: flowers_imitation/1809.png  \n",
            "  inflating: flowers_imitation/181.png  \n",
            "  inflating: flowers_imitation/1810.png  \n",
            "  inflating: flowers_imitation/1811.png  \n",
            "  inflating: flowers_imitation/1812.png  \n",
            "  inflating: flowers_imitation/1813.png  \n",
            "  inflating: flowers_imitation/1814.png  \n",
            "  inflating: flowers_imitation/1815.png  \n",
            "  inflating: flowers_imitation/1816.png  \n",
            "  inflating: flowers_imitation/1817.png  \n",
            "  inflating: flowers_imitation/1818.png  \n",
            "  inflating: flowers_imitation/1819.png  \n",
            "  inflating: flowers_imitation/182.png  \n",
            "  inflating: flowers_imitation/1820.png  \n",
            "  inflating: flowers_imitation/1821.png  \n",
            "  inflating: flowers_imitation/1822.png  \n",
            "  inflating: flowers_imitation/1823.png  \n",
            "  inflating: flowers_imitation/1824.png  \n",
            "  inflating: flowers_imitation/1825.png  \n",
            "  inflating: flowers_imitation/1826.png  \n",
            "  inflating: flowers_imitation/1827.png  \n",
            "  inflating: flowers_imitation/1828.png  \n",
            "  inflating: flowers_imitation/1829.png  \n",
            "  inflating: flowers_imitation/183.png  \n",
            "  inflating: flowers_imitation/1830.png  \n",
            "  inflating: flowers_imitation/1831.png  \n",
            "  inflating: flowers_imitation/1832.png  \n",
            "  inflating: flowers_imitation/1833.png  \n",
            "  inflating: flowers_imitation/1834.png  \n",
            "  inflating: flowers_imitation/1835.png  \n",
            "  inflating: flowers_imitation/1836.png  \n",
            "  inflating: flowers_imitation/1837.png  \n",
            "  inflating: flowers_imitation/1838.png  \n",
            "  inflating: flowers_imitation/1839.png  \n",
            "  inflating: flowers_imitation/184.png  \n",
            "  inflating: flowers_imitation/1840.png  \n",
            "  inflating: flowers_imitation/1841.png  \n",
            "  inflating: flowers_imitation/1842.png  \n",
            "  inflating: flowers_imitation/1843.png  \n",
            "  inflating: flowers_imitation/1844.png  \n",
            "  inflating: flowers_imitation/1845.png  \n",
            "  inflating: flowers_imitation/1846.png  \n",
            "  inflating: flowers_imitation/1847.png  \n",
            "  inflating: flowers_imitation/1848.png  \n",
            "  inflating: flowers_imitation/1849.png  \n",
            "  inflating: flowers_imitation/185.png  \n",
            "  inflating: flowers_imitation/1850.png  \n",
            "  inflating: flowers_imitation/1851.png  \n",
            "  inflating: flowers_imitation/1852.png  \n",
            "  inflating: flowers_imitation/1853.png  \n",
            "  inflating: flowers_imitation/1854.png  \n",
            "  inflating: flowers_imitation/1855.png  \n",
            "  inflating: flowers_imitation/1856.png  \n",
            "  inflating: flowers_imitation/1857.png  \n",
            "  inflating: flowers_imitation/1858.png  \n",
            "  inflating: flowers_imitation/1859.png  \n",
            "  inflating: flowers_imitation/186.png  \n",
            "  inflating: flowers_imitation/1860.png  \n",
            "  inflating: flowers_imitation/1861.png  \n",
            "  inflating: flowers_imitation/1862.png  \n",
            "  inflating: flowers_imitation/1863.png  \n",
            "  inflating: flowers_imitation/1864.png  \n",
            "  inflating: flowers_imitation/1865.png  \n",
            "  inflating: flowers_imitation/1866.png  \n",
            "  inflating: flowers_imitation/1867.png  \n",
            "  inflating: flowers_imitation/1868.png  \n",
            "  inflating: flowers_imitation/1869.png  \n",
            "  inflating: flowers_imitation/187.png  \n",
            "  inflating: flowers_imitation/1870.png  \n",
            "  inflating: flowers_imitation/1871.png  \n",
            "  inflating: flowers_imitation/1872.png  \n",
            "  inflating: flowers_imitation/1873.png  \n",
            "  inflating: flowers_imitation/1874.png  \n",
            "  inflating: flowers_imitation/1875.png  \n",
            "  inflating: flowers_imitation/1876.png  \n",
            "  inflating: flowers_imitation/1877.png  \n",
            "  inflating: flowers_imitation/1878.png  \n",
            "  inflating: flowers_imitation/1879.png  \n",
            "  inflating: flowers_imitation/188.png  \n",
            "  inflating: flowers_imitation/1880.png  \n",
            "  inflating: flowers_imitation/1881.png  \n",
            "  inflating: flowers_imitation/1882.png  \n",
            "  inflating: flowers_imitation/1883.png  \n",
            "  inflating: flowers_imitation/1884.png  \n",
            "  inflating: flowers_imitation/1885.png  \n",
            "  inflating: flowers_imitation/1886.png  \n",
            "  inflating: flowers_imitation/1887.png  \n",
            "  inflating: flowers_imitation/1888.png  \n",
            "  inflating: flowers_imitation/1889.png  \n",
            "  inflating: flowers_imitation/189.png  \n",
            "  inflating: flowers_imitation/1890.png  \n",
            "  inflating: flowers_imitation/1891.png  \n",
            "  inflating: flowers_imitation/1892.png  \n",
            "  inflating: flowers_imitation/1893.png  \n",
            "  inflating: flowers_imitation/1894.png  \n",
            "  inflating: flowers_imitation/1895.png  \n",
            "  inflating: flowers_imitation/1896.png  \n",
            "  inflating: flowers_imitation/1897.png  \n",
            "  inflating: flowers_imitation/1898.png  \n",
            "  inflating: flowers_imitation/1899.png  \n",
            "  inflating: flowers_imitation/19.png  \n",
            "  inflating: flowers_imitation/190.png  \n",
            "  inflating: flowers_imitation/1900.png  \n",
            "  inflating: flowers_imitation/1901.png  \n",
            "  inflating: flowers_imitation/1902.png  \n",
            "  inflating: flowers_imitation/1903.png  \n",
            "  inflating: flowers_imitation/1904.png  \n",
            "  inflating: flowers_imitation/1905.png  \n",
            "  inflating: flowers_imitation/1906.png  \n",
            "  inflating: flowers_imitation/1907.png  \n",
            "  inflating: flowers_imitation/1908.png  \n",
            "  inflating: flowers_imitation/1909.png  \n",
            "  inflating: flowers_imitation/191.png  \n",
            "  inflating: flowers_imitation/1910.png  \n",
            "  inflating: flowers_imitation/1911.png  \n",
            "  inflating: flowers_imitation/1912.png  \n",
            "  inflating: flowers_imitation/1913.png  \n",
            "  inflating: flowers_imitation/1914.png  \n",
            "  inflating: flowers_imitation/1915.png  \n",
            "  inflating: flowers_imitation/1916.png  \n",
            "  inflating: flowers_imitation/1917.png  \n",
            "  inflating: flowers_imitation/1918.png  \n",
            "  inflating: flowers_imitation/1919.png  \n",
            "  inflating: flowers_imitation/192.png  \n",
            "  inflating: flowers_imitation/1920.png  \n",
            "  inflating: flowers_imitation/1921.png  \n",
            "  inflating: flowers_imitation/1922.png  \n",
            "  inflating: flowers_imitation/1923.png  \n",
            "  inflating: flowers_imitation/1924.png  \n",
            "  inflating: flowers_imitation/1925.png  \n",
            "  inflating: flowers_imitation/1926.png  \n",
            "  inflating: flowers_imitation/1927.png  \n",
            "  inflating: flowers_imitation/1928.png  \n",
            "  inflating: flowers_imitation/1929.png  \n",
            "  inflating: flowers_imitation/193.png  \n",
            "  inflating: flowers_imitation/1930.png  \n",
            "  inflating: flowers_imitation/1931.png  \n",
            "  inflating: flowers_imitation/1932.png  \n",
            "  inflating: flowers_imitation/1933.png  \n",
            "  inflating: flowers_imitation/1934.png  \n",
            "  inflating: flowers_imitation/1935.png  \n",
            "  inflating: flowers_imitation/1936.png  \n",
            "  inflating: flowers_imitation/1937.png  \n",
            "  inflating: flowers_imitation/1938.png  \n",
            "  inflating: flowers_imitation/1939.png  \n",
            "  inflating: flowers_imitation/194.png  \n",
            "  inflating: flowers_imitation/1940.png  \n",
            "  inflating: flowers_imitation/1941.png  \n",
            "  inflating: flowers_imitation/1942.png  \n",
            "  inflating: flowers_imitation/1943.png  \n",
            "  inflating: flowers_imitation/1944.png  \n",
            "  inflating: flowers_imitation/1945.png  \n",
            "  inflating: flowers_imitation/1946.png  \n",
            "  inflating: flowers_imitation/1947.png  \n",
            "  inflating: flowers_imitation/1948.png  \n",
            "  inflating: flowers_imitation/1949.png  \n",
            "  inflating: flowers_imitation/195.png  \n",
            "  inflating: flowers_imitation/1950.png  \n",
            "  inflating: flowers_imitation/1951.png  \n",
            "  inflating: flowers_imitation/1952.png  \n",
            "  inflating: flowers_imitation/1953.png  \n",
            "  inflating: flowers_imitation/1954.png  \n",
            "  inflating: flowers_imitation/1955.png  \n",
            "  inflating: flowers_imitation/1956.png  \n",
            "  inflating: flowers_imitation/1957.png  \n",
            "  inflating: flowers_imitation/1958.png  \n",
            "  inflating: flowers_imitation/1959.png  \n",
            "  inflating: flowers_imitation/196.png  \n",
            "  inflating: flowers_imitation/1960.png  \n",
            "  inflating: flowers_imitation/1961.png  \n",
            "  inflating: flowers_imitation/1962.png  \n",
            "  inflating: flowers_imitation/1963.png  \n",
            "  inflating: flowers_imitation/1964.png  \n",
            "  inflating: flowers_imitation/1965.png  \n",
            "  inflating: flowers_imitation/1966.png  \n",
            "  inflating: flowers_imitation/1967.png  \n",
            "  inflating: flowers_imitation/1968.png  \n",
            "  inflating: flowers_imitation/1969.png  \n",
            "  inflating: flowers_imitation/197.png  \n",
            "  inflating: flowers_imitation/1970.png  \n",
            "  inflating: flowers_imitation/1971.png  \n",
            "  inflating: flowers_imitation/1972.png  \n",
            "  inflating: flowers_imitation/1973.png  \n",
            "  inflating: flowers_imitation/1974.png  \n",
            "  inflating: flowers_imitation/1975.png  \n",
            "  inflating: flowers_imitation/1976.png  \n",
            "  inflating: flowers_imitation/1977.png  \n",
            "  inflating: flowers_imitation/1978.png  \n",
            "  inflating: flowers_imitation/1979.png  \n",
            "  inflating: flowers_imitation/198.png  \n",
            "  inflating: flowers_imitation/1980.png  \n",
            "  inflating: flowers_imitation/1981.png  \n",
            "  inflating: flowers_imitation/1982.png  \n",
            "  inflating: flowers_imitation/1983.png  \n",
            "  inflating: flowers_imitation/1984.png  \n",
            "  inflating: flowers_imitation/1985.png  \n",
            "  inflating: flowers_imitation/1986.png  \n",
            "  inflating: flowers_imitation/1987.png  \n",
            "  inflating: flowers_imitation/1988.png  \n",
            "  inflating: flowers_imitation/1989.png  \n",
            "  inflating: flowers_imitation/199.png  \n",
            "  inflating: flowers_imitation/1990.png  \n",
            "  inflating: flowers_imitation/1991.png  \n",
            "  inflating: flowers_imitation/1992.png  \n",
            "  inflating: flowers_imitation/1993.png  \n",
            "  inflating: flowers_imitation/1994.png  \n",
            "  inflating: flowers_imitation/1995.png  \n",
            "  inflating: flowers_imitation/1996.png  \n",
            "  inflating: flowers_imitation/1997.png  \n",
            "  inflating: flowers_imitation/1998.png  \n",
            "  inflating: flowers_imitation/1999.png  \n",
            "  inflating: flowers_imitation/2.png  \n",
            "  inflating: flowers_imitation/20.png  \n",
            "  inflating: flowers_imitation/200.png  \n",
            "  inflating: flowers_imitation/2000.png  \n",
            "  inflating: flowers_imitation/2001.png  \n",
            "  inflating: flowers_imitation/2002.png  \n",
            "  inflating: flowers_imitation/2003.png  \n",
            "  inflating: flowers_imitation/2004.png  \n",
            "  inflating: flowers_imitation/2005.png  \n",
            "  inflating: flowers_imitation/2006.png  \n",
            "  inflating: flowers_imitation/2007.png  \n",
            "  inflating: flowers_imitation/2008.png  \n",
            "  inflating: flowers_imitation/2009.png  \n",
            "  inflating: flowers_imitation/201.png  \n",
            "  inflating: flowers_imitation/2010.png  \n",
            "  inflating: flowers_imitation/2011.png  \n",
            "  inflating: flowers_imitation/2012.png  \n",
            "  inflating: flowers_imitation/2013.png  \n",
            "  inflating: flowers_imitation/2014.png  \n",
            "  inflating: flowers_imitation/2015.png  \n",
            "  inflating: flowers_imitation/2016.png  \n",
            "  inflating: flowers_imitation/2017.png  \n",
            "  inflating: flowers_imitation/2018.png  \n",
            "  inflating: flowers_imitation/2019.png  \n",
            "  inflating: flowers_imitation/202.png  \n",
            "  inflating: flowers_imitation/2020.png  \n",
            "  inflating: flowers_imitation/2021.png  \n",
            "  inflating: flowers_imitation/2022.png  \n",
            "  inflating: flowers_imitation/2023.png  \n",
            "  inflating: flowers_imitation/2024.png  \n",
            "  inflating: flowers_imitation/2025.png  \n",
            "  inflating: flowers_imitation/2026.png  \n",
            "  inflating: flowers_imitation/2027.png  \n",
            "  inflating: flowers_imitation/2028.png  \n",
            "  inflating: flowers_imitation/2029.png  \n",
            "  inflating: flowers_imitation/203.png  \n",
            "  inflating: flowers_imitation/2030.png  \n",
            "  inflating: flowers_imitation/2031.png  \n",
            "  inflating: flowers_imitation/2032.png  \n",
            "  inflating: flowers_imitation/2033.png  \n",
            "  inflating: flowers_imitation/2034.png  \n",
            "  inflating: flowers_imitation/2035.png  \n",
            "  inflating: flowers_imitation/2036.png  \n",
            "  inflating: flowers_imitation/2037.png  \n",
            "  inflating: flowers_imitation/2038.png  \n",
            "  inflating: flowers_imitation/2039.png  \n",
            "  inflating: flowers_imitation/204.png  \n",
            "  inflating: flowers_imitation/2040.png  \n",
            "  inflating: flowers_imitation/2042.png  \n",
            "  inflating: flowers_imitation/2043.png  \n",
            "  inflating: flowers_imitation/2044.png  \n",
            "  inflating: flowers_imitation/2045.png  \n",
            "  inflating: flowers_imitation/2046.png  \n",
            "  inflating: flowers_imitation/2047.png  \n",
            "  inflating: flowers_imitation/2048.png  \n",
            "  inflating: flowers_imitation/2049.png  \n",
            "  inflating: flowers_imitation/205.png  \n",
            "  inflating: flowers_imitation/2050.png  \n",
            "  inflating: flowers_imitation/2051.png  \n",
            "  inflating: flowers_imitation/2052.png  \n",
            "  inflating: flowers_imitation/2053.png  \n",
            "  inflating: flowers_imitation/2054.png  \n",
            "  inflating: flowers_imitation/2055.png  \n",
            "  inflating: flowers_imitation/2056.png  \n",
            "  inflating: flowers_imitation/2057.png  \n",
            "  inflating: flowers_imitation/2058.png  \n",
            "  inflating: flowers_imitation/2059.png  \n",
            "  inflating: flowers_imitation/206.png  \n",
            "  inflating: flowers_imitation/2060.png  \n",
            "  inflating: flowers_imitation/2061.png  \n",
            "  inflating: flowers_imitation/2062.png  \n",
            "  inflating: flowers_imitation/2063.png  \n",
            "  inflating: flowers_imitation/2064.png  \n",
            "  inflating: flowers_imitation/2065.png  \n",
            "  inflating: flowers_imitation/2066.png  \n",
            "  inflating: flowers_imitation/2067.png  \n",
            "  inflating: flowers_imitation/2068.png  \n",
            "  inflating: flowers_imitation/2069.png  \n",
            "  inflating: flowers_imitation/207.png  \n",
            "  inflating: flowers_imitation/2070.png  \n",
            "  inflating: flowers_imitation/2071.png  \n",
            "  inflating: flowers_imitation/2072.png  \n",
            "  inflating: flowers_imitation/2073.png  \n",
            "  inflating: flowers_imitation/2074.png  \n",
            "  inflating: flowers_imitation/2075.png  \n",
            "  inflating: flowers_imitation/2076.png  \n",
            "  inflating: flowers_imitation/2077.png  \n",
            "  inflating: flowers_imitation/2078.png  \n",
            "  inflating: flowers_imitation/2079.png  \n",
            "  inflating: flowers_imitation/208.png  \n",
            "  inflating: flowers_imitation/2080.png  \n",
            "  inflating: flowers_imitation/2081.png  \n",
            "  inflating: flowers_imitation/2082.png  \n",
            "  inflating: flowers_imitation/2083.png  \n",
            "  inflating: flowers_imitation/2084.png  \n",
            "  inflating: flowers_imitation/2085.png  \n",
            "  inflating: flowers_imitation/2086.png  \n",
            "  inflating: flowers_imitation/2087.png  \n",
            "  inflating: flowers_imitation/2088.png  \n",
            "  inflating: flowers_imitation/2089.png  \n",
            "  inflating: flowers_imitation/209.png  \n",
            "  inflating: flowers_imitation/2090.png  \n",
            "  inflating: flowers_imitation/2091.png  \n",
            "  inflating: flowers_imitation/2092.png  \n",
            "  inflating: flowers_imitation/2093.png  \n",
            "  inflating: flowers_imitation/2094.png  \n",
            "  inflating: flowers_imitation/2095.png  \n",
            "  inflating: flowers_imitation/2096.png  \n",
            "  inflating: flowers_imitation/2097.png  \n",
            "  inflating: flowers_imitation/2098.png  \n",
            "  inflating: flowers_imitation/2099.png  \n",
            "  inflating: flowers_imitation/21.png  \n",
            "  inflating: flowers_imitation/210.png  \n",
            "  inflating: flowers_imitation/2100.png  \n",
            "  inflating: flowers_imitation/2101.png  \n",
            "  inflating: flowers_imitation/2102.png  \n",
            "  inflating: flowers_imitation/2103.png  \n",
            "  inflating: flowers_imitation/2104.png  \n",
            "  inflating: flowers_imitation/2105.png  \n",
            "  inflating: flowers_imitation/2106.png  \n",
            "  inflating: flowers_imitation/2108.png  \n",
            "  inflating: flowers_imitation/2109.png  \n",
            "  inflating: flowers_imitation/211.png  \n",
            "  inflating: flowers_imitation/2110.png  \n",
            "  inflating: flowers_imitation/2111.png  \n",
            "  inflating: flowers_imitation/2112.png  \n",
            "  inflating: flowers_imitation/2113.png  \n",
            "  inflating: flowers_imitation/2114.png  \n",
            "  inflating: flowers_imitation/2115.png  \n",
            "  inflating: flowers_imitation/2116.png  \n",
            "  inflating: flowers_imitation/2117.png  \n",
            "  inflating: flowers_imitation/2118.png  \n",
            "  inflating: flowers_imitation/2119.png  \n",
            "  inflating: flowers_imitation/212.png  \n",
            "  inflating: flowers_imitation/2120.png  \n",
            "  inflating: flowers_imitation/2121.png  \n",
            "  inflating: flowers_imitation/2122.png  \n",
            "  inflating: flowers_imitation/2123.png  \n",
            "  inflating: flowers_imitation/2124.png  \n",
            "  inflating: flowers_imitation/2125.png  \n",
            "  inflating: flowers_imitation/2126.png  \n",
            "  inflating: flowers_imitation/2127.png  \n",
            "  inflating: flowers_imitation/2128.png  \n",
            "  inflating: flowers_imitation/2129.png  \n",
            "  inflating: flowers_imitation/213.png  \n",
            "  inflating: flowers_imitation/2130.png  \n",
            "  inflating: flowers_imitation/2131.png  \n",
            "  inflating: flowers_imitation/2132.png  \n",
            "  inflating: flowers_imitation/2133.png  \n",
            "  inflating: flowers_imitation/2134.png  \n",
            "  inflating: flowers_imitation/2135.png  \n",
            "  inflating: flowers_imitation/2136.png  \n",
            "  inflating: flowers_imitation/2137.png  \n",
            "  inflating: flowers_imitation/2138.png  \n",
            "  inflating: flowers_imitation/2139.png  \n",
            "  inflating: flowers_imitation/214.png  \n",
            "  inflating: flowers_imitation/2140.png  \n",
            "  inflating: flowers_imitation/2141.png  \n",
            "  inflating: flowers_imitation/2142.png  \n",
            "  inflating: flowers_imitation/2143.png  \n",
            "  inflating: flowers_imitation/2144.png  \n",
            "  inflating: flowers_imitation/2145.png  \n",
            "  inflating: flowers_imitation/2146.png  \n",
            "  inflating: flowers_imitation/2147.png  \n",
            "  inflating: flowers_imitation/2149.png  \n",
            "  inflating: flowers_imitation/215.png  \n",
            "  inflating: flowers_imitation/2150.png  \n",
            "  inflating: flowers_imitation/2151.png  \n",
            "  inflating: flowers_imitation/2152.png  \n",
            "  inflating: flowers_imitation/2153.png  \n",
            "  inflating: flowers_imitation/2154.png  \n",
            "  inflating: flowers_imitation/2155.png  \n",
            "  inflating: flowers_imitation/2156.png  \n",
            "  inflating: flowers_imitation/2157.png  \n",
            "  inflating: flowers_imitation/2158.png  \n",
            "  inflating: flowers_imitation/2159.png  \n",
            "  inflating: flowers_imitation/216.png  \n",
            "  inflating: flowers_imitation/2160.png  \n",
            "  inflating: flowers_imitation/2161.png  \n",
            "  inflating: flowers_imitation/2162.png  \n",
            "  inflating: flowers_imitation/2163.png  \n",
            "  inflating: flowers_imitation/2164.png  \n",
            "  inflating: flowers_imitation/2165.png  \n",
            "  inflating: flowers_imitation/2166.png  \n",
            "  inflating: flowers_imitation/2167.png  \n",
            "  inflating: flowers_imitation/2168.png  \n",
            "  inflating: flowers_imitation/2169.png  \n",
            "  inflating: flowers_imitation/217.png  \n",
            "  inflating: flowers_imitation/2170.png  \n",
            "  inflating: flowers_imitation/2171.png  \n",
            "  inflating: flowers_imitation/2172.png  \n",
            "  inflating: flowers_imitation/2173.png  \n",
            "  inflating: flowers_imitation/2174.png  \n",
            "  inflating: flowers_imitation/2175.png  \n",
            "  inflating: flowers_imitation/2176.png  \n",
            "  inflating: flowers_imitation/2177.png  \n",
            "  inflating: flowers_imitation/2178.png  \n",
            "  inflating: flowers_imitation/2179.png  \n",
            "  inflating: flowers_imitation/218.png  \n",
            "  inflating: flowers_imitation/2180.png  \n",
            "  inflating: flowers_imitation/2181.png  \n",
            "  inflating: flowers_imitation/2183.png  \n",
            "  inflating: flowers_imitation/2184.png  \n",
            "  inflating: flowers_imitation/2185.png  \n",
            "  inflating: flowers_imitation/2186.png  \n",
            "  inflating: flowers_imitation/2187.png  \n",
            "  inflating: flowers_imitation/2188.png  \n",
            "  inflating: flowers_imitation/2189.png  \n",
            "  inflating: flowers_imitation/219.png  \n",
            "  inflating: flowers_imitation/2190.png  \n",
            "  inflating: flowers_imitation/2191.png  \n",
            "  inflating: flowers_imitation/2192.png  \n",
            "  inflating: flowers_imitation/2193.png  \n",
            "  inflating: flowers_imitation/2194.png  \n",
            "  inflating: flowers_imitation/2195.png  \n",
            "  inflating: flowers_imitation/2196.png  \n",
            "  inflating: flowers_imitation/2197.png  \n",
            "  inflating: flowers_imitation/2198.png  \n",
            "  inflating: flowers_imitation/2199.png  \n",
            "  inflating: flowers_imitation/22.png  \n",
            "  inflating: flowers_imitation/220.png  \n",
            "  inflating: flowers_imitation/2200.png  \n",
            "  inflating: flowers_imitation/2201.png  \n",
            "  inflating: flowers_imitation/2202.png  \n",
            "  inflating: flowers_imitation/2204.png  \n",
            "  inflating: flowers_imitation/2205.png  \n",
            "  inflating: flowers_imitation/2206.png  \n",
            "  inflating: flowers_imitation/2207.png  \n",
            "  inflating: flowers_imitation/2208.png  \n",
            "  inflating: flowers_imitation/2209.png  \n",
            "  inflating: flowers_imitation/221.png  \n",
            "  inflating: flowers_imitation/2210.png  \n",
            "  inflating: flowers_imitation/2211.png  \n",
            "  inflating: flowers_imitation/2212.png  \n",
            "  inflating: flowers_imitation/2213.png  \n",
            "  inflating: flowers_imitation/2214.png  \n",
            "  inflating: flowers_imitation/2215.png  \n",
            "  inflating: flowers_imitation/2216.png  \n",
            "  inflating: flowers_imitation/2217.png  \n",
            "  inflating: flowers_imitation/2218.png  \n",
            "  inflating: flowers_imitation/2219.png  \n",
            "  inflating: flowers_imitation/222.png  \n",
            "  inflating: flowers_imitation/2220.png  \n",
            "  inflating: flowers_imitation/2221.png  \n",
            "  inflating: flowers_imitation/2222.png  \n",
            "  inflating: flowers_imitation/2223.png  \n",
            "  inflating: flowers_imitation/2224.png  \n",
            "  inflating: flowers_imitation/2225.png  \n",
            "  inflating: flowers_imitation/2226.png  \n",
            "  inflating: flowers_imitation/2227.png  \n",
            "  inflating: flowers_imitation/2228.png  \n",
            "  inflating: flowers_imitation/2229.png  \n",
            "  inflating: flowers_imitation/223.png  \n",
            "  inflating: flowers_imitation/2230.png  \n",
            "  inflating: flowers_imitation/2231.png  \n",
            "  inflating: flowers_imitation/2232.png  \n",
            "  inflating: flowers_imitation/2234.png  \n",
            "  inflating: flowers_imitation/2235.png  \n",
            "  inflating: flowers_imitation/2236.png  \n",
            "  inflating: flowers_imitation/2237.png  \n",
            "  inflating: flowers_imitation/2238.png  \n",
            "  inflating: flowers_imitation/2239.png  \n",
            "  inflating: flowers_imitation/224.png  \n",
            "  inflating: flowers_imitation/2240.png  \n",
            "  inflating: flowers_imitation/2241.png  \n",
            "  inflating: flowers_imitation/2242.png  \n",
            "  inflating: flowers_imitation/2244.png  \n",
            "  inflating: flowers_imitation/2245.png  \n",
            "  inflating: flowers_imitation/2247.png  \n",
            "  inflating: flowers_imitation/2248.png  \n",
            "  inflating: flowers_imitation/2249.png  \n",
            "  inflating: flowers_imitation/225.png  \n",
            "  inflating: flowers_imitation/2250.png  \n",
            "  inflating: flowers_imitation/2251.png  \n",
            "  inflating: flowers_imitation/2252.png  \n",
            "  inflating: flowers_imitation/2253.png  \n",
            "  inflating: flowers_imitation/2254.png  \n",
            "  inflating: flowers_imitation/2255.png  \n",
            "  inflating: flowers_imitation/2256.png  \n",
            "  inflating: flowers_imitation/2257.png  \n",
            "  inflating: flowers_imitation/2258.png  \n",
            "  inflating: flowers_imitation/2259.png  \n",
            "  inflating: flowers_imitation/226.png  \n",
            "  inflating: flowers_imitation/2260.png  \n",
            "  inflating: flowers_imitation/2261.png  \n",
            "  inflating: flowers_imitation/2262.png  \n",
            "  inflating: flowers_imitation/2263.png  \n",
            "  inflating: flowers_imitation/2264.png  \n",
            "  inflating: flowers_imitation/2265.png  \n",
            "  inflating: flowers_imitation/2266.png  \n",
            "  inflating: flowers_imitation/2267.png  \n",
            "  inflating: flowers_imitation/2268.png  \n",
            "  inflating: flowers_imitation/2269.png  \n",
            "  inflating: flowers_imitation/227.png  \n",
            "  inflating: flowers_imitation/2270.png  \n",
            "  inflating: flowers_imitation/2271.png  \n",
            "  inflating: flowers_imitation/2272.png  \n",
            "  inflating: flowers_imitation/2273.png  \n",
            "  inflating: flowers_imitation/2274.png  \n",
            "  inflating: flowers_imitation/2275.png  \n",
            "  inflating: flowers_imitation/2276.png  \n",
            "  inflating: flowers_imitation/2277.png  \n",
            "  inflating: flowers_imitation/2278.png  \n",
            "  inflating: flowers_imitation/2279.png  \n",
            "  inflating: flowers_imitation/228.png  \n",
            "  inflating: flowers_imitation/2281.png  \n",
            "  inflating: flowers_imitation/2282.png  \n",
            "  inflating: flowers_imitation/2283.png  \n",
            "  inflating: flowers_imitation/2284.png  \n",
            "  inflating: flowers_imitation/2285.png  \n",
            "  inflating: flowers_imitation/2286.png  \n",
            "  inflating: flowers_imitation/2288.png  \n",
            "  inflating: flowers_imitation/2289.png  \n",
            "  inflating: flowers_imitation/229.png  \n",
            "  inflating: flowers_imitation/2290.png  \n",
            "  inflating: flowers_imitation/2291.png  \n",
            "  inflating: flowers_imitation/2292.png  \n",
            "  inflating: flowers_imitation/2293.png  \n",
            "  inflating: flowers_imitation/2294.png  \n",
            "  inflating: flowers_imitation/2295.png  \n",
            "  inflating: flowers_imitation/2296.png  \n",
            "  inflating: flowers_imitation/2297.png  \n",
            "  inflating: flowers_imitation/2298.png  \n",
            "  inflating: flowers_imitation/2299.png  \n",
            "  inflating: flowers_imitation/23.png  \n",
            "  inflating: flowers_imitation/230.png  \n",
            "  inflating: flowers_imitation/2300.png  \n",
            "  inflating: flowers_imitation/2301.png  \n",
            "  inflating: flowers_imitation/2302.png  \n",
            "  inflating: flowers_imitation/2304.png  \n",
            "  inflating: flowers_imitation/2305.png  \n",
            "  inflating: flowers_imitation/2306.png  \n",
            "  inflating: flowers_imitation/2307.png  \n",
            "  inflating: flowers_imitation/2308.png  \n",
            "  inflating: flowers_imitation/2309.png  \n",
            "  inflating: flowers_imitation/231.png  \n",
            "  inflating: flowers_imitation/2310.png  \n",
            "  inflating: flowers_imitation/2311.png  \n",
            "  inflating: flowers_imitation/2312.png  \n",
            "  inflating: flowers_imitation/2313.png  \n",
            "  inflating: flowers_imitation/2314.png  \n",
            "  inflating: flowers_imitation/2315.png  \n",
            "  inflating: flowers_imitation/2316.png  \n",
            "  inflating: flowers_imitation/2317.png  \n",
            "  inflating: flowers_imitation/2318.png  \n",
            "  inflating: flowers_imitation/2319.png  \n",
            "  inflating: flowers_imitation/232.png  \n",
            "  inflating: flowers_imitation/2320.png  \n",
            "  inflating: flowers_imitation/2321.png  \n",
            "  inflating: flowers_imitation/2322.png  \n",
            "  inflating: flowers_imitation/2323.png  \n",
            "  inflating: flowers_imitation/2324.png  \n",
            "  inflating: flowers_imitation/2325.png  \n",
            "  inflating: flowers_imitation/2326.png  \n",
            "  inflating: flowers_imitation/2327.png  \n",
            "  inflating: flowers_imitation/2328.png  \n",
            "  inflating: flowers_imitation/2329.png  \n",
            "  inflating: flowers_imitation/233.png  \n",
            "  inflating: flowers_imitation/2330.png  \n",
            "  inflating: flowers_imitation/2331.png  \n",
            "  inflating: flowers_imitation/2332.png  \n",
            "  inflating: flowers_imitation/2333.png  \n",
            "  inflating: flowers_imitation/2334.png  \n",
            "  inflating: flowers_imitation/2335.png  \n",
            "  inflating: flowers_imitation/2336.png  \n",
            "  inflating: flowers_imitation/2338.png  \n",
            "  inflating: flowers_imitation/2339.png  \n",
            "  inflating: flowers_imitation/234.png  \n",
            "  inflating: flowers_imitation/2340.png  \n",
            "  inflating: flowers_imitation/2341.png  \n",
            "  inflating: flowers_imitation/2342.png  \n",
            "  inflating: flowers_imitation/2343.png  \n",
            "  inflating: flowers_imitation/2344.png  \n",
            "  inflating: flowers_imitation/2345.png  \n",
            "  inflating: flowers_imitation/2346.png  \n",
            "  inflating: flowers_imitation/2347.png  \n",
            "  inflating: flowers_imitation/2349.png  \n",
            "  inflating: flowers_imitation/235.png  \n",
            "  inflating: flowers_imitation/2350.png  \n",
            "  inflating: flowers_imitation/2352.png  \n",
            "  inflating: flowers_imitation/2355.png  \n",
            "  inflating: flowers_imitation/2356.png  \n",
            "  inflating: flowers_imitation/2357.png  \n",
            "  inflating: flowers_imitation/2359.png  \n",
            "  inflating: flowers_imitation/236.png  \n",
            "  inflating: flowers_imitation/2360.png  \n",
            "  inflating: flowers_imitation/2361.png  \n",
            "  inflating: flowers_imitation/2362.png  \n",
            "  inflating: flowers_imitation/2363.png  \n",
            "  inflating: flowers_imitation/2364.png  \n",
            "  inflating: flowers_imitation/2365.png  \n",
            "  inflating: flowers_imitation/2366.png  \n",
            "  inflating: flowers_imitation/2367.png  \n",
            "  inflating: flowers_imitation/2368.png  \n",
            "  inflating: flowers_imitation/2369.png  \n",
            "  inflating: flowers_imitation/237.png  \n",
            "  inflating: flowers_imitation/2371.png  \n",
            "  inflating: flowers_imitation/2372.png  \n",
            "  inflating: flowers_imitation/2373.png  \n",
            "  inflating: flowers_imitation/2374.png  \n",
            "  inflating: flowers_imitation/2375.png  \n",
            "  inflating: flowers_imitation/2376.png  \n",
            "  inflating: flowers_imitation/2377.png  \n",
            "  inflating: flowers_imitation/2378.png  \n",
            "  inflating: flowers_imitation/2379.png  \n",
            "  inflating: flowers_imitation/238.png  \n",
            "  inflating: flowers_imitation/2380.png  \n",
            "  inflating: flowers_imitation/2381.png  \n",
            "  inflating: flowers_imitation/2382.png  \n",
            "  inflating: flowers_imitation/2384.png  \n",
            "  inflating: flowers_imitation/2385.png  \n",
            "  inflating: flowers_imitation/2386.png  \n",
            "  inflating: flowers_imitation/2387.png  \n",
            "  inflating: flowers_imitation/2388.png  \n",
            "  inflating: flowers_imitation/2389.png  \n",
            "  inflating: flowers_imitation/239.png  \n",
            "  inflating: flowers_imitation/2390.png  \n",
            "  inflating: flowers_imitation/2391.png  \n",
            "  inflating: flowers_imitation/2392.png  \n",
            "  inflating: flowers_imitation/2393.png  \n",
            "  inflating: flowers_imitation/2395.png  \n",
            "  inflating: flowers_imitation/2396.png  \n",
            "  inflating: flowers_imitation/2397.png  \n",
            "  inflating: flowers_imitation/2398.png  \n",
            "  inflating: flowers_imitation/2399.png  \n",
            "  inflating: flowers_imitation/24.png  \n",
            "  inflating: flowers_imitation/240.png  \n",
            "  inflating: flowers_imitation/2400.png  \n",
            "  inflating: flowers_imitation/2401.png  \n",
            "  inflating: flowers_imitation/2402.png  \n",
            "  inflating: flowers_imitation/2403.png  \n",
            "  inflating: flowers_imitation/2405.png  \n",
            "  inflating: flowers_imitation/2406.png  \n",
            "  inflating: flowers_imitation/2407.png  \n",
            "  inflating: flowers_imitation/2408.png  \n",
            "  inflating: flowers_imitation/2409.png  \n",
            "  inflating: flowers_imitation/241.png  \n",
            "  inflating: flowers_imitation/2410.png  \n",
            "  inflating: flowers_imitation/2411.png  \n",
            "  inflating: flowers_imitation/2412.png  \n",
            "  inflating: flowers_imitation/2413.png  \n",
            "  inflating: flowers_imitation/2414.png  \n",
            "  inflating: flowers_imitation/2415.png  \n",
            "  inflating: flowers_imitation/2416.png  \n",
            "  inflating: flowers_imitation/2417.png  \n",
            "  inflating: flowers_imitation/2418.png  \n",
            "  inflating: flowers_imitation/2419.png  \n",
            "  inflating: flowers_imitation/242.png  \n",
            "  inflating: flowers_imitation/2420.png  \n",
            "  inflating: flowers_imitation/2421.png  \n",
            "  inflating: flowers_imitation/2422.png  \n",
            "  inflating: flowers_imitation/2423.png  \n",
            "  inflating: flowers_imitation/2424.png  \n",
            "  inflating: flowers_imitation/2425.png  \n",
            "  inflating: flowers_imitation/2426.png  \n",
            "  inflating: flowers_imitation/2427.png  \n",
            "  inflating: flowers_imitation/2428.png  \n",
            "  inflating: flowers_imitation/2429.png  \n",
            "  inflating: flowers_imitation/243.png  \n",
            "  inflating: flowers_imitation/2431.png  \n",
            "  inflating: flowers_imitation/2432.png  \n",
            "  inflating: flowers_imitation/2433.png  \n",
            "  inflating: flowers_imitation/2434.png  \n",
            "  inflating: flowers_imitation/2435.png  \n",
            "  inflating: flowers_imitation/2436.png  \n",
            "  inflating: flowers_imitation/2437.png  \n",
            "  inflating: flowers_imitation/2438.png  \n",
            "  inflating: flowers_imitation/2439.png  \n",
            "  inflating: flowers_imitation/244.png  \n",
            "  inflating: flowers_imitation/2440.png  \n",
            "  inflating: flowers_imitation/2441.png  \n",
            "  inflating: flowers_imitation/2442.png  \n",
            "  inflating: flowers_imitation/2443.png  \n",
            "  inflating: flowers_imitation/2445.png  \n",
            "  inflating: flowers_imitation/2446.png  \n",
            "  inflating: flowers_imitation/2447.png  \n",
            "  inflating: flowers_imitation/2448.png  \n",
            "  inflating: flowers_imitation/2449.png  \n",
            "  inflating: flowers_imitation/245.png  \n",
            "  inflating: flowers_imitation/2450.png  \n",
            "  inflating: flowers_imitation/2451.png  \n",
            "  inflating: flowers_imitation/2452.png  \n",
            "  inflating: flowers_imitation/2453.png  \n",
            "  inflating: flowers_imitation/2454.png  \n",
            "  inflating: flowers_imitation/2455.png  \n",
            "  inflating: flowers_imitation/2456.png  \n",
            "  inflating: flowers_imitation/2457.png  \n",
            "  inflating: flowers_imitation/2458.png  \n",
            "  inflating: flowers_imitation/2459.png  \n",
            "  inflating: flowers_imitation/246.png  \n",
            "  inflating: flowers_imitation/2460.png  \n",
            "  inflating: flowers_imitation/2461.png  \n",
            "  inflating: flowers_imitation/2462.png  \n",
            "  inflating: flowers_imitation/2463.png  \n",
            "  inflating: flowers_imitation/2464.png  \n",
            "  inflating: flowers_imitation/2465.png  \n",
            "  inflating: flowers_imitation/2466.png  \n",
            "  inflating: flowers_imitation/2467.png  \n",
            "  inflating: flowers_imitation/2468.png  \n",
            "  inflating: flowers_imitation/2469.png  \n",
            "  inflating: flowers_imitation/247.png  \n",
            "  inflating: flowers_imitation/2471.png  \n",
            "  inflating: flowers_imitation/2472.png  \n",
            "  inflating: flowers_imitation/2473.png  \n",
            "  inflating: flowers_imitation/2474.png  \n",
            "  inflating: flowers_imitation/2475.png  \n",
            "  inflating: flowers_imitation/2477.png  \n",
            "  inflating: flowers_imitation/2478.png  \n",
            "  inflating: flowers_imitation/2479.png  \n",
            "  inflating: flowers_imitation/248.png  \n",
            "  inflating: flowers_imitation/2480.png  \n",
            "  inflating: flowers_imitation/2481.png  \n",
            "  inflating: flowers_imitation/2482.png  \n",
            "  inflating: flowers_imitation/2483.png  \n",
            "  inflating: flowers_imitation/2484.png  \n",
            "  inflating: flowers_imitation/2485.png  \n",
            "  inflating: flowers_imitation/2486.png  \n",
            "  inflating: flowers_imitation/2487.png  \n",
            "  inflating: flowers_imitation/2488.png  \n",
            "  inflating: flowers_imitation/2489.png  \n",
            "  inflating: flowers_imitation/249.png  \n",
            "  inflating: flowers_imitation/2490.png  \n",
            "  inflating: flowers_imitation/2491.png  \n",
            "  inflating: flowers_imitation/2492.png  \n",
            "  inflating: flowers_imitation/2493.png  \n",
            "  inflating: flowers_imitation/2494.png  \n",
            "  inflating: flowers_imitation/2495.png  \n",
            "  inflating: flowers_imitation/2496.png  \n",
            "  inflating: flowers_imitation/2497.png  \n",
            "  inflating: flowers_imitation/2498.png  \n",
            "  inflating: flowers_imitation/2499.png  \n",
            "  inflating: flowers_imitation/25.png  \n",
            "  inflating: flowers_imitation/250.png  \n",
            "  inflating: flowers_imitation/2500.png  \n",
            "  inflating: flowers_imitation/2501.png  \n",
            "  inflating: flowers_imitation/2502.png  \n",
            "  inflating: flowers_imitation/2503.png  \n",
            "  inflating: flowers_imitation/2504.png  \n",
            "  inflating: flowers_imitation/2505.png  \n",
            "  inflating: flowers_imitation/2506.png  \n",
            "  inflating: flowers_imitation/2507.png  \n",
            "  inflating: flowers_imitation/2508.png  \n",
            "  inflating: flowers_imitation/2509.png  \n",
            "  inflating: flowers_imitation/251.png  \n",
            "  inflating: flowers_imitation/2510.png  \n",
            "  inflating: flowers_imitation/2511.png  \n",
            "  inflating: flowers_imitation/2512.png  \n",
            "  inflating: flowers_imitation/2513.png  \n",
            "  inflating: flowers_imitation/2514.png  \n",
            "  inflating: flowers_imitation/2515.png  \n",
            "  inflating: flowers_imitation/2516.png  \n",
            "  inflating: flowers_imitation/2517.png  \n",
            "  inflating: flowers_imitation/2518.png  \n",
            "  inflating: flowers_imitation/2519.png  \n",
            "  inflating: flowers_imitation/252.png  \n",
            "  inflating: flowers_imitation/2520.png  \n",
            "  inflating: flowers_imitation/2521.png  \n",
            "  inflating: flowers_imitation/2522.png  \n",
            "  inflating: flowers_imitation/2523.png  \n",
            "  inflating: flowers_imitation/2524.png  \n",
            "  inflating: flowers_imitation/2526.png  \n",
            "  inflating: flowers_imitation/2527.png  \n",
            "  inflating: flowers_imitation/2528.png  \n",
            "  inflating: flowers_imitation/2529.png  \n",
            "  inflating: flowers_imitation/253.png  \n",
            "  inflating: flowers_imitation/2530.png  \n",
            "  inflating: flowers_imitation/2531.png  \n",
            "  inflating: flowers_imitation/2532.png  \n",
            "  inflating: flowers_imitation/2533.png  \n",
            "  inflating: flowers_imitation/2534.png  \n",
            "  inflating: flowers_imitation/2535.png  \n",
            "  inflating: flowers_imitation/2536.png  \n",
            "  inflating: flowers_imitation/2537.png  \n",
            "  inflating: flowers_imitation/2539.png  \n",
            "  inflating: flowers_imitation/254.png  \n",
            "  inflating: flowers_imitation/2540.png  \n",
            "  inflating: flowers_imitation/2541.png  \n",
            "  inflating: flowers_imitation/2542.png  \n",
            "  inflating: flowers_imitation/2543.png  \n",
            "  inflating: flowers_imitation/2544.png  \n",
            "  inflating: flowers_imitation/2546.png  \n",
            "  inflating: flowers_imitation/2548.png  \n",
            "  inflating: flowers_imitation/255.png  \n",
            "  inflating: flowers_imitation/2550.png  \n",
            "  inflating: flowers_imitation/2551.png  \n",
            "  inflating: flowers_imitation/2552.png  \n",
            "  inflating: flowers_imitation/2553.png  \n",
            "  inflating: flowers_imitation/2554.png  \n",
            "  inflating: flowers_imitation/2555.png  \n",
            "  inflating: flowers_imitation/2556.png  \n",
            "  inflating: flowers_imitation/2557.png  \n",
            "  inflating: flowers_imitation/2558.png  \n",
            "  inflating: flowers_imitation/2559.png  \n",
            "  inflating: flowers_imitation/256.png  \n",
            "  inflating: flowers_imitation/2560.png  \n",
            "  inflating: flowers_imitation/2561.png  \n",
            "  inflating: flowers_imitation/2562.png  \n",
            "  inflating: flowers_imitation/2563.png  \n",
            "  inflating: flowers_imitation/2564.png  \n",
            "  inflating: flowers_imitation/2565.png  \n",
            "  inflating: flowers_imitation/2566.png  \n",
            "  inflating: flowers_imitation/2567.png  \n",
            "  inflating: flowers_imitation/2568.png  \n",
            "  inflating: flowers_imitation/2569.png  \n",
            "  inflating: flowers_imitation/257.png  \n",
            "  inflating: flowers_imitation/2570.png  \n",
            "  inflating: flowers_imitation/2571.png  \n",
            "  inflating: flowers_imitation/2572.png  \n",
            "  inflating: flowers_imitation/2573.png  \n",
            "  inflating: flowers_imitation/2574.png  \n",
            "  inflating: flowers_imitation/2575.png  \n",
            "  inflating: flowers_imitation/2576.png  \n",
            "  inflating: flowers_imitation/2577.png  \n",
            "  inflating: flowers_imitation/2578.png  \n",
            "  inflating: flowers_imitation/2579.png  \n",
            "  inflating: flowers_imitation/258.png  \n",
            "  inflating: flowers_imitation/2580.png  \n",
            "  inflating: flowers_imitation/2581.png  \n",
            "  inflating: flowers_imitation/2582.png  \n",
            "  inflating: flowers_imitation/2583.png  \n",
            "  inflating: flowers_imitation/2584.png  \n",
            "  inflating: flowers_imitation/2585.png  \n",
            "  inflating: flowers_imitation/2586.png  \n",
            "  inflating: flowers_imitation/2587.png  \n",
            "  inflating: flowers_imitation/2588.png  \n",
            "  inflating: flowers_imitation/2589.png  \n",
            "  inflating: flowers_imitation/259.png  \n",
            "  inflating: flowers_imitation/2590.png  \n",
            "  inflating: flowers_imitation/2591.png  \n",
            "  inflating: flowers_imitation/2592.png  \n",
            "  inflating: flowers_imitation/2593.png  \n",
            "  inflating: flowers_imitation/2594.png  \n",
            "  inflating: flowers_imitation/2595.png  \n",
            "  inflating: flowers_imitation/2596.png  \n",
            "  inflating: flowers_imitation/2597.png  \n",
            "  inflating: flowers_imitation/2598.png  \n",
            "  inflating: flowers_imitation/2599.png  \n",
            "  inflating: flowers_imitation/26.png  \n",
            "  inflating: flowers_imitation/260.png  \n",
            "  inflating: flowers_imitation/2600.png  \n",
            "  inflating: flowers_imitation/2601.png  \n",
            "  inflating: flowers_imitation/2602.png  \n",
            "  inflating: flowers_imitation/2603.png  \n",
            "  inflating: flowers_imitation/2604.png  \n",
            "  inflating: flowers_imitation/2605.png  \n",
            "  inflating: flowers_imitation/2606.png  \n",
            "  inflating: flowers_imitation/2607.png  \n",
            "  inflating: flowers_imitation/2608.png  \n",
            "  inflating: flowers_imitation/2609.png  \n",
            "  inflating: flowers_imitation/261.png  \n",
            "  inflating: flowers_imitation/2610.png  \n",
            "  inflating: flowers_imitation/2611.png  \n",
            "  inflating: flowers_imitation/2612.png  \n",
            "  inflating: flowers_imitation/2613.png  \n",
            "  inflating: flowers_imitation/2614.png  \n",
            "  inflating: flowers_imitation/2615.png  \n",
            "  inflating: flowers_imitation/2616.png  \n",
            "  inflating: flowers_imitation/2617.png  \n",
            "  inflating: flowers_imitation/2618.png  \n",
            "  inflating: flowers_imitation/2619.png  \n",
            "  inflating: flowers_imitation/262.png  \n",
            "  inflating: flowers_imitation/2620.png  \n",
            "  inflating: flowers_imitation/2621.png  \n",
            "  inflating: flowers_imitation/2622.png  \n",
            "  inflating: flowers_imitation/2623.png  \n",
            "  inflating: flowers_imitation/2624.png  \n",
            "  inflating: flowers_imitation/2625.png  \n",
            "  inflating: flowers_imitation/2626.png  \n",
            "  inflating: flowers_imitation/2627.png  \n",
            "  inflating: flowers_imitation/2628.png  \n",
            "  inflating: flowers_imitation/2629.png  \n",
            "  inflating: flowers_imitation/263.png  \n",
            "  inflating: flowers_imitation/2630.png  \n",
            "  inflating: flowers_imitation/2631.png  \n",
            "  inflating: flowers_imitation/2632.png  \n",
            "  inflating: flowers_imitation/2633.png  \n",
            "  inflating: flowers_imitation/2634.png  \n",
            "  inflating: flowers_imitation/2635.png  \n",
            "  inflating: flowers_imitation/2636.png  \n",
            "  inflating: flowers_imitation/2637.png  \n",
            "  inflating: flowers_imitation/2638.png  \n",
            "  inflating: flowers_imitation/2639.png  \n",
            "  inflating: flowers_imitation/264.png  \n",
            "  inflating: flowers_imitation/2640.png  \n",
            "  inflating: flowers_imitation/2641.png  \n",
            "  inflating: flowers_imitation/2642.png  \n",
            "  inflating: flowers_imitation/2643.png  \n",
            "  inflating: flowers_imitation/2644.png  \n",
            "  inflating: flowers_imitation/2645.png  \n",
            "  inflating: flowers_imitation/2646.png  \n",
            "  inflating: flowers_imitation/2647.png  \n",
            "  inflating: flowers_imitation/2648.png  \n",
            "  inflating: flowers_imitation/2649.png  \n",
            "  inflating: flowers_imitation/265.png  \n",
            "  inflating: flowers_imitation/2650.png  \n",
            "  inflating: flowers_imitation/2651.png  \n",
            "  inflating: flowers_imitation/2652.png  \n",
            "  inflating: flowers_imitation/2653.png  \n",
            "  inflating: flowers_imitation/2654.png  \n",
            "  inflating: flowers_imitation/2655.png  \n",
            "  inflating: flowers_imitation/2656.png  \n",
            "  inflating: flowers_imitation/2657.png  \n",
            "  inflating: flowers_imitation/2658.png  \n",
            "  inflating: flowers_imitation/2659.png  \n",
            "  inflating: flowers_imitation/266.png  \n",
            "  inflating: flowers_imitation/2660.png  \n",
            "  inflating: flowers_imitation/2661.png  \n",
            "  inflating: flowers_imitation/2662.png  \n",
            "  inflating: flowers_imitation/2663.png  \n",
            "  inflating: flowers_imitation/2664.png  \n",
            "  inflating: flowers_imitation/2665.png  \n",
            "  inflating: flowers_imitation/2666.png  \n",
            "  inflating: flowers_imitation/2667.png  \n",
            "  inflating: flowers_imitation/2668.png  \n",
            "  inflating: flowers_imitation/2669.png  \n",
            "  inflating: flowers_imitation/267.png  \n",
            "  inflating: flowers_imitation/2670.png  \n",
            "  inflating: flowers_imitation/2671.png  \n",
            "  inflating: flowers_imitation/2672.png  \n",
            "  inflating: flowers_imitation/2673.png  \n",
            "  inflating: flowers_imitation/2674.png  \n",
            "  inflating: flowers_imitation/2675.png  \n",
            "  inflating: flowers_imitation/2676.png  \n",
            "  inflating: flowers_imitation/2677.png  \n",
            "  inflating: flowers_imitation/2678.png  \n",
            "  inflating: flowers_imitation/2679.png  \n",
            "  inflating: flowers_imitation/268.png  \n",
            "  inflating: flowers_imitation/2680.png  \n",
            "  inflating: flowers_imitation/2681.png  \n",
            "  inflating: flowers_imitation/2682.png  \n",
            "  inflating: flowers_imitation/2683.png  \n",
            "  inflating: flowers_imitation/2684.png  \n",
            "  inflating: flowers_imitation/2685.png  \n",
            "  inflating: flowers_imitation/2686.png  \n",
            "  inflating: flowers_imitation/2687.png  \n",
            "  inflating: flowers_imitation/2688.png  \n",
            "  inflating: flowers_imitation/2689.png  \n",
            "  inflating: flowers_imitation/269.png  \n",
            "  inflating: flowers_imitation/2690.png  \n",
            "  inflating: flowers_imitation/2691.png  \n",
            "  inflating: flowers_imitation/2692.png  \n",
            "  inflating: flowers_imitation/2693.png  \n",
            "  inflating: flowers_imitation/2694.png  \n",
            "  inflating: flowers_imitation/2695.png  \n",
            "  inflating: flowers_imitation/2696.png  \n",
            "  inflating: flowers_imitation/2697.png  \n",
            "  inflating: flowers_imitation/2698.png  \n",
            "  inflating: flowers_imitation/2699.png  \n",
            "  inflating: flowers_imitation/27.png  \n",
            "  inflating: flowers_imitation/270.png  \n",
            "  inflating: flowers_imitation/2700.png  \n",
            "  inflating: flowers_imitation/2701.png  \n",
            "  inflating: flowers_imitation/2702.png  \n",
            "  inflating: flowers_imitation/2703.png  \n",
            "  inflating: flowers_imitation/2704.png  \n",
            "  inflating: flowers_imitation/2705.png  \n",
            "  inflating: flowers_imitation/2706.png  \n",
            "  inflating: flowers_imitation/2707.png  \n",
            "  inflating: flowers_imitation/2708.png  \n",
            "  inflating: flowers_imitation/2709.png  \n",
            "  inflating: flowers_imitation/271.png  \n",
            "  inflating: flowers_imitation/2711.png  \n",
            "  inflating: flowers_imitation/2712.png  \n",
            "  inflating: flowers_imitation/2713.png  \n",
            "  inflating: flowers_imitation/2714.png  \n",
            "  inflating: flowers_imitation/2715.png  \n",
            "  inflating: flowers_imitation/2716.png  \n",
            "  inflating: flowers_imitation/2718.png  \n",
            "  inflating: flowers_imitation/2719.png  \n",
            "  inflating: flowers_imitation/272.png  \n",
            "  inflating: flowers_imitation/2720.png  \n",
            "  inflating: flowers_imitation/2721.png  \n",
            "  inflating: flowers_imitation/2722.png  \n",
            "  inflating: flowers_imitation/2723.png  \n",
            "  inflating: flowers_imitation/2724.png  \n",
            "  inflating: flowers_imitation/2725.png  \n",
            "  inflating: flowers_imitation/2726.png  \n",
            "  inflating: flowers_imitation/2727.png  \n",
            "  inflating: flowers_imitation/2728.png  \n",
            "  inflating: flowers_imitation/2729.png  \n",
            "  inflating: flowers_imitation/273.png  \n",
            "  inflating: flowers_imitation/2730.png  \n",
            "  inflating: flowers_imitation/2731.png  \n",
            "  inflating: flowers_imitation/2732.png  \n",
            "  inflating: flowers_imitation/2733.png  \n",
            "  inflating: flowers_imitation/2734.png  \n",
            "  inflating: flowers_imitation/2735.png  \n",
            "  inflating: flowers_imitation/2736.png  \n",
            "  inflating: flowers_imitation/2737.png  \n",
            "  inflating: flowers_imitation/2738.png  \n",
            "  inflating: flowers_imitation/2739.png  \n",
            "  inflating: flowers_imitation/274.png  \n",
            "  inflating: flowers_imitation/2740.png  \n",
            "  inflating: flowers_imitation/2741.png  \n",
            "  inflating: flowers_imitation/2742.png  \n",
            "  inflating: flowers_imitation/2743.png  \n",
            "  inflating: flowers_imitation/2744.png  \n",
            "  inflating: flowers_imitation/2745.png  \n",
            "  inflating: flowers_imitation/2746.png  \n",
            "  inflating: flowers_imitation/2747.png  \n",
            "  inflating: flowers_imitation/2748.png  \n",
            "  inflating: flowers_imitation/2749.png  \n",
            "  inflating: flowers_imitation/275.png  \n",
            "  inflating: flowers_imitation/2750.png  \n",
            "  inflating: flowers_imitation/2751.png  \n",
            "  inflating: flowers_imitation/2752.png  \n",
            "  inflating: flowers_imitation/2753.png  \n",
            "  inflating: flowers_imitation/2754.png  \n",
            "  inflating: flowers_imitation/2755.png  \n",
            "  inflating: flowers_imitation/2756.png  \n",
            "  inflating: flowers_imitation/2757.png  \n",
            "  inflating: flowers_imitation/2758.png  \n",
            "  inflating: flowers_imitation/2759.png  \n",
            "  inflating: flowers_imitation/276.png  \n",
            "  inflating: flowers_imitation/2760.png  \n",
            "  inflating: flowers_imitation/2761.png  \n",
            "  inflating: flowers_imitation/2762.png  \n",
            "  inflating: flowers_imitation/2763.png  \n",
            "  inflating: flowers_imitation/2764.png  \n",
            "  inflating: flowers_imitation/2765.png  \n",
            "  inflating: flowers_imitation/2766.png  \n",
            "  inflating: flowers_imitation/2767.png  \n",
            "  inflating: flowers_imitation/2768.png  \n",
            "  inflating: flowers_imitation/2769.png  \n",
            "  inflating: flowers_imitation/277.png  \n",
            "  inflating: flowers_imitation/2771.png  \n",
            "  inflating: flowers_imitation/2772.png  \n",
            "  inflating: flowers_imitation/2773.png  \n",
            "  inflating: flowers_imitation/2775.png  \n",
            "  inflating: flowers_imitation/2776.png  \n",
            "  inflating: flowers_imitation/2777.png  \n",
            "  inflating: flowers_imitation/2778.png  \n",
            "  inflating: flowers_imitation/2779.png  \n",
            "  inflating: flowers_imitation/278.png  \n",
            "  inflating: flowers_imitation/2780.png  \n",
            "  inflating: flowers_imitation/2781.png  \n",
            "  inflating: flowers_imitation/2783.png  \n",
            "  inflating: flowers_imitation/2784.png  \n",
            "  inflating: flowers_imitation/2785.png  \n",
            "  inflating: flowers_imitation/2787.png  \n",
            "  inflating: flowers_imitation/2788.png  \n",
            "  inflating: flowers_imitation/279.png  \n",
            "  inflating: flowers_imitation/2790.png  \n",
            "  inflating: flowers_imitation/2791.png  \n",
            "  inflating: flowers_imitation/2793.png  \n",
            "  inflating: flowers_imitation/2794.png  \n",
            "  inflating: flowers_imitation/2795.png  \n",
            "  inflating: flowers_imitation/2796.png  \n",
            "  inflating: flowers_imitation/2797.png  \n",
            "  inflating: flowers_imitation/2798.png  \n",
            "  inflating: flowers_imitation/2799.png  \n",
            "  inflating: flowers_imitation/28.png  \n",
            "  inflating: flowers_imitation/280.png  \n",
            "  inflating: flowers_imitation/2800.png  \n",
            "  inflating: flowers_imitation/2801.png  \n",
            "  inflating: flowers_imitation/2802.png  \n",
            "  inflating: flowers_imitation/2803.png  \n",
            "  inflating: flowers_imitation/2804.png  \n",
            "  inflating: flowers_imitation/2805.png  \n",
            "  inflating: flowers_imitation/2806.png  \n",
            "  inflating: flowers_imitation/2807.png  \n",
            "  inflating: flowers_imitation/2808.png  \n",
            "  inflating: flowers_imitation/281.png  \n",
            "  inflating: flowers_imitation/2810.png  \n",
            "  inflating: flowers_imitation/2811.png  \n",
            "  inflating: flowers_imitation/2812.png  \n",
            "  inflating: flowers_imitation/2813.png  \n",
            "  inflating: flowers_imitation/2814.png  \n",
            "  inflating: flowers_imitation/2815.png  \n",
            "  inflating: flowers_imitation/2816.png  \n",
            "  inflating: flowers_imitation/2817.png  \n",
            "  inflating: flowers_imitation/2818.png  \n",
            "  inflating: flowers_imitation/2819.png  \n",
            "  inflating: flowers_imitation/282.png  \n",
            "  inflating: flowers_imitation/2820.png  \n",
            "  inflating: flowers_imitation/2821.png  \n",
            "  inflating: flowers_imitation/2822.png  \n",
            "  inflating: flowers_imitation/2823.png  \n",
            "  inflating: flowers_imitation/2824.png  \n",
            "  inflating: flowers_imitation/2825.png  \n",
            "  inflating: flowers_imitation/2826.png  \n",
            "  inflating: flowers_imitation/2827.png  \n",
            "  inflating: flowers_imitation/2828.png  \n",
            "  inflating: flowers_imitation/2829.png  \n",
            "  inflating: flowers_imitation/283.png  \n",
            "  inflating: flowers_imitation/2830.png  \n",
            "  inflating: flowers_imitation/2831.png  \n",
            "  inflating: flowers_imitation/2832.png  \n",
            "  inflating: flowers_imitation/2833.png  \n",
            "  inflating: flowers_imitation/2834.png  \n",
            "  inflating: flowers_imitation/2835.png  \n",
            "  inflating: flowers_imitation/2838.png  \n",
            "  inflating: flowers_imitation/2839.png  \n",
            "  inflating: flowers_imitation/284.png  \n",
            "  inflating: flowers_imitation/2840.png  \n",
            "  inflating: flowers_imitation/2841.png  \n",
            "  inflating: flowers_imitation/2842.png  \n",
            "  inflating: flowers_imitation/2843.png  \n",
            "  inflating: flowers_imitation/2844.png  \n",
            "  inflating: flowers_imitation/2845.png  \n",
            "  inflating: flowers_imitation/2846.png  \n",
            "  inflating: flowers_imitation/2847.png  \n",
            "  inflating: flowers_imitation/2848.png  \n",
            "  inflating: flowers_imitation/2849.png  \n",
            "  inflating: flowers_imitation/285.png  \n",
            "  inflating: flowers_imitation/2850.png  \n",
            "  inflating: flowers_imitation/2851.png  \n",
            "  inflating: flowers_imitation/2852.png  \n",
            "  inflating: flowers_imitation/2853.png  \n",
            "  inflating: flowers_imitation/2854.png  \n",
            "  inflating: flowers_imitation/2855.png  \n",
            "  inflating: flowers_imitation/2856.png  \n",
            "  inflating: flowers_imitation/2857.png  \n",
            "  inflating: flowers_imitation/2858.png  \n",
            "  inflating: flowers_imitation/2859.png  \n",
            "  inflating: flowers_imitation/286.png  \n",
            "  inflating: flowers_imitation/2860.png  \n",
            "  inflating: flowers_imitation/2861.png  \n",
            "  inflating: flowers_imitation/2862.png  \n",
            "  inflating: flowers_imitation/2863.png  \n",
            "  inflating: flowers_imitation/2865.png  \n",
            "  inflating: flowers_imitation/2866.png  \n",
            "  inflating: flowers_imitation/2867.png  \n",
            "  inflating: flowers_imitation/2868.png  \n",
            "  inflating: flowers_imitation/2869.png  \n",
            "  inflating: flowers_imitation/287.png  \n",
            "  inflating: flowers_imitation/2870.png  \n",
            "  inflating: flowers_imitation/2872.png  \n",
            "  inflating: flowers_imitation/2873.png  \n",
            "  inflating: flowers_imitation/2874.png  \n",
            "  inflating: flowers_imitation/2875.png  \n",
            "  inflating: flowers_imitation/2876.png  \n",
            "  inflating: flowers_imitation/2877.png  \n",
            "  inflating: flowers_imitation/2878.png  \n",
            "  inflating: flowers_imitation/2879.png  \n",
            "  inflating: flowers_imitation/288.png  \n",
            "  inflating: flowers_imitation/2880.png  \n",
            "  inflating: flowers_imitation/2881.png  \n",
            "  inflating: flowers_imitation/2882.png  \n",
            "  inflating: flowers_imitation/2884.png  \n",
            "  inflating: flowers_imitation/2885.png  \n",
            "  inflating: flowers_imitation/2886.png  \n",
            "  inflating: flowers_imitation/2887.png  \n",
            "  inflating: flowers_imitation/2889.png  \n",
            "  inflating: flowers_imitation/289.png  \n",
            "  inflating: flowers_imitation/2890.png  \n",
            "  inflating: flowers_imitation/2891.png  \n",
            "  inflating: flowers_imitation/2892.png  \n",
            "  inflating: flowers_imitation/2894.png  \n",
            "  inflating: flowers_imitation/2896.png  \n",
            "  inflating: flowers_imitation/2897.png  \n",
            "  inflating: flowers_imitation/2898.png  \n",
            "  inflating: flowers_imitation/29.png  \n",
            "  inflating: flowers_imitation/290.png  \n",
            "  inflating: flowers_imitation/2900.png  \n",
            "  inflating: flowers_imitation/2901.png  \n",
            "  inflating: flowers_imitation/2903.png  \n",
            "  inflating: flowers_imitation/2904.png  \n",
            "  inflating: flowers_imitation/2905.png  \n",
            "  inflating: flowers_imitation/2906.png  \n",
            "  inflating: flowers_imitation/2907.png  \n",
            "  inflating: flowers_imitation/2908.png  \n",
            "  inflating: flowers_imitation/2909.png  \n",
            "  inflating: flowers_imitation/291.png  \n",
            "  inflating: flowers_imitation/2910.png  \n",
            "  inflating: flowers_imitation/2911.png  \n",
            "  inflating: flowers_imitation/2912.png  \n",
            "  inflating: flowers_imitation/2913.png  \n",
            "  inflating: flowers_imitation/2915.png  \n",
            "  inflating: flowers_imitation/2916.png  \n",
            "  inflating: flowers_imitation/2917.png  \n",
            "  inflating: flowers_imitation/2918.png  \n",
            "  inflating: flowers_imitation/292.png  \n",
            "  inflating: flowers_imitation/2920.png  \n",
            "  inflating: flowers_imitation/2922.png  \n",
            "  inflating: flowers_imitation/2923.png  \n",
            "  inflating: flowers_imitation/2924.png  \n",
            "  inflating: flowers_imitation/2925.png  \n",
            "  inflating: flowers_imitation/2926.png  \n",
            "  inflating: flowers_imitation/2927.png  \n",
            "  inflating: flowers_imitation/2928.png  \n",
            "  inflating: flowers_imitation/2929.png  \n",
            "  inflating: flowers_imitation/293.png  \n",
            "  inflating: flowers_imitation/2930.png  \n",
            "  inflating: flowers_imitation/2931.png  \n",
            "  inflating: flowers_imitation/2933.png  \n",
            "  inflating: flowers_imitation/2935.png  \n",
            "  inflating: flowers_imitation/2936.png  \n",
            "  inflating: flowers_imitation/2937.png  \n",
            "  inflating: flowers_imitation/2938.png  \n",
            "  inflating: flowers_imitation/2939.png  \n",
            "  inflating: flowers_imitation/294.png  \n",
            "  inflating: flowers_imitation/2940.png  \n",
            "  inflating: flowers_imitation/2941.png  \n",
            "  inflating: flowers_imitation/2942.png  \n",
            "  inflating: flowers_imitation/2943.png  \n",
            "  inflating: flowers_imitation/2944.png  \n",
            "  inflating: flowers_imitation/2945.png  \n",
            "  inflating: flowers_imitation/2946.png  \n",
            "  inflating: flowers_imitation/2947.png  \n",
            "  inflating: flowers_imitation/2948.png  \n",
            "  inflating: flowers_imitation/2949.png  \n",
            "  inflating: flowers_imitation/295.png  \n",
            "  inflating: flowers_imitation/2950.png  \n",
            "  inflating: flowers_imitation/2951.png  \n",
            "  inflating: flowers_imitation/2952.png  \n",
            "  inflating: flowers_imitation/2953.png  \n",
            "  inflating: flowers_imitation/2954.png  \n",
            "  inflating: flowers_imitation/2955.png  \n",
            "  inflating: flowers_imitation/2956.png  \n",
            "  inflating: flowers_imitation/2957.png  \n",
            "  inflating: flowers_imitation/2958.png  \n",
            "  inflating: flowers_imitation/2959.png  \n",
            "  inflating: flowers_imitation/296.png  \n",
            "  inflating: flowers_imitation/2960.png  \n",
            "  inflating: flowers_imitation/2961.png  \n",
            "  inflating: flowers_imitation/2962.png  \n",
            "  inflating: flowers_imitation/2963.png  \n",
            "  inflating: flowers_imitation/2964.png  \n",
            "  inflating: flowers_imitation/2965.png  \n",
            "  inflating: flowers_imitation/2966.png  \n",
            "  inflating: flowers_imitation/2968.png  \n",
            "  inflating: flowers_imitation/2969.png  \n",
            "  inflating: flowers_imitation/297.png  \n",
            "  inflating: flowers_imitation/2970.png  \n",
            "  inflating: flowers_imitation/2971.png  \n",
            "  inflating: flowers_imitation/2972.png  \n",
            "  inflating: flowers_imitation/2973.png  \n",
            "  inflating: flowers_imitation/2974.png  \n",
            "  inflating: flowers_imitation/2975.png  \n",
            "  inflating: flowers_imitation/2976.png  \n",
            "  inflating: flowers_imitation/2977.png  \n",
            "  inflating: flowers_imitation/2978.png  \n",
            "  inflating: flowers_imitation/2979.png  \n",
            "  inflating: flowers_imitation/298.png  \n",
            "  inflating: flowers_imitation/2980.png  \n",
            "  inflating: flowers_imitation/2981.png  \n",
            "  inflating: flowers_imitation/2982.png  \n",
            "  inflating: flowers_imitation/2983.png  \n",
            "  inflating: flowers_imitation/2984.png  \n",
            "  inflating: flowers_imitation/2985.png  \n",
            "  inflating: flowers_imitation/2986.png  \n",
            "  inflating: flowers_imitation/2987.png  \n",
            "  inflating: flowers_imitation/2988.png  \n",
            "  inflating: flowers_imitation/2989.png  \n",
            "  inflating: flowers_imitation/299.png  \n",
            "  inflating: flowers_imitation/2990.png  \n",
            "  inflating: flowers_imitation/2991.png  \n",
            "  inflating: flowers_imitation/2992.png  \n",
            "  inflating: flowers_imitation/2993.png  \n",
            "  inflating: flowers_imitation/2994.png  \n",
            "  inflating: flowers_imitation/2995.png  \n",
            "  inflating: flowers_imitation/2996.png  \n",
            "  inflating: flowers_imitation/2997.png  \n",
            "  inflating: flowers_imitation/2998.png  \n",
            "  inflating: flowers_imitation/2999.png  \n",
            "  inflating: flowers_imitation/3.png  \n",
            "  inflating: flowers_imitation/30.png  \n",
            "  inflating: flowers_imitation/300.png  \n",
            "  inflating: flowers_imitation/3000.png  \n",
            "  inflating: flowers_imitation/3001.png  \n",
            "  inflating: flowers_imitation/3002.png  \n",
            "  inflating: flowers_imitation/3003.png  \n",
            "  inflating: flowers_imitation/3005.png  \n",
            "  inflating: flowers_imitation/3006.png  \n",
            "  inflating: flowers_imitation/3007.png  \n",
            "  inflating: flowers_imitation/3008.png  \n",
            "  inflating: flowers_imitation/3009.png  \n",
            "  inflating: flowers_imitation/301.png  \n",
            "  inflating: flowers_imitation/3010.png  \n",
            "  inflating: flowers_imitation/3011.png  \n",
            "  inflating: flowers_imitation/3012.png  \n",
            "  inflating: flowers_imitation/3013.png  \n",
            "  inflating: flowers_imitation/3014.png  \n",
            "  inflating: flowers_imitation/3015.png  \n",
            "  inflating: flowers_imitation/3016.png  \n",
            "  inflating: flowers_imitation/3017.png  \n",
            "  inflating: flowers_imitation/3018.png  \n",
            "  inflating: flowers_imitation/3019.png  \n",
            "  inflating: flowers_imitation/302.png  \n",
            "  inflating: flowers_imitation/3020.png  \n",
            "  inflating: flowers_imitation/3021.png  \n",
            "  inflating: flowers_imitation/3022.png  \n",
            "  inflating: flowers_imitation/3023.png  \n",
            "  inflating: flowers_imitation/3025.png  \n",
            "  inflating: flowers_imitation/3026.png  \n",
            "  inflating: flowers_imitation/3027.png  \n",
            "  inflating: flowers_imitation/3028.png  \n",
            "  inflating: flowers_imitation/3029.png  \n",
            "  inflating: flowers_imitation/303.png  \n",
            "  inflating: flowers_imitation/3030.png  \n",
            "  inflating: flowers_imitation/3031.png  \n",
            "  inflating: flowers_imitation/3032.png  \n",
            "  inflating: flowers_imitation/3033.png  \n",
            "  inflating: flowers_imitation/3034.png  \n",
            "  inflating: flowers_imitation/3035.png  \n",
            "  inflating: flowers_imitation/3036.png  \n",
            "  inflating: flowers_imitation/3037.png  \n",
            "  inflating: flowers_imitation/3038.png  \n",
            "  inflating: flowers_imitation/3039.png  \n",
            "  inflating: flowers_imitation/304.png  \n",
            "  inflating: flowers_imitation/3040.png  \n",
            "  inflating: flowers_imitation/3041.png  \n",
            "  inflating: flowers_imitation/3042.png  \n",
            "  inflating: flowers_imitation/3043.png  \n",
            "  inflating: flowers_imitation/3044.png  \n",
            "  inflating: flowers_imitation/3045.png  \n",
            "  inflating: flowers_imitation/3046.png  \n",
            "  inflating: flowers_imitation/3047.png  \n",
            "  inflating: flowers_imitation/3048.png  \n",
            "  inflating: flowers_imitation/3049.png  \n",
            "  inflating: flowers_imitation/305.png  \n",
            "  inflating: flowers_imitation/3051.png  \n",
            "  inflating: flowers_imitation/3052.png  \n",
            "  inflating: flowers_imitation/3053.png  \n",
            "  inflating: flowers_imitation/3054.png  \n",
            "  inflating: flowers_imitation/3055.png  \n",
            "  inflating: flowers_imitation/3056.png  \n",
            "  inflating: flowers_imitation/3057.png  \n",
            "  inflating: flowers_imitation/3058.png  \n",
            "  inflating: flowers_imitation/3059.png  \n",
            "  inflating: flowers_imitation/306.png  \n",
            "  inflating: flowers_imitation/3061.png  \n",
            "  inflating: flowers_imitation/3062.png  \n",
            "  inflating: flowers_imitation/3063.png  \n",
            "  inflating: flowers_imitation/3064.png  \n",
            "  inflating: flowers_imitation/3065.png  \n",
            "  inflating: flowers_imitation/3067.png  \n",
            "  inflating: flowers_imitation/3068.png  \n",
            "  inflating: flowers_imitation/3069.png  \n",
            "  inflating: flowers_imitation/307.png  \n",
            "  inflating: flowers_imitation/3070.png  \n",
            "  inflating: flowers_imitation/3071.png  \n",
            "  inflating: flowers_imitation/3072.png  \n",
            "  inflating: flowers_imitation/3073.png  \n",
            "  inflating: flowers_imitation/3074.png  \n",
            "  inflating: flowers_imitation/3075.png  \n",
            "  inflating: flowers_imitation/3076.png  \n",
            "  inflating: flowers_imitation/3077.png  \n",
            "  inflating: flowers_imitation/3078.png  \n",
            "  inflating: flowers_imitation/3079.png  \n",
            "  inflating: flowers_imitation/308.png  \n",
            "  inflating: flowers_imitation/3080.png  \n",
            "  inflating: flowers_imitation/3081.png  \n",
            "  inflating: flowers_imitation/3082.png  \n",
            "  inflating: flowers_imitation/3083.png  \n",
            "  inflating: flowers_imitation/3084.png  \n",
            "  inflating: flowers_imitation/3085.png  \n",
            "  inflating: flowers_imitation/3086.png  \n",
            "  inflating: flowers_imitation/3087.png  \n",
            "  inflating: flowers_imitation/3088.png  \n",
            "  inflating: flowers_imitation/3089.png  \n",
            "  inflating: flowers_imitation/309.png  \n",
            "  inflating: flowers_imitation/3090.png  \n",
            "  inflating: flowers_imitation/3091.png  \n",
            "  inflating: flowers_imitation/3092.png  \n",
            "  inflating: flowers_imitation/3093.png  \n",
            "  inflating: flowers_imitation/3094.png  \n",
            "  inflating: flowers_imitation/3095.png  \n",
            "  inflating: flowers_imitation/3097.png  \n",
            "  inflating: flowers_imitation/3099.png  \n",
            "  inflating: flowers_imitation/31.png  \n",
            "  inflating: flowers_imitation/310.png  \n",
            "  inflating: flowers_imitation/3100.png  \n",
            "  inflating: flowers_imitation/3101.png  \n",
            "  inflating: flowers_imitation/3102.png  \n",
            "  inflating: flowers_imitation/3103.png  \n",
            "  inflating: flowers_imitation/3104.png  \n",
            "  inflating: flowers_imitation/3105.png  \n",
            "  inflating: flowers_imitation/3106.png  \n",
            "  inflating: flowers_imitation/3107.png  \n",
            "  inflating: flowers_imitation/3108.png  \n",
            "  inflating: flowers_imitation/3109.png  \n",
            "  inflating: flowers_imitation/311.png  \n",
            "  inflating: flowers_imitation/3110.png  \n",
            "  inflating: flowers_imitation/3111.png  \n",
            "  inflating: flowers_imitation/3112.png  \n",
            "  inflating: flowers_imitation/3113.png  \n",
            "  inflating: flowers_imitation/3114.png  \n",
            "  inflating: flowers_imitation/3116.png  \n",
            "  inflating: flowers_imitation/3117.png  \n",
            "  inflating: flowers_imitation/3119.png  \n",
            "  inflating: flowers_imitation/312.png  \n",
            "  inflating: flowers_imitation/3121.png  \n",
            "  inflating: flowers_imitation/3122.png  \n",
            "  inflating: flowers_imitation/3123.png  \n",
            "  inflating: flowers_imitation/3124.png  \n",
            "  inflating: flowers_imitation/3125.png  \n",
            "  inflating: flowers_imitation/3126.png  \n",
            "  inflating: flowers_imitation/3127.png  \n",
            "  inflating: flowers_imitation/3128.png  \n",
            "  inflating: flowers_imitation/3129.png  \n",
            "  inflating: flowers_imitation/313.png  \n",
            "  inflating: flowers_imitation/3130.png  \n",
            "  inflating: flowers_imitation/3131.png  \n",
            "  inflating: flowers_imitation/3132.png  \n",
            "  inflating: flowers_imitation/3133.png  \n",
            "  inflating: flowers_imitation/3134.png  \n",
            "  inflating: flowers_imitation/3135.png  \n",
            "  inflating: flowers_imitation/3136.png  \n",
            "  inflating: flowers_imitation/3139.png  \n",
            "  inflating: flowers_imitation/314.png  \n",
            "  inflating: flowers_imitation/3140.png  \n",
            "  inflating: flowers_imitation/3141.png  \n",
            "  inflating: flowers_imitation/3142.png  \n",
            "  inflating: flowers_imitation/3143.png  \n",
            "  inflating: flowers_imitation/3144.png  \n",
            "  inflating: flowers_imitation/3145.png  \n",
            "  inflating: flowers_imitation/3146.png  \n",
            "  inflating: flowers_imitation/3147.png  \n",
            "  inflating: flowers_imitation/3148.png  \n",
            "  inflating: flowers_imitation/3149.png  \n",
            "  inflating: flowers_imitation/315.png  \n",
            "  inflating: flowers_imitation/3150.png  \n",
            "  inflating: flowers_imitation/3151.png  \n",
            "  inflating: flowers_imitation/3152.png  \n",
            "  inflating: flowers_imitation/3153.png  \n",
            "  inflating: flowers_imitation/3154.png  \n",
            "  inflating: flowers_imitation/3155.png  \n",
            "  inflating: flowers_imitation/3156.png  \n",
            "  inflating: flowers_imitation/3157.png  \n",
            "  inflating: flowers_imitation/3158.png  \n",
            "  inflating: flowers_imitation/3159.png  \n",
            "  inflating: flowers_imitation/316.png  \n",
            "  inflating: flowers_imitation/3160.png  \n",
            "  inflating: flowers_imitation/3161.png  \n",
            "  inflating: flowers_imitation/3162.png  \n",
            "  inflating: flowers_imitation/3164.png  \n",
            "  inflating: flowers_imitation/3165.png  \n",
            "  inflating: flowers_imitation/3166.png  \n",
            "  inflating: flowers_imitation/3167.png  \n",
            "  inflating: flowers_imitation/3168.png  \n",
            "  inflating: flowers_imitation/3169.png  \n",
            "  inflating: flowers_imitation/317.png  \n",
            "  inflating: flowers_imitation/3170.png  \n",
            "  inflating: flowers_imitation/3171.png  \n",
            "  inflating: flowers_imitation/3172.png  \n",
            "  inflating: flowers_imitation/3173.png  \n",
            "  inflating: flowers_imitation/3174.png  \n",
            "  inflating: flowers_imitation/3175.png  \n",
            "  inflating: flowers_imitation/3176.png  \n",
            "  inflating: flowers_imitation/3177.png  \n",
            "  inflating: flowers_imitation/3178.png  \n",
            "  inflating: flowers_imitation/3179.png  \n",
            "  inflating: flowers_imitation/318.png  \n",
            "  inflating: flowers_imitation/3180.png  \n",
            "  inflating: flowers_imitation/3181.png  \n",
            "  inflating: flowers_imitation/3183.png  \n",
            "  inflating: flowers_imitation/3184.png  \n",
            "  inflating: flowers_imitation/3185.png  \n",
            "  inflating: flowers_imitation/3186.png  \n",
            "  inflating: flowers_imitation/3187.png  \n",
            "  inflating: flowers_imitation/3188.png  \n",
            "  inflating: flowers_imitation/3189.png  \n",
            "  inflating: flowers_imitation/319.png  \n",
            "  inflating: flowers_imitation/3190.png  \n",
            "  inflating: flowers_imitation/3191.png  \n",
            "  inflating: flowers_imitation/3192.png  \n",
            "  inflating: flowers_imitation/3193.png  \n",
            "  inflating: flowers_imitation/3194.png  \n",
            "  inflating: flowers_imitation/3195.png  \n",
            "  inflating: flowers_imitation/3196.png  \n",
            "  inflating: flowers_imitation/3197.png  \n",
            "  inflating: flowers_imitation/3198.png  \n",
            "  inflating: flowers_imitation/3199.png  \n",
            "  inflating: flowers_imitation/32.png  \n",
            "  inflating: flowers_imitation/320.png  \n",
            "  inflating: flowers_imitation/3200.png  \n",
            "  inflating: flowers_imitation/3201.png  \n",
            "  inflating: flowers_imitation/3202.png  \n",
            "  inflating: flowers_imitation/3203.png  \n",
            "  inflating: flowers_imitation/3204.png  \n",
            "  inflating: flowers_imitation/3205.png  \n",
            "  inflating: flowers_imitation/3207.png  \n",
            "  inflating: flowers_imitation/3208.png  \n",
            "  inflating: flowers_imitation/3209.png  \n",
            "  inflating: flowers_imitation/321.png  \n",
            "  inflating: flowers_imitation/3210.png  \n",
            "  inflating: flowers_imitation/3211.png  \n",
            "  inflating: flowers_imitation/3212.png  \n",
            "  inflating: flowers_imitation/3213.png  \n",
            "  inflating: flowers_imitation/3214.png  \n",
            "  inflating: flowers_imitation/3215.png  \n",
            "  inflating: flowers_imitation/3216.png  \n",
            "  inflating: flowers_imitation/3217.png  \n",
            "  inflating: flowers_imitation/3218.png  \n",
            "  inflating: flowers_imitation/3219.png  \n",
            "  inflating: flowers_imitation/322.png  \n",
            "  inflating: flowers_imitation/3220.png  \n",
            "  inflating: flowers_imitation/3221.png  \n",
            "  inflating: flowers_imitation/3222.png  \n",
            "  inflating: flowers_imitation/3223.png  \n",
            "  inflating: flowers_imitation/3224.png  \n",
            "  inflating: flowers_imitation/3225.png  \n",
            "  inflating: flowers_imitation/3226.png  \n",
            "  inflating: flowers_imitation/3227.png  \n",
            "  inflating: flowers_imitation/3228.png  \n",
            "  inflating: flowers_imitation/3229.png  \n",
            "  inflating: flowers_imitation/323.png  \n",
            "  inflating: flowers_imitation/3230.png  \n",
            "  inflating: flowers_imitation/3231.png  \n",
            "  inflating: flowers_imitation/3232.png  \n",
            "  inflating: flowers_imitation/3233.png  \n",
            "  inflating: flowers_imitation/3234.png  \n",
            "  inflating: flowers_imitation/3235.png  \n",
            "  inflating: flowers_imitation/3237.png  \n",
            "  inflating: flowers_imitation/3238.png  \n",
            "  inflating: flowers_imitation/3239.png  \n",
            "  inflating: flowers_imitation/324.png  \n",
            "  inflating: flowers_imitation/3240.png  \n",
            "  inflating: flowers_imitation/3241.png  \n",
            "  inflating: flowers_imitation/3242.png  \n",
            "  inflating: flowers_imitation/3244.png  \n",
            "  inflating: flowers_imitation/3245.png  \n",
            "  inflating: flowers_imitation/3246.png  \n",
            "  inflating: flowers_imitation/3247.png  \n",
            "  inflating: flowers_imitation/3248.png  \n",
            "  inflating: flowers_imitation/3249.png  \n",
            "  inflating: flowers_imitation/325.png  \n",
            "  inflating: flowers_imitation/3250.png  \n",
            "  inflating: flowers_imitation/3251.png  \n",
            "  inflating: flowers_imitation/3252.png  \n",
            "  inflating: flowers_imitation/3253.png  \n",
            "  inflating: flowers_imitation/3254.png  \n",
            "  inflating: flowers_imitation/3255.png  \n",
            "  inflating: flowers_imitation/3256.png  \n",
            "  inflating: flowers_imitation/3257.png  \n",
            "  inflating: flowers_imitation/3258.png  \n",
            "  inflating: flowers_imitation/3259.png  \n",
            "  inflating: flowers_imitation/326.png  \n",
            "  inflating: flowers_imitation/3260.png  \n",
            "  inflating: flowers_imitation/3261.png  \n",
            "  inflating: flowers_imitation/3262.png  \n",
            "  inflating: flowers_imitation/3263.png  \n",
            "  inflating: flowers_imitation/3264.png  \n",
            "  inflating: flowers_imitation/3265.png  \n",
            "  inflating: flowers_imitation/3266.png  \n",
            "  inflating: flowers_imitation/3267.png  \n",
            "  inflating: flowers_imitation/3268.png  \n",
            "  inflating: flowers_imitation/327.png  \n",
            "  inflating: flowers_imitation/3270.png  \n",
            "  inflating: flowers_imitation/3271.png  \n",
            "  inflating: flowers_imitation/3272.png  \n",
            "  inflating: flowers_imitation/3273.png  \n",
            "  inflating: flowers_imitation/3274.png  \n",
            "  inflating: flowers_imitation/3275.png  \n",
            "  inflating: flowers_imitation/3276.png  \n",
            "  inflating: flowers_imitation/3277.png  \n",
            "  inflating: flowers_imitation/3278.png  \n",
            "  inflating: flowers_imitation/3279.png  \n",
            "  inflating: flowers_imitation/328.png  \n",
            "  inflating: flowers_imitation/3280.png  \n",
            "  inflating: flowers_imitation/3281.png  \n",
            "  inflating: flowers_imitation/3282.png  \n",
            "  inflating: flowers_imitation/3283.png  \n",
            "  inflating: flowers_imitation/3284.png  \n",
            "  inflating: flowers_imitation/3285.png  \n",
            "  inflating: flowers_imitation/3286.png  \n",
            "  inflating: flowers_imitation/3287.png  \n",
            "  inflating: flowers_imitation/3288.png  \n",
            "  inflating: flowers_imitation/3289.png  \n",
            "  inflating: flowers_imitation/329.png  \n",
            "  inflating: flowers_imitation/3290.png  \n",
            "  inflating: flowers_imitation/3291.png  \n",
            "  inflating: flowers_imitation/3292.png  \n",
            "  inflating: flowers_imitation/3293.png  \n",
            "  inflating: flowers_imitation/3295.png  \n",
            "  inflating: flowers_imitation/3296.png  \n",
            "  inflating: flowers_imitation/3297.png  \n",
            "  inflating: flowers_imitation/3299.png  \n",
            "  inflating: flowers_imitation/33.png  \n",
            "  inflating: flowers_imitation/330.png  \n",
            "  inflating: flowers_imitation/3300.png  \n",
            "  inflating: flowers_imitation/3301.png  \n",
            "  inflating: flowers_imitation/3302.png  \n",
            "  inflating: flowers_imitation/3303.png  \n",
            "  inflating: flowers_imitation/3304.png  \n",
            "  inflating: flowers_imitation/3305.png  \n",
            "  inflating: flowers_imitation/3306.png  \n",
            "  inflating: flowers_imitation/3307.png  \n",
            "  inflating: flowers_imitation/3308.png  \n",
            "  inflating: flowers_imitation/3309.png  \n",
            "  inflating: flowers_imitation/331.png  \n",
            "  inflating: flowers_imitation/3310.png  \n",
            "  inflating: flowers_imitation/3311.png  \n",
            "  inflating: flowers_imitation/3312.png  \n",
            "  inflating: flowers_imitation/3313.png  \n",
            "  inflating: flowers_imitation/3315.png  \n",
            "  inflating: flowers_imitation/3316.png  \n",
            "  inflating: flowers_imitation/3317.png  \n",
            "  inflating: flowers_imitation/3318.png  \n",
            "  inflating: flowers_imitation/3319.png  \n",
            "  inflating: flowers_imitation/332.png  \n",
            "  inflating: flowers_imitation/3320.png  \n",
            "  inflating: flowers_imitation/3321.png  \n",
            "  inflating: flowers_imitation/3322.png  \n",
            "  inflating: flowers_imitation/3323.png  \n",
            "  inflating: flowers_imitation/3324.png  \n",
            "  inflating: flowers_imitation/3325.png  \n",
            "  inflating: flowers_imitation/3326.png  \n",
            "  inflating: flowers_imitation/3327.png  \n",
            "  inflating: flowers_imitation/3328.png  \n",
            "  inflating: flowers_imitation/3329.png  \n",
            "  inflating: flowers_imitation/333.png  \n",
            "  inflating: flowers_imitation/3330.png  \n",
            "  inflating: flowers_imitation/3331.png  \n",
            "  inflating: flowers_imitation/3332.png  \n",
            "  inflating: flowers_imitation/3333.png  \n",
            "  inflating: flowers_imitation/3334.png  \n",
            "  inflating: flowers_imitation/3335.png  \n",
            "  inflating: flowers_imitation/3336.png  \n",
            "  inflating: flowers_imitation/3337.png  \n",
            "  inflating: flowers_imitation/3338.png  \n",
            "  inflating: flowers_imitation/3339.png  \n",
            "  inflating: flowers_imitation/334.png  \n",
            "  inflating: flowers_imitation/3340.png  \n",
            "  inflating: flowers_imitation/3341.png  \n",
            "  inflating: flowers_imitation/3342.png  \n",
            "  inflating: flowers_imitation/3343.png  \n",
            "  inflating: flowers_imitation/3344.png  \n",
            "  inflating: flowers_imitation/3345.png  \n",
            "  inflating: flowers_imitation/3346.png  \n",
            "  inflating: flowers_imitation/3347.png  \n",
            "  inflating: flowers_imitation/3348.png  \n",
            "  inflating: flowers_imitation/3349.png  \n",
            "  inflating: flowers_imitation/335.png  \n",
            "  inflating: flowers_imitation/3350.png  \n",
            "  inflating: flowers_imitation/3351.png  \n",
            "  inflating: flowers_imitation/3352.png  \n",
            "  inflating: flowers_imitation/3353.png  \n",
            "  inflating: flowers_imitation/3354.png  \n",
            "  inflating: flowers_imitation/3355.png  \n",
            "  inflating: flowers_imitation/3356.png  \n",
            "  inflating: flowers_imitation/3357.png  \n",
            "  inflating: flowers_imitation/3358.png  \n",
            "  inflating: flowers_imitation/3359.png  \n",
            "  inflating: flowers_imitation/336.png  \n",
            "  inflating: flowers_imitation/3360.png  \n",
            "  inflating: flowers_imitation/3361.png  \n",
            "  inflating: flowers_imitation/3362.png  \n",
            "  inflating: flowers_imitation/3363.png  \n",
            "  inflating: flowers_imitation/3364.png  \n",
            "  inflating: flowers_imitation/3365.png  \n",
            "  inflating: flowers_imitation/3366.png  \n",
            "  inflating: flowers_imitation/3367.png  \n",
            "  inflating: flowers_imitation/3368.png  \n",
            "  inflating: flowers_imitation/3369.png  \n",
            "  inflating: flowers_imitation/337.png  \n",
            "  inflating: flowers_imitation/3370.png  \n",
            "  inflating: flowers_imitation/3371.png  \n",
            "  inflating: flowers_imitation/3372.png  \n",
            "  inflating: flowers_imitation/3373.png  \n",
            "  inflating: flowers_imitation/3374.png  \n",
            "  inflating: flowers_imitation/3375.png  \n",
            "  inflating: flowers_imitation/3376.png  \n",
            "  inflating: flowers_imitation/3378.png  \n",
            "  inflating: flowers_imitation/3379.png  \n",
            "  inflating: flowers_imitation/338.png  \n",
            "  inflating: flowers_imitation/3380.png  \n",
            "  inflating: flowers_imitation/3381.png  \n",
            "  inflating: flowers_imitation/3382.png  \n",
            "  inflating: flowers_imitation/3383.png  \n",
            "  inflating: flowers_imitation/3384.png  \n",
            "  inflating: flowers_imitation/3385.png  \n",
            "  inflating: flowers_imitation/3386.png  \n",
            "  inflating: flowers_imitation/3387.png  \n",
            "  inflating: flowers_imitation/3388.png  \n",
            "  inflating: flowers_imitation/3389.png  \n",
            "  inflating: flowers_imitation/339.png  \n",
            "  inflating: flowers_imitation/3390.png  \n",
            "  inflating: flowers_imitation/3391.png  \n",
            "  inflating: flowers_imitation/3392.png  \n",
            "  inflating: flowers_imitation/3393.png  \n",
            "  inflating: flowers_imitation/3394.png  \n",
            "  inflating: flowers_imitation/3396.png  \n",
            "  inflating: flowers_imitation/3397.png  \n",
            "  inflating: flowers_imitation/3398.png  \n",
            "  inflating: flowers_imitation/3399.png  \n",
            "  inflating: flowers_imitation/34.png  \n",
            "  inflating: flowers_imitation/340.png  \n",
            "  inflating: flowers_imitation/3400.png  \n",
            "  inflating: flowers_imitation/3402.png  \n",
            "  inflating: flowers_imitation/3403.png  \n",
            "  inflating: flowers_imitation/3404.png  \n",
            "  inflating: flowers_imitation/3406.png  \n",
            "  inflating: flowers_imitation/3407.png  \n",
            "  inflating: flowers_imitation/3408.png  \n",
            "  inflating: flowers_imitation/3409.png  \n",
            "  inflating: flowers_imitation/341.png  \n",
            "  inflating: flowers_imitation/3410.png  \n",
            "  inflating: flowers_imitation/3411.png  \n",
            "  inflating: flowers_imitation/3412.png  \n",
            "  inflating: flowers_imitation/3413.png  \n",
            "  inflating: flowers_imitation/3414.png  \n",
            "  inflating: flowers_imitation/3415.png  \n",
            "  inflating: flowers_imitation/3416.png  \n",
            "  inflating: flowers_imitation/3417.png  \n",
            "  inflating: flowers_imitation/3418.png  \n",
            "  inflating: flowers_imitation/3419.png  \n",
            "  inflating: flowers_imitation/342.png  \n",
            "  inflating: flowers_imitation/3420.png  \n",
            "  inflating: flowers_imitation/3421.png  \n",
            "  inflating: flowers_imitation/3422.png  \n",
            "  inflating: flowers_imitation/3423.png  \n",
            "  inflating: flowers_imitation/3424.png  \n",
            "  inflating: flowers_imitation/3425.png  \n",
            "  inflating: flowers_imitation/3429.png  \n",
            "  inflating: flowers_imitation/343.png  \n",
            "  inflating: flowers_imitation/3430.png  \n",
            "  inflating: flowers_imitation/3431.png  \n",
            "  inflating: flowers_imitation/3432.png  \n",
            "  inflating: flowers_imitation/3433.png  \n",
            "  inflating: flowers_imitation/3434.png  \n",
            "  inflating: flowers_imitation/3435.png  \n",
            "  inflating: flowers_imitation/3436.png  \n",
            "  inflating: flowers_imitation/3437.png  \n",
            "  inflating: flowers_imitation/3438.png  \n",
            "  inflating: flowers_imitation/3439.png  \n",
            "  inflating: flowers_imitation/344.png  \n",
            "  inflating: flowers_imitation/3441.png  \n",
            "  inflating: flowers_imitation/3443.png  \n",
            "  inflating: flowers_imitation/3444.png  \n",
            "  inflating: flowers_imitation/3445.png  \n",
            "  inflating: flowers_imitation/3447.png  \n",
            "  inflating: flowers_imitation/3448.png  \n",
            "  inflating: flowers_imitation/3449.png  \n",
            "  inflating: flowers_imitation/345.png  \n",
            "  inflating: flowers_imitation/3450.png  \n",
            "  inflating: flowers_imitation/3451.png  \n",
            "  inflating: flowers_imitation/3452.png  \n",
            "  inflating: flowers_imitation/3453.png  \n",
            "  inflating: flowers_imitation/3454.png  \n",
            "  inflating: flowers_imitation/3455.png  \n",
            "  inflating: flowers_imitation/3456.png  \n",
            "  inflating: flowers_imitation/3457.png  \n",
            "  inflating: flowers_imitation/3458.png  \n",
            "  inflating: flowers_imitation/3459.png  \n",
            "  inflating: flowers_imitation/346.png  \n",
            "  inflating: flowers_imitation/3460.png  \n",
            "  inflating: flowers_imitation/3461.png  \n",
            "  inflating: flowers_imitation/3462.png  \n",
            "  inflating: flowers_imitation/3463.png  \n",
            "  inflating: flowers_imitation/3464.png  \n",
            "  inflating: flowers_imitation/3465.png  \n",
            "  inflating: flowers_imitation/3466.png  \n",
            "  inflating: flowers_imitation/3467.png  \n",
            "  inflating: flowers_imitation/3468.png  \n",
            "  inflating: flowers_imitation/3469.png  \n",
            "  inflating: flowers_imitation/347.png  \n",
            "  inflating: flowers_imitation/3470.png  \n",
            "  inflating: flowers_imitation/3472.png  \n",
            "  inflating: flowers_imitation/3473.png  \n",
            "  inflating: flowers_imitation/3474.png  \n",
            "  inflating: flowers_imitation/3475.png  \n",
            "  inflating: flowers_imitation/3476.png  \n",
            "  inflating: flowers_imitation/3477.png  \n",
            "  inflating: flowers_imitation/3478.png  \n",
            "  inflating: flowers_imitation/3479.png  \n",
            "  inflating: flowers_imitation/348.png  \n",
            "  inflating: flowers_imitation/3480.png  \n",
            "  inflating: flowers_imitation/3481.png  \n",
            "  inflating: flowers_imitation/3482.png  \n",
            "  inflating: flowers_imitation/3483.png  \n",
            "  inflating: flowers_imitation/3484.png  \n",
            "  inflating: flowers_imitation/3485.png  \n",
            "  inflating: flowers_imitation/3486.png  \n",
            "  inflating: flowers_imitation/3487.png  \n",
            "  inflating: flowers_imitation/3488.png  \n",
            "  inflating: flowers_imitation/3489.png  \n",
            "  inflating: flowers_imitation/349.png  \n",
            "  inflating: flowers_imitation/3490.png  \n",
            "  inflating: flowers_imitation/3491.png  \n",
            "  inflating: flowers_imitation/3492.png  \n",
            "  inflating: flowers_imitation/3493.png  \n",
            "  inflating: flowers_imitation/3494.png  \n",
            "  inflating: flowers_imitation/3496.png  \n",
            "  inflating: flowers_imitation/3497.png  \n",
            "  inflating: flowers_imitation/3498.png  \n",
            "  inflating: flowers_imitation/3499.png  \n",
            "  inflating: flowers_imitation/35.png  \n",
            "  inflating: flowers_imitation/350.png  \n",
            "  inflating: flowers_imitation/3500.png  \n",
            "  inflating: flowers_imitation/3501.png  \n",
            "  inflating: flowers_imitation/3502.png  \n",
            "  inflating: flowers_imitation/3503.png  \n",
            "  inflating: flowers_imitation/3504.png  \n",
            "  inflating: flowers_imitation/3505.png  \n",
            "  inflating: flowers_imitation/3507.png  \n",
            "  inflating: flowers_imitation/3508.png  \n",
            "  inflating: flowers_imitation/3509.png  \n",
            "  inflating: flowers_imitation/351.png  \n",
            "  inflating: flowers_imitation/3510.png  \n",
            "  inflating: flowers_imitation/3511.png  \n",
            "  inflating: flowers_imitation/3512.png  \n",
            "  inflating: flowers_imitation/3513.png  \n",
            "  inflating: flowers_imitation/3514.png  \n",
            "  inflating: flowers_imitation/3515.png  \n",
            "  inflating: flowers_imitation/3516.png  \n",
            "  inflating: flowers_imitation/3517.png  \n",
            "  inflating: flowers_imitation/3518.png  \n",
            "  inflating: flowers_imitation/3519.png  \n",
            "  inflating: flowers_imitation/352.png  \n",
            "  inflating: flowers_imitation/3520.png  \n",
            "  inflating: flowers_imitation/3521.png  \n",
            "  inflating: flowers_imitation/3522.png  \n",
            "  inflating: flowers_imitation/3523.png  \n",
            "  inflating: flowers_imitation/3524.png  \n",
            "  inflating: flowers_imitation/3525.png  \n",
            "  inflating: flowers_imitation/3526.png  \n",
            "  inflating: flowers_imitation/3527.png  \n",
            "  inflating: flowers_imitation/3528.png  \n",
            "  inflating: flowers_imitation/3529.png  \n",
            "  inflating: flowers_imitation/353.png  \n",
            "  inflating: flowers_imitation/3530.png  \n",
            "  inflating: flowers_imitation/3531.png  \n",
            "  inflating: flowers_imitation/3532.png  \n",
            "  inflating: flowers_imitation/3533.png  \n",
            "  inflating: flowers_imitation/3534.png  \n",
            "  inflating: flowers_imitation/3535.png  \n",
            "  inflating: flowers_imitation/3537.png  \n",
            "  inflating: flowers_imitation/3538.png  \n",
            "  inflating: flowers_imitation/354.png  \n",
            "  inflating: flowers_imitation/3540.png  \n",
            "  inflating: flowers_imitation/3541.png  \n",
            "  inflating: flowers_imitation/3542.png  \n",
            "  inflating: flowers_imitation/3543.png  \n",
            "  inflating: flowers_imitation/3544.png  \n",
            "  inflating: flowers_imitation/3545.png  \n",
            "  inflating: flowers_imitation/3546.png  \n",
            "  inflating: flowers_imitation/3547.png  \n",
            "  inflating: flowers_imitation/3548.png  \n",
            "  inflating: flowers_imitation/3549.png  \n",
            "  inflating: flowers_imitation/355.png  \n",
            "  inflating: flowers_imitation/3550.png  \n",
            "  inflating: flowers_imitation/3551.png  \n",
            "  inflating: flowers_imitation/3552.png  \n",
            "  inflating: flowers_imitation/3553.png  \n",
            "  inflating: flowers_imitation/3554.png  \n",
            "  inflating: flowers_imitation/3555.png  \n",
            "  inflating: flowers_imitation/3556.png  \n",
            "  inflating: flowers_imitation/3557.png  \n",
            "  inflating: flowers_imitation/3558.png  \n",
            "  inflating: flowers_imitation/3559.png  \n",
            "  inflating: flowers_imitation/356.png  \n",
            "  inflating: flowers_imitation/3560.png  \n",
            "  inflating: flowers_imitation/3561.png  \n",
            "  inflating: flowers_imitation/3562.png  \n",
            "  inflating: flowers_imitation/3563.png  \n",
            "  inflating: flowers_imitation/3564.png  \n",
            "  inflating: flowers_imitation/3566.png  \n",
            "  inflating: flowers_imitation/3567.png  \n",
            "  inflating: flowers_imitation/3568.png  \n",
            "  inflating: flowers_imitation/3569.png  \n",
            "  inflating: flowers_imitation/357.png  \n",
            "  inflating: flowers_imitation/3570.png  \n",
            "  inflating: flowers_imitation/3571.png  \n",
            "  inflating: flowers_imitation/3572.png  \n",
            "  inflating: flowers_imitation/3573.png  \n",
            "  inflating: flowers_imitation/3574.png  \n",
            "  inflating: flowers_imitation/3575.png  \n",
            "  inflating: flowers_imitation/3576.png  \n",
            "  inflating: flowers_imitation/3577.png  \n",
            "  inflating: flowers_imitation/3578.png  \n",
            "  inflating: flowers_imitation/3579.png  \n",
            "  inflating: flowers_imitation/358.png  \n",
            "  inflating: flowers_imitation/3580.png  \n",
            "  inflating: flowers_imitation/3581.png  \n",
            "  inflating: flowers_imitation/3582.png  \n",
            "  inflating: flowers_imitation/3583.png  \n",
            "  inflating: flowers_imitation/3584.png  \n",
            "  inflating: flowers_imitation/3585.png  \n",
            "  inflating: flowers_imitation/3586.png  \n",
            "  inflating: flowers_imitation/3587.png  \n",
            "  inflating: flowers_imitation/3588.png  \n",
            "  inflating: flowers_imitation/3589.png  \n",
            "  inflating: flowers_imitation/359.png  \n",
            "  inflating: flowers_imitation/3590.png  \n",
            "  inflating: flowers_imitation/3591.png  \n",
            "  inflating: flowers_imitation/3592.png  \n",
            "  inflating: flowers_imitation/3594.png  \n",
            "  inflating: flowers_imitation/3595.png  \n",
            "  inflating: flowers_imitation/3596.png  \n",
            "  inflating: flowers_imitation/3597.png  \n",
            "  inflating: flowers_imitation/3598.png  \n",
            "  inflating: flowers_imitation/3599.png  \n",
            "  inflating: flowers_imitation/36.png  \n",
            "  inflating: flowers_imitation/360.png  \n",
            "  inflating: flowers_imitation/3600.png  \n",
            "  inflating: flowers_imitation/3601.png  \n",
            "  inflating: flowers_imitation/3602.png  \n",
            "  inflating: flowers_imitation/3603.png  \n",
            "  inflating: flowers_imitation/3604.png  \n",
            "  inflating: flowers_imitation/3605.png  \n",
            "  inflating: flowers_imitation/3606.png  \n",
            "  inflating: flowers_imitation/3607.png  \n",
            "  inflating: flowers_imitation/3608.png  \n",
            "  inflating: flowers_imitation/3609.png  \n",
            "  inflating: flowers_imitation/361.png  \n",
            "  inflating: flowers_imitation/3610.png  \n",
            "  inflating: flowers_imitation/3611.png  \n",
            "  inflating: flowers_imitation/3612.png  \n",
            "  inflating: flowers_imitation/3613.png  \n",
            "  inflating: flowers_imitation/3614.png  \n",
            "  inflating: flowers_imitation/3615.png  \n",
            "  inflating: flowers_imitation/3616.png  \n",
            "  inflating: flowers_imitation/3617.png  \n",
            "  inflating: flowers_imitation/3618.png  \n",
            "  inflating: flowers_imitation/3619.png  \n",
            "  inflating: flowers_imitation/362.png  \n",
            "  inflating: flowers_imitation/3620.png  \n",
            "  inflating: flowers_imitation/3621.png  \n",
            "  inflating: flowers_imitation/3622.png  \n",
            "  inflating: flowers_imitation/3623.png  \n",
            "  inflating: flowers_imitation/3624.png  \n",
            "  inflating: flowers_imitation/3626.png  \n",
            "  inflating: flowers_imitation/3627.png  \n",
            "  inflating: flowers_imitation/3628.png  \n",
            "  inflating: flowers_imitation/3629.png  \n",
            "  inflating: flowers_imitation/363.png  \n",
            "  inflating: flowers_imitation/3630.png  \n",
            "  inflating: flowers_imitation/3631.png  \n",
            "  inflating: flowers_imitation/3632.png  \n",
            "  inflating: flowers_imitation/3633.png  \n",
            "  inflating: flowers_imitation/3634.png  \n",
            "  inflating: flowers_imitation/3635.png  \n",
            "  inflating: flowers_imitation/3636.png  \n",
            "  inflating: flowers_imitation/3637.png  \n",
            "  inflating: flowers_imitation/3638.png  \n",
            "  inflating: flowers_imitation/3639.png  \n",
            "  inflating: flowers_imitation/364.png  \n",
            "  inflating: flowers_imitation/3640.png  \n",
            "  inflating: flowers_imitation/3642.png  \n",
            "  inflating: flowers_imitation/3643.png  \n",
            "  inflating: flowers_imitation/3645.png  \n",
            "  inflating: flowers_imitation/3646.png  \n",
            "  inflating: flowers_imitation/3647.png  \n",
            "  inflating: flowers_imitation/3648.png  \n",
            "  inflating: flowers_imitation/365.png  \n",
            "  inflating: flowers_imitation/3650.png  \n",
            "  inflating: flowers_imitation/3651.png  \n",
            "  inflating: flowers_imitation/3652.png  \n",
            "  inflating: flowers_imitation/3653.png  \n",
            "  inflating: flowers_imitation/3654.png  \n",
            "  inflating: flowers_imitation/3655.png  \n",
            "  inflating: flowers_imitation/3656.png  \n",
            "  inflating: flowers_imitation/3657.png  \n",
            "  inflating: flowers_imitation/3658.png  \n",
            "  inflating: flowers_imitation/3659.png  \n",
            "  inflating: flowers_imitation/366.png  \n",
            "  inflating: flowers_imitation/3660.png  \n",
            "  inflating: flowers_imitation/3661.png  \n",
            "  inflating: flowers_imitation/3662.png  \n",
            "  inflating: flowers_imitation/3664.png  \n",
            "  inflating: flowers_imitation/3665.png  \n",
            "  inflating: flowers_imitation/3666.png  \n",
            "  inflating: flowers_imitation/3667.png  \n",
            "  inflating: flowers_imitation/3668.png  \n",
            "  inflating: flowers_imitation/3669.png  \n",
            "  inflating: flowers_imitation/367.png  \n",
            "  inflating: flowers_imitation/3670.png  \n",
            "  inflating: flowers_imitation/3671.png  \n",
            "  inflating: flowers_imitation/3672.png  \n",
            "  inflating: flowers_imitation/3673.png  \n",
            "  inflating: flowers_imitation/3676.png  \n",
            "  inflating: flowers_imitation/3678.png  \n",
            "  inflating: flowers_imitation/3679.png  \n",
            "  inflating: flowers_imitation/368.png  \n",
            "  inflating: flowers_imitation/3681.png  \n",
            "  inflating: flowers_imitation/3682.png  \n",
            "  inflating: flowers_imitation/3683.png  \n",
            "  inflating: flowers_imitation/3684.png  \n",
            "  inflating: flowers_imitation/3685.png  \n",
            "  inflating: flowers_imitation/3686.png  \n",
            "  inflating: flowers_imitation/3687.png  \n",
            "  inflating: flowers_imitation/3688.png  \n",
            "  inflating: flowers_imitation/3689.png  \n",
            "  inflating: flowers_imitation/369.png  \n",
            "  inflating: flowers_imitation/3690.png  \n",
            "  inflating: flowers_imitation/3691.png  \n",
            "  inflating: flowers_imitation/3692.png  \n",
            "  inflating: flowers_imitation/3693.png  \n",
            "  inflating: flowers_imitation/3694.png  \n",
            "  inflating: flowers_imitation/3695.png  \n",
            "  inflating: flowers_imitation/3696.png  \n",
            "  inflating: flowers_imitation/3697.png  \n",
            "  inflating: flowers_imitation/3698.png  \n",
            "  inflating: flowers_imitation/3699.png  \n",
            "  inflating: flowers_imitation/37.png  \n",
            "  inflating: flowers_imitation/370.png  \n",
            "  inflating: flowers_imitation/3700.png  \n",
            "  inflating: flowers_imitation/3701.png  \n",
            "  inflating: flowers_imitation/3702.png  \n",
            "  inflating: flowers_imitation/3703.png  \n",
            "  inflating: flowers_imitation/3704.png  \n",
            "  inflating: flowers_imitation/3705.png  \n",
            "  inflating: flowers_imitation/3706.png  \n",
            "  inflating: flowers_imitation/3707.png  \n",
            "  inflating: flowers_imitation/3708.png  \n",
            "  inflating: flowers_imitation/3709.png  \n",
            "  inflating: flowers_imitation/371.png  \n",
            "  inflating: flowers_imitation/3710.png  \n",
            "  inflating: flowers_imitation/3711.png  \n",
            "  inflating: flowers_imitation/3712.png  \n",
            "  inflating: flowers_imitation/3713.png  \n",
            "  inflating: flowers_imitation/3714.png  \n",
            "  inflating: flowers_imitation/3715.png  \n",
            "  inflating: flowers_imitation/3716.png  \n",
            "  inflating: flowers_imitation/3717.png  \n",
            "  inflating: flowers_imitation/3718.png  \n",
            "  inflating: flowers_imitation/3719.png  \n",
            "  inflating: flowers_imitation/372.png  \n",
            "  inflating: flowers_imitation/3720.png  \n",
            "  inflating: flowers_imitation/3721.png  \n",
            "  inflating: flowers_imitation/3722.png  \n",
            "  inflating: flowers_imitation/3723.png  \n",
            "  inflating: flowers_imitation/3724.png  \n",
            "  inflating: flowers_imitation/3725.png  \n",
            "  inflating: flowers_imitation/3726.png  \n",
            "  inflating: flowers_imitation/3727.png  \n",
            "  inflating: flowers_imitation/3729.png  \n",
            "  inflating: flowers_imitation/373.png  \n",
            "  inflating: flowers_imitation/3730.png  \n",
            "  inflating: flowers_imitation/3731.png  \n",
            "  inflating: flowers_imitation/3732.png  \n",
            "  inflating: flowers_imitation/3733.png  \n",
            "  inflating: flowers_imitation/3734.png  \n",
            "  inflating: flowers_imitation/3735.png  \n",
            "  inflating: flowers_imitation/3737.png  \n",
            "  inflating: flowers_imitation/3738.png  \n",
            "  inflating: flowers_imitation/3739.png  \n",
            "  inflating: flowers_imitation/374.png  \n",
            "  inflating: flowers_imitation/3740.png  \n",
            "  inflating: flowers_imitation/3741.png  \n",
            "  inflating: flowers_imitation/3742.png  \n",
            "  inflating: flowers_imitation/3744.png  \n",
            "  inflating: flowers_imitation/3745.png  \n",
            "  inflating: flowers_imitation/3746.png  \n",
            "  inflating: flowers_imitation/3747.png  \n",
            "  inflating: flowers_imitation/3748.png  \n",
            "  inflating: flowers_imitation/3749.png  \n",
            "  inflating: flowers_imitation/375.png  \n",
            "  inflating: flowers_imitation/3750.png  \n",
            "  inflating: flowers_imitation/3751.png  \n",
            "  inflating: flowers_imitation/3752.png  \n",
            "  inflating: flowers_imitation/3753.png  \n",
            "  inflating: flowers_imitation/3754.png  \n",
            "  inflating: flowers_imitation/3755.png  \n",
            "  inflating: flowers_imitation/3756.png  \n",
            "  inflating: flowers_imitation/3757.png  \n",
            "  inflating: flowers_imitation/3758.png  \n",
            "  inflating: flowers_imitation/3759.png  \n",
            "  inflating: flowers_imitation/376.png  \n",
            "  inflating: flowers_imitation/3760.png  \n",
            "  inflating: flowers_imitation/3761.png  \n",
            "  inflating: flowers_imitation/3762.png  \n",
            "  inflating: flowers_imitation/3763.png  \n",
            "  inflating: flowers_imitation/3764.png  \n",
            "  inflating: flowers_imitation/3765.png  \n",
            "  inflating: flowers_imitation/3766.png  \n",
            "  inflating: flowers_imitation/3767.png  \n",
            "  inflating: flowers_imitation/3768.png  \n",
            "  inflating: flowers_imitation/3769.png  \n",
            "  inflating: flowers_imitation/377.png  \n",
            "  inflating: flowers_imitation/3770.png  \n",
            "  inflating: flowers_imitation/3771.png  \n",
            "  inflating: flowers_imitation/3772.png  \n",
            "  inflating: flowers_imitation/3773.png  \n",
            "  inflating: flowers_imitation/3774.png  \n",
            "  inflating: flowers_imitation/3775.png  \n",
            "  inflating: flowers_imitation/3776.png  \n",
            "  inflating: flowers_imitation/3777.png  \n",
            "  inflating: flowers_imitation/3778.png  \n",
            "  inflating: flowers_imitation/3779.png  \n",
            "  inflating: flowers_imitation/378.png  \n",
            "  inflating: flowers_imitation/3780.png  \n",
            "  inflating: flowers_imitation/3781.png  \n",
            "  inflating: flowers_imitation/3782.png  \n",
            "  inflating: flowers_imitation/3783.png  \n",
            "  inflating: flowers_imitation/3784.png  \n",
            "  inflating: flowers_imitation/3785.png  \n",
            "  inflating: flowers_imitation/3786.png  \n",
            "  inflating: flowers_imitation/3787.png  \n",
            "  inflating: flowers_imitation/3788.png  \n",
            "  inflating: flowers_imitation/3789.png  \n",
            "  inflating: flowers_imitation/379.png  \n",
            "  inflating: flowers_imitation/3790.png  \n",
            "  inflating: flowers_imitation/3791.png  \n",
            "  inflating: flowers_imitation/3793.png  \n",
            "  inflating: flowers_imitation/3794.png  \n",
            "  inflating: flowers_imitation/3795.png  \n",
            "  inflating: flowers_imitation/3796.png  \n",
            "  inflating: flowers_imitation/3797.png  \n",
            "  inflating: flowers_imitation/3798.png  \n",
            "  inflating: flowers_imitation/3799.png  \n",
            "  inflating: flowers_imitation/38.png  \n",
            "  inflating: flowers_imitation/380.png  \n",
            "  inflating: flowers_imitation/3800.png  \n",
            "  inflating: flowers_imitation/3801.png  \n",
            "  inflating: flowers_imitation/3802.png  \n",
            "  inflating: flowers_imitation/3803.png  \n",
            "  inflating: flowers_imitation/3804.png  \n",
            "  inflating: flowers_imitation/3805.png  \n",
            "  inflating: flowers_imitation/3806.png  \n",
            "  inflating: flowers_imitation/3807.png  \n",
            "  inflating: flowers_imitation/3808.png  \n",
            "  inflating: flowers_imitation/3809.png  \n",
            "  inflating: flowers_imitation/381.png  \n",
            "  inflating: flowers_imitation/3810.png  \n",
            "  inflating: flowers_imitation/3811.png  \n",
            "  inflating: flowers_imitation/3812.png  \n",
            "  inflating: flowers_imitation/3813.png  \n",
            "  inflating: flowers_imitation/3814.png  \n",
            "  inflating: flowers_imitation/3815.png  \n",
            "  inflating: flowers_imitation/3816.png  \n",
            "  inflating: flowers_imitation/3817.png  \n",
            "  inflating: flowers_imitation/3819.png  \n",
            "  inflating: flowers_imitation/382.png  \n",
            "  inflating: flowers_imitation/3820.png  \n",
            "  inflating: flowers_imitation/3821.png  \n",
            "  inflating: flowers_imitation/3822.png  \n",
            "  inflating: flowers_imitation/3823.png  \n",
            "  inflating: flowers_imitation/3824.png  \n",
            "  inflating: flowers_imitation/3825.png  \n",
            "  inflating: flowers_imitation/3826.png  \n",
            "  inflating: flowers_imitation/3827.png  \n",
            "  inflating: flowers_imitation/3828.png  \n",
            "  inflating: flowers_imitation/3829.png  \n",
            "  inflating: flowers_imitation/383.png  \n",
            "  inflating: flowers_imitation/3830.png  \n",
            "  inflating: flowers_imitation/3831.png  \n",
            "  inflating: flowers_imitation/3832.png  \n",
            "  inflating: flowers_imitation/3833.png  \n",
            "  inflating: flowers_imitation/3834.png  \n",
            "  inflating: flowers_imitation/3835.png  \n",
            "  inflating: flowers_imitation/3836.png  \n",
            "  inflating: flowers_imitation/3837.png  \n",
            "  inflating: flowers_imitation/3838.png  \n",
            "  inflating: flowers_imitation/3839.png  \n",
            "  inflating: flowers_imitation/384.png  \n",
            "  inflating: flowers_imitation/3840.png  \n",
            "  inflating: flowers_imitation/3841.png  \n",
            "  inflating: flowers_imitation/3842.png  \n",
            "  inflating: flowers_imitation/3843.png  \n",
            "  inflating: flowers_imitation/3844.png  \n",
            "  inflating: flowers_imitation/3845.png  \n",
            "  inflating: flowers_imitation/3846.png  \n",
            "  inflating: flowers_imitation/3847.png  \n",
            "  inflating: flowers_imitation/3848.png  \n",
            "  inflating: flowers_imitation/3849.png  \n",
            "  inflating: flowers_imitation/385.png  \n",
            "  inflating: flowers_imitation/3850.png  \n",
            "  inflating: flowers_imitation/3851.png  \n",
            "  inflating: flowers_imitation/3852.png  \n",
            "  inflating: flowers_imitation/3853.png  \n",
            "  inflating: flowers_imitation/3854.png  \n",
            "  inflating: flowers_imitation/3855.png  \n",
            "  inflating: flowers_imitation/3856.png  \n",
            "  inflating: flowers_imitation/3857.png  \n",
            "  inflating: flowers_imitation/3858.png  \n",
            "  inflating: flowers_imitation/3859.png  \n",
            "  inflating: flowers_imitation/386.png  \n",
            "  inflating: flowers_imitation/3860.png  \n",
            "  inflating: flowers_imitation/3861.png  \n",
            "  inflating: flowers_imitation/3862.png  \n",
            "  inflating: flowers_imitation/3863.png  \n",
            "  inflating: flowers_imitation/3865.png  \n",
            "  inflating: flowers_imitation/3866.png  \n",
            "  inflating: flowers_imitation/3867.png  \n",
            "  inflating: flowers_imitation/3868.png  \n",
            "  inflating: flowers_imitation/3869.png  \n",
            "  inflating: flowers_imitation/387.png  \n",
            "  inflating: flowers_imitation/3870.png  \n",
            "  inflating: flowers_imitation/3871.png  \n",
            "  inflating: flowers_imitation/3872.png  \n",
            "  inflating: flowers_imitation/3873.png  \n",
            "  inflating: flowers_imitation/3874.png  \n",
            "  inflating: flowers_imitation/3875.png  \n",
            "  inflating: flowers_imitation/3876.png  \n",
            "  inflating: flowers_imitation/3877.png  \n",
            "  inflating: flowers_imitation/3878.png  \n",
            "  inflating: flowers_imitation/3879.png  \n",
            "  inflating: flowers_imitation/388.png  \n",
            "  inflating: flowers_imitation/3880.png  \n",
            "  inflating: flowers_imitation/3881.png  \n",
            "  inflating: flowers_imitation/3882.png  \n",
            "  inflating: flowers_imitation/3883.png  \n",
            "  inflating: flowers_imitation/3885.png  \n",
            "  inflating: flowers_imitation/3886.png  \n",
            "  inflating: flowers_imitation/3887.png  \n",
            "  inflating: flowers_imitation/3888.png  \n",
            "  inflating: flowers_imitation/3889.png  \n",
            "  inflating: flowers_imitation/389.png  \n",
            "  inflating: flowers_imitation/3890.png  \n",
            "  inflating: flowers_imitation/3891.png  \n",
            "  inflating: flowers_imitation/3892.png  \n",
            "  inflating: flowers_imitation/3893.png  \n",
            "  inflating: flowers_imitation/3894.png  \n",
            "  inflating: flowers_imitation/3895.png  \n",
            "  inflating: flowers_imitation/3896.png  \n",
            "  inflating: flowers_imitation/3897.png  \n",
            "  inflating: flowers_imitation/3898.png  \n",
            "  inflating: flowers_imitation/3899.png  \n",
            "  inflating: flowers_imitation/39.png  \n",
            "  inflating: flowers_imitation/390.png  \n",
            "  inflating: flowers_imitation/3900.png  \n",
            "  inflating: flowers_imitation/3901.png  \n",
            "  inflating: flowers_imitation/3902.png  \n",
            "  inflating: flowers_imitation/3903.png  \n",
            "  inflating: flowers_imitation/3904.png  \n",
            "  inflating: flowers_imitation/3905.png  \n",
            "  inflating: flowers_imitation/3906.png  \n",
            "  inflating: flowers_imitation/3907.png  \n",
            "  inflating: flowers_imitation/3908.png  \n",
            "  inflating: flowers_imitation/3909.png  \n",
            "  inflating: flowers_imitation/391.png  \n",
            "  inflating: flowers_imitation/3910.png  \n",
            "  inflating: flowers_imitation/3911.png  \n",
            "  inflating: flowers_imitation/3912.png  \n",
            "  inflating: flowers_imitation/3914.png  \n",
            "  inflating: flowers_imitation/3916.png  \n",
            "  inflating: flowers_imitation/3917.png  \n",
            "  inflating: flowers_imitation/3919.png  \n",
            "  inflating: flowers_imitation/392.png  \n",
            "  inflating: flowers_imitation/3920.png  \n",
            "  inflating: flowers_imitation/3921.png  \n",
            "  inflating: flowers_imitation/3922.png  \n",
            "  inflating: flowers_imitation/3923.png  \n",
            "  inflating: flowers_imitation/3924.png  \n",
            "  inflating: flowers_imitation/3926.png  \n",
            "  inflating: flowers_imitation/3927.png  \n",
            "  inflating: flowers_imitation/3928.png  \n",
            "  inflating: flowers_imitation/393.png  \n",
            "  inflating: flowers_imitation/3930.png  \n",
            "  inflating: flowers_imitation/3932.png  \n",
            "  inflating: flowers_imitation/3933.png  \n",
            "  inflating: flowers_imitation/3934.png  \n",
            "  inflating: flowers_imitation/3935.png  \n",
            "  inflating: flowers_imitation/3936.png  \n",
            "  inflating: flowers_imitation/3937.png  \n",
            "  inflating: flowers_imitation/3938.png  \n",
            "  inflating: flowers_imitation/3939.png  \n",
            "  inflating: flowers_imitation/394.png  \n",
            "  inflating: flowers_imitation/3940.png  \n",
            "  inflating: flowers_imitation/3941.png  \n",
            "  inflating: flowers_imitation/3942.png  \n",
            "  inflating: flowers_imitation/3943.png  \n",
            "  inflating: flowers_imitation/3944.png  \n",
            "  inflating: flowers_imitation/3945.png  \n",
            "  inflating: flowers_imitation/3946.png  \n",
            "  inflating: flowers_imitation/3947.png  \n",
            "  inflating: flowers_imitation/3948.png  \n",
            "  inflating: flowers_imitation/3949.png  \n",
            "  inflating: flowers_imitation/395.png  \n",
            "  inflating: flowers_imitation/3950.png  \n",
            "  inflating: flowers_imitation/3951.png  \n",
            "  inflating: flowers_imitation/3952.png  \n",
            "  inflating: flowers_imitation/3953.png  \n",
            "  inflating: flowers_imitation/3954.png  \n",
            "  inflating: flowers_imitation/3955.png  \n",
            "  inflating: flowers_imitation/3956.png  \n",
            "  inflating: flowers_imitation/3957.png  \n",
            "  inflating: flowers_imitation/3959.png  \n",
            "  inflating: flowers_imitation/396.png  \n",
            "  inflating: flowers_imitation/3960.png  \n",
            "  inflating: flowers_imitation/3961.png  \n",
            "  inflating: flowers_imitation/3962.png  \n",
            "  inflating: flowers_imitation/3963.png  \n",
            "  inflating: flowers_imitation/3964.png  \n",
            "  inflating: flowers_imitation/3965.png  \n",
            "  inflating: flowers_imitation/3966.png  \n",
            "  inflating: flowers_imitation/3967.png  \n",
            "  inflating: flowers_imitation/3968.png  \n",
            "  inflating: flowers_imitation/3969.png  \n",
            "  inflating: flowers_imitation/397.png  \n",
            "  inflating: flowers_imitation/3970.png  \n",
            "  inflating: flowers_imitation/3971.png  \n",
            "  inflating: flowers_imitation/3972.png  \n",
            "  inflating: flowers_imitation/3974.png  \n",
            "  inflating: flowers_imitation/3975.png  \n",
            "  inflating: flowers_imitation/3976.png  \n",
            "  inflating: flowers_imitation/3977.png  \n",
            "  inflating: flowers_imitation/3978.png  \n",
            "  inflating: flowers_imitation/3979.png  \n",
            "  inflating: flowers_imitation/398.png  \n",
            "  inflating: flowers_imitation/3980.png  \n",
            "  inflating: flowers_imitation/3981.png  \n",
            "  inflating: flowers_imitation/3982.png  \n",
            "  inflating: flowers_imitation/3983.png  \n",
            "  inflating: flowers_imitation/3984.png  \n",
            "  inflating: flowers_imitation/3985.png  \n",
            "  inflating: flowers_imitation/3986.png  \n",
            "  inflating: flowers_imitation/3987.png  \n",
            "  inflating: flowers_imitation/3988.png  \n",
            "  inflating: flowers_imitation/399.png  \n",
            "  inflating: flowers_imitation/3990.png  \n",
            "  inflating: flowers_imitation/3991.png  \n",
            "  inflating: flowers_imitation/3992.png  \n",
            "  inflating: flowers_imitation/3993.png  \n",
            "  inflating: flowers_imitation/3994.png  \n",
            "  inflating: flowers_imitation/3995.png  \n",
            "  inflating: flowers_imitation/3996.png  \n",
            "  inflating: flowers_imitation/3997.png  \n",
            "  inflating: flowers_imitation/3998.png  \n",
            "  inflating: flowers_imitation/3999.png  \n",
            "  inflating: flowers_imitation/4.png  \n",
            "  inflating: flowers_imitation/40.png  \n",
            "  inflating: flowers_imitation/400.png  \n",
            "  inflating: flowers_imitation/4000.png  \n",
            "  inflating: flowers_imitation/4001.png  \n",
            "  inflating: flowers_imitation/4002.png  \n",
            "  inflating: flowers_imitation/4003.png  \n",
            "  inflating: flowers_imitation/4004.png  \n",
            "  inflating: flowers_imitation/4005.png  \n",
            "  inflating: flowers_imitation/4006.png  \n",
            "  inflating: flowers_imitation/4008.png  \n",
            "  inflating: flowers_imitation/4009.png  \n",
            "  inflating: flowers_imitation/401.png  \n",
            "  inflating: flowers_imitation/4010.png  \n",
            "  inflating: flowers_imitation/4011.png  \n",
            "  inflating: flowers_imitation/4012.png  \n",
            "  inflating: flowers_imitation/4013.png  \n",
            "  inflating: flowers_imitation/4014.png  \n",
            "  inflating: flowers_imitation/4015.png  \n",
            "  inflating: flowers_imitation/4016.png  \n",
            "  inflating: flowers_imitation/4017.png  \n",
            "  inflating: flowers_imitation/4018.png  \n",
            "  inflating: flowers_imitation/4019.png  \n",
            "  inflating: flowers_imitation/402.png  \n",
            "  inflating: flowers_imitation/4020.png  \n",
            "  inflating: flowers_imitation/4021.png  \n",
            "  inflating: flowers_imitation/4022.png  \n",
            "  inflating: flowers_imitation/4023.png  \n",
            "  inflating: flowers_imitation/4024.png  \n",
            "  inflating: flowers_imitation/4025.png  \n",
            "  inflating: flowers_imitation/4026.png  \n",
            "  inflating: flowers_imitation/4027.png  \n",
            "  inflating: flowers_imitation/4028.png  \n",
            "  inflating: flowers_imitation/4029.png  \n",
            "  inflating: flowers_imitation/403.png  \n",
            "  inflating: flowers_imitation/4030.png  \n",
            "  inflating: flowers_imitation/4031.png  \n",
            "  inflating: flowers_imitation/4032.png  \n",
            "  inflating: flowers_imitation/4033.png  \n",
            "  inflating: flowers_imitation/4034.png  \n",
            "  inflating: flowers_imitation/4035.png  \n",
            "  inflating: flowers_imitation/4036.png  \n",
            "  inflating: flowers_imitation/4037.png  \n",
            "  inflating: flowers_imitation/4038.png  \n",
            "  inflating: flowers_imitation/4039.png  \n",
            "  inflating: flowers_imitation/404.png  \n",
            "  inflating: flowers_imitation/4040.png  \n",
            "  inflating: flowers_imitation/4041.png  \n",
            "  inflating: flowers_imitation/4042.png  \n",
            "  inflating: flowers_imitation/4044.png  \n",
            "  inflating: flowers_imitation/4045.png  \n",
            "  inflating: flowers_imitation/4046.png  \n",
            "  inflating: flowers_imitation/4047.png  \n",
            "  inflating: flowers_imitation/4048.png  \n",
            "  inflating: flowers_imitation/4049.png  \n",
            "  inflating: flowers_imitation/405.png  \n",
            "  inflating: flowers_imitation/4051.png  \n",
            "  inflating: flowers_imitation/4052.png  \n",
            "  inflating: flowers_imitation/4053.png  \n",
            "  inflating: flowers_imitation/4054.png  \n",
            "  inflating: flowers_imitation/4055.png  \n",
            "  inflating: flowers_imitation/4056.png  \n",
            "  inflating: flowers_imitation/4057.png  \n",
            "  inflating: flowers_imitation/4058.png  \n",
            "  inflating: flowers_imitation/4059.png  \n",
            "  inflating: flowers_imitation/406.png  \n",
            "  inflating: flowers_imitation/4060.png  \n",
            "  inflating: flowers_imitation/4061.png  \n",
            "  inflating: flowers_imitation/4062.png  \n",
            "  inflating: flowers_imitation/4063.png  \n",
            "  inflating: flowers_imitation/4064.png  \n",
            "  inflating: flowers_imitation/4065.png  \n",
            "  inflating: flowers_imitation/4066.png  \n",
            "  inflating: flowers_imitation/4067.png  \n",
            "  inflating: flowers_imitation/4068.png  \n",
            "  inflating: flowers_imitation/4069.png  \n",
            "  inflating: flowers_imitation/407.png  \n",
            "  inflating: flowers_imitation/4070.png  \n",
            "  inflating: flowers_imitation/4071.png  \n",
            "  inflating: flowers_imitation/4072.png  \n",
            "  inflating: flowers_imitation/4073.png  \n",
            "  inflating: flowers_imitation/4074.png  \n",
            "  inflating: flowers_imitation/4075.png  \n",
            "  inflating: flowers_imitation/4076.png  \n",
            "  inflating: flowers_imitation/4077.png  \n",
            "  inflating: flowers_imitation/4078.png  \n",
            "  inflating: flowers_imitation/4079.png  \n",
            "  inflating: flowers_imitation/408.png  \n",
            "  inflating: flowers_imitation/4080.png  \n",
            "  inflating: flowers_imitation/4082.png  \n",
            "  inflating: flowers_imitation/4083.png  \n",
            "  inflating: flowers_imitation/4084.png  \n",
            "  inflating: flowers_imitation/4085.png  \n",
            "  inflating: flowers_imitation/4086.png  \n",
            "  inflating: flowers_imitation/4087.png  \n",
            "  inflating: flowers_imitation/4088.png  \n",
            "  inflating: flowers_imitation/4089.png  \n",
            "  inflating: flowers_imitation/409.png  \n",
            "  inflating: flowers_imitation/4090.png  \n",
            "  inflating: flowers_imitation/4091.png  \n",
            "  inflating: flowers_imitation/4092.png  \n",
            "  inflating: flowers_imitation/4093.png  \n",
            "  inflating: flowers_imitation/4094.png  \n",
            "  inflating: flowers_imitation/4095.png  \n",
            "  inflating: flowers_imitation/4096.png  \n",
            "  inflating: flowers_imitation/4097.png  \n",
            "  inflating: flowers_imitation/4098.png  \n",
            "  inflating: flowers_imitation/4099.png  \n",
            "  inflating: flowers_imitation/41.png  \n",
            "  inflating: flowers_imitation/410.png  \n",
            "  inflating: flowers_imitation/4100.png  \n",
            "  inflating: flowers_imitation/4101.png  \n",
            "  inflating: flowers_imitation/4102.png  \n",
            "  inflating: flowers_imitation/4103.png  \n",
            "  inflating: flowers_imitation/4104.png  \n",
            "  inflating: flowers_imitation/4105.png  \n",
            "  inflating: flowers_imitation/4106.png  \n",
            "  inflating: flowers_imitation/4107.png  \n",
            "  inflating: flowers_imitation/4108.png  \n",
            "  inflating: flowers_imitation/4109.png  \n",
            "  inflating: flowers_imitation/411.png  \n",
            "  inflating: flowers_imitation/4110.png  \n",
            "  inflating: flowers_imitation/4111.png  \n",
            "  inflating: flowers_imitation/4112.png  \n",
            "  inflating: flowers_imitation/4113.png  \n",
            "  inflating: flowers_imitation/4114.png  \n",
            "  inflating: flowers_imitation/4115.png  \n",
            "  inflating: flowers_imitation/4116.png  \n",
            "  inflating: flowers_imitation/4117.png  \n",
            "  inflating: flowers_imitation/4118.png  \n",
            "  inflating: flowers_imitation/4119.png  \n",
            "  inflating: flowers_imitation/412.png  \n",
            "  inflating: flowers_imitation/4120.png  \n",
            "  inflating: flowers_imitation/4121.png  \n",
            "  inflating: flowers_imitation/4122.png  \n",
            "  inflating: flowers_imitation/4123.png  \n",
            "  inflating: flowers_imitation/4124.png  \n",
            "  inflating: flowers_imitation/4125.png  \n",
            "  inflating: flowers_imitation/4126.png  \n",
            "  inflating: flowers_imitation/4127.png  \n",
            "  inflating: flowers_imitation/4128.png  \n",
            "  inflating: flowers_imitation/4129.png  \n",
            "  inflating: flowers_imitation/413.png  \n",
            "  inflating: flowers_imitation/4130.png  \n",
            "  inflating: flowers_imitation/4131.png  \n",
            "  inflating: flowers_imitation/4132.png  \n",
            "  inflating: flowers_imitation/4133.png  \n",
            "  inflating: flowers_imitation/4134.png  \n",
            "  inflating: flowers_imitation/4136.png  \n",
            "  inflating: flowers_imitation/4137.png  \n",
            "  inflating: flowers_imitation/4138.png  \n",
            "  inflating: flowers_imitation/4139.png  \n",
            "  inflating: flowers_imitation/414.png  \n",
            "  inflating: flowers_imitation/4140.png  \n",
            "  inflating: flowers_imitation/4141.png  \n",
            "  inflating: flowers_imitation/4142.png  \n",
            "  inflating: flowers_imitation/4143.png  \n",
            "  inflating: flowers_imitation/4144.png  \n",
            "  inflating: flowers_imitation/4145.png  \n",
            "  inflating: flowers_imitation/4146.png  \n",
            "  inflating: flowers_imitation/4147.png  \n",
            "  inflating: flowers_imitation/4148.png  \n",
            "  inflating: flowers_imitation/415.png  \n",
            "  inflating: flowers_imitation/4150.png  \n",
            "  inflating: flowers_imitation/4151.png  \n",
            "  inflating: flowers_imitation/4152.png  \n",
            "  inflating: flowers_imitation/4153.png  \n",
            "  inflating: flowers_imitation/4154.png  \n",
            "  inflating: flowers_imitation/4155.png  \n",
            "  inflating: flowers_imitation/4156.png  \n",
            "  inflating: flowers_imitation/4157.png  \n",
            "  inflating: flowers_imitation/4158.png  \n",
            "  inflating: flowers_imitation/4159.png  \n",
            "  inflating: flowers_imitation/416.png  \n",
            "  inflating: flowers_imitation/4160.png  \n",
            "  inflating: flowers_imitation/4161.png  \n",
            "  inflating: flowers_imitation/4162.png  \n",
            "  inflating: flowers_imitation/4163.png  \n",
            "  inflating: flowers_imitation/4164.png  \n",
            "  inflating: flowers_imitation/4165.png  \n",
            "  inflating: flowers_imitation/4166.png  \n",
            "  inflating: flowers_imitation/4167.png  \n",
            "  inflating: flowers_imitation/4168.png  \n",
            "  inflating: flowers_imitation/4169.png  \n",
            "  inflating: flowers_imitation/417.png  \n",
            "  inflating: flowers_imitation/4170.png  \n",
            "  inflating: flowers_imitation/4171.png  \n",
            "  inflating: flowers_imitation/4172.png  \n",
            "  inflating: flowers_imitation/4173.png  \n",
            "  inflating: flowers_imitation/4174.png  \n",
            "  inflating: flowers_imitation/4175.png  \n",
            "  inflating: flowers_imitation/4176.png  \n",
            "  inflating: flowers_imitation/4177.png  \n",
            "  inflating: flowers_imitation/4178.png  \n",
            "  inflating: flowers_imitation/4179.png  \n",
            "  inflating: flowers_imitation/418.png  \n",
            "  inflating: flowers_imitation/4180.png  \n",
            "  inflating: flowers_imitation/4181.png  \n",
            "  inflating: flowers_imitation/4182.png  \n",
            "  inflating: flowers_imitation/4183.png  \n",
            "  inflating: flowers_imitation/4184.png  \n",
            "  inflating: flowers_imitation/4185.png  \n",
            "  inflating: flowers_imitation/4186.png  \n",
            "  inflating: flowers_imitation/4187.png  \n",
            "  inflating: flowers_imitation/4188.png  \n",
            "  inflating: flowers_imitation/419.png  \n",
            "  inflating: flowers_imitation/4191.png  \n",
            "  inflating: flowers_imitation/4192.png  \n",
            "  inflating: flowers_imitation/4193.png  \n",
            "  inflating: flowers_imitation/4194.png  \n",
            "  inflating: flowers_imitation/4196.png  \n",
            "  inflating: flowers_imitation/4197.png  \n",
            "  inflating: flowers_imitation/4198.png  \n",
            "  inflating: flowers_imitation/4199.png  \n",
            "  inflating: flowers_imitation/42.png  \n",
            "  inflating: flowers_imitation/420.png  \n",
            "  inflating: flowers_imitation/4200.png  \n",
            "  inflating: flowers_imitation/4201.png  \n",
            "  inflating: flowers_imitation/4202.png  \n",
            "  inflating: flowers_imitation/4203.png  \n",
            "  inflating: flowers_imitation/4204.png  \n",
            "  inflating: flowers_imitation/4205.png  \n",
            "  inflating: flowers_imitation/4206.png  \n",
            "  inflating: flowers_imitation/4207.png  \n",
            "  inflating: flowers_imitation/4208.png  \n",
            "  inflating: flowers_imitation/4209.png  \n",
            "  inflating: flowers_imitation/421.png  \n",
            "  inflating: flowers_imitation/4210.png  \n",
            "  inflating: flowers_imitation/4211.png  \n",
            "  inflating: flowers_imitation/4212.png  \n",
            "  inflating: flowers_imitation/4213.png  \n",
            "  inflating: flowers_imitation/4214.png  \n",
            "  inflating: flowers_imitation/4215.png  \n",
            "  inflating: flowers_imitation/4216.png  \n",
            "  inflating: flowers_imitation/4217.png  \n",
            "  inflating: flowers_imitation/4218.png  \n",
            "  inflating: flowers_imitation/4219.png  \n",
            "  inflating: flowers_imitation/422.png  \n",
            "  inflating: flowers_imitation/4220.png  \n",
            "  inflating: flowers_imitation/4221.png  \n",
            "  inflating: flowers_imitation/4222.png  \n",
            "  inflating: flowers_imitation/4223.png  \n",
            "  inflating: flowers_imitation/4224.png  \n",
            "  inflating: flowers_imitation/4225.png  \n",
            "  inflating: flowers_imitation/4226.png  \n",
            "  inflating: flowers_imitation/4227.png  \n",
            "  inflating: flowers_imitation/4228.png  \n",
            "  inflating: flowers_imitation/4229.png  \n",
            "  inflating: flowers_imitation/423.png  \n",
            "  inflating: flowers_imitation/4230.png  \n",
            "  inflating: flowers_imitation/4231.png  \n",
            "  inflating: flowers_imitation/4232.png  \n",
            "  inflating: flowers_imitation/4233.png  \n",
            "  inflating: flowers_imitation/4234.png  \n",
            "  inflating: flowers_imitation/4235.png  \n",
            "  inflating: flowers_imitation/4236.png  \n",
            "  inflating: flowers_imitation/4237.png  \n",
            "  inflating: flowers_imitation/4238.png  \n",
            "  inflating: flowers_imitation/4239.png  \n",
            "  inflating: flowers_imitation/424.png  \n",
            "  inflating: flowers_imitation/4240.png  \n",
            "  inflating: flowers_imitation/4242.png  \n",
            "  inflating: flowers_imitation/4243.png  \n",
            "  inflating: flowers_imitation/4244.png  \n",
            "  inflating: flowers_imitation/4245.png  \n",
            "  inflating: flowers_imitation/4246.png  \n",
            "  inflating: flowers_imitation/4247.png  \n",
            "  inflating: flowers_imitation/4248.png  \n",
            "  inflating: flowers_imitation/4249.png  \n",
            "  inflating: flowers_imitation/425.png  \n",
            "  inflating: flowers_imitation/4250.png  \n",
            "  inflating: flowers_imitation/4251.png  \n",
            "  inflating: flowers_imitation/4252.png  \n",
            "  inflating: flowers_imitation/4253.png  \n",
            "  inflating: flowers_imitation/4254.png  \n",
            "  inflating: flowers_imitation/4255.png  \n",
            "  inflating: flowers_imitation/4256.png  \n",
            "  inflating: flowers_imitation/4257.png  \n",
            "  inflating: flowers_imitation/4258.png  \n",
            "  inflating: flowers_imitation/4259.png  \n",
            "  inflating: flowers_imitation/426.png  \n",
            "  inflating: flowers_imitation/4260.png  \n",
            "  inflating: flowers_imitation/4261.png  \n",
            "  inflating: flowers_imitation/4262.png  \n",
            "  inflating: flowers_imitation/4264.png  \n",
            "  inflating: flowers_imitation/4265.png  \n",
            "  inflating: flowers_imitation/4266.png  \n",
            "  inflating: flowers_imitation/4267.png  \n",
            "  inflating: flowers_imitation/4268.png  \n",
            "  inflating: flowers_imitation/4269.png  \n",
            "  inflating: flowers_imitation/427.png  \n",
            "  inflating: flowers_imitation/4270.png  \n",
            "  inflating: flowers_imitation/4271.png  \n",
            "  inflating: flowers_imitation/4272.png  \n",
            "  inflating: flowers_imitation/4273.png  \n",
            "  inflating: flowers_imitation/4274.png  \n",
            "  inflating: flowers_imitation/4275.png  \n",
            "  inflating: flowers_imitation/4276.png  \n",
            "  inflating: flowers_imitation/4277.png  \n",
            "  inflating: flowers_imitation/4278.png  \n",
            "  inflating: flowers_imitation/4279.png  \n",
            "  inflating: flowers_imitation/428.png  \n",
            "  inflating: flowers_imitation/4280.png  \n",
            "  inflating: flowers_imitation/4281.png  \n",
            "  inflating: flowers_imitation/4282.png  \n",
            "  inflating: flowers_imitation/4284.png  \n",
            "  inflating: flowers_imitation/4285.png  \n",
            "  inflating: flowers_imitation/4286.png  \n",
            "  inflating: flowers_imitation/4287.png  \n",
            "  inflating: flowers_imitation/4288.png  \n",
            "  inflating: flowers_imitation/4289.png  \n",
            "  inflating: flowers_imitation/429.png  \n",
            "  inflating: flowers_imitation/4290.png  \n",
            "  inflating: flowers_imitation/4291.png  \n",
            "  inflating: flowers_imitation/4292.png  \n",
            "  inflating: flowers_imitation/4293.png  \n",
            "  inflating: flowers_imitation/4294.png  \n",
            "  inflating: flowers_imitation/4295.png  \n",
            "  inflating: flowers_imitation/4296.png  \n",
            "  inflating: flowers_imitation/4298.png  \n",
            "  inflating: flowers_imitation/43.png  \n",
            "  inflating: flowers_imitation/430.png  \n",
            "  inflating: flowers_imitation/4300.png  \n",
            "  inflating: flowers_imitation/4301.png  \n",
            "  inflating: flowers_imitation/4302.png  \n",
            "  inflating: flowers_imitation/4303.png  \n",
            "  inflating: flowers_imitation/4304.png  \n",
            "  inflating: flowers_imitation/4305.png  \n",
            "  inflating: flowers_imitation/4306.png  \n",
            "  inflating: flowers_imitation/4307.png  \n",
            "  inflating: flowers_imitation/4308.png  \n",
            "  inflating: flowers_imitation/4309.png  \n",
            "  inflating: flowers_imitation/431.png  \n",
            "  inflating: flowers_imitation/4310.png  \n",
            "  inflating: flowers_imitation/4311.png  \n",
            "  inflating: flowers_imitation/4312.png  \n",
            "  inflating: flowers_imitation/4313.png  \n",
            "  inflating: flowers_imitation/4314.png  \n",
            "  inflating: flowers_imitation/4315.png  \n",
            "  inflating: flowers_imitation/4316.png  \n",
            "  inflating: flowers_imitation/4317.png  \n",
            "  inflating: flowers_imitation/4318.png  \n",
            "  inflating: flowers_imitation/4319.png  \n",
            "  inflating: flowers_imitation/432.png  \n",
            "  inflating: flowers_imitation/4320.png  \n",
            "  inflating: flowers_imitation/4321.png  \n",
            "  inflating: flowers_imitation/4322.png  \n",
            "  inflating: flowers_imitation/4323.png  \n",
            "  inflating: flowers_imitation/4324.png  \n",
            "  inflating: flowers_imitation/4325.png  \n",
            "  inflating: flowers_imitation/4326.png  \n",
            "  inflating: flowers_imitation/4327.png  \n",
            "  inflating: flowers_imitation/4328.png  \n",
            "  inflating: flowers_imitation/4329.png  \n",
            "  inflating: flowers_imitation/433.png  \n",
            "  inflating: flowers_imitation/4330.png  \n",
            "  inflating: flowers_imitation/4331.png  \n",
            "  inflating: flowers_imitation/4332.png  \n",
            "  inflating: flowers_imitation/4333.png  \n",
            "  inflating: flowers_imitation/4334.png  \n",
            "  inflating: flowers_imitation/4335.png  \n",
            "  inflating: flowers_imitation/4336.png  \n",
            "  inflating: flowers_imitation/4337.png  \n",
            "  inflating: flowers_imitation/4338.png  \n",
            "  inflating: flowers_imitation/4339.png  \n",
            "  inflating: flowers_imitation/434.png  \n",
            "  inflating: flowers_imitation/4340.png  \n",
            "  inflating: flowers_imitation/4341.png  \n",
            "  inflating: flowers_imitation/4342.png  \n",
            "  inflating: flowers_imitation/4343.png  \n",
            "  inflating: flowers_imitation/4344.png  \n",
            "  inflating: flowers_imitation/4345.png  \n",
            "  inflating: flowers_imitation/4346.png  \n",
            "  inflating: flowers_imitation/4347.png  \n",
            "  inflating: flowers_imitation/4348.png  \n",
            "  inflating: flowers_imitation/4349.png  \n",
            "  inflating: flowers_imitation/435.png  \n",
            "  inflating: flowers_imitation/4350.png  \n",
            "  inflating: flowers_imitation/4351.png  \n",
            "  inflating: flowers_imitation/4352.png  \n",
            "  inflating: flowers_imitation/4353.png  \n",
            "  inflating: flowers_imitation/4354.png  \n",
            "  inflating: flowers_imitation/4355.png  \n",
            "  inflating: flowers_imitation/4356.png  \n",
            "  inflating: flowers_imitation/4357.png  \n",
            "  inflating: flowers_imitation/4358.png  \n",
            "  inflating: flowers_imitation/4359.png  \n",
            "  inflating: flowers_imitation/436.png  \n",
            "  inflating: flowers_imitation/4360.png  \n",
            "  inflating: flowers_imitation/4361.png  \n",
            "  inflating: flowers_imitation/4362.png  \n",
            "  inflating: flowers_imitation/4363.png  \n",
            "  inflating: flowers_imitation/4364.png  \n",
            "  inflating: flowers_imitation/4365.png  \n",
            "  inflating: flowers_imitation/4366.png  \n",
            "  inflating: flowers_imitation/4367.png  \n",
            "  inflating: flowers_imitation/4368.png  \n",
            "  inflating: flowers_imitation/4369.png  \n",
            "  inflating: flowers_imitation/437.png  \n",
            "  inflating: flowers_imitation/4370.png  \n",
            "  inflating: flowers_imitation/4371.png  \n",
            "  inflating: flowers_imitation/4372.png  \n",
            "  inflating: flowers_imitation/4373.png  \n",
            "  inflating: flowers_imitation/4374.png  \n",
            "  inflating: flowers_imitation/4375.png  \n",
            "  inflating: flowers_imitation/4376.png  \n",
            "  inflating: flowers_imitation/4377.png  \n",
            "  inflating: flowers_imitation/4378.png  \n",
            "  inflating: flowers_imitation/4379.png  \n",
            "  inflating: flowers_imitation/438.png  \n",
            "  inflating: flowers_imitation/4380.png  \n",
            "  inflating: flowers_imitation/4381.png  \n",
            "  inflating: flowers_imitation/4382.png  \n",
            "  inflating: flowers_imitation/4383.png  \n",
            "  inflating: flowers_imitation/4384.png  \n",
            "  inflating: flowers_imitation/4385.png  \n",
            "  inflating: flowers_imitation/4386.png  \n",
            "  inflating: flowers_imitation/4387.png  \n",
            "  inflating: flowers_imitation/4388.png  \n",
            "  inflating: flowers_imitation/4389.png  \n",
            "  inflating: flowers_imitation/439.png  \n",
            "  inflating: flowers_imitation/4390.png  \n",
            "  inflating: flowers_imitation/4391.png  \n",
            "  inflating: flowers_imitation/4392.png  \n",
            "  inflating: flowers_imitation/4393.png  \n",
            "  inflating: flowers_imitation/4394.png  \n",
            "  inflating: flowers_imitation/4395.png  \n",
            "  inflating: flowers_imitation/4396.png  \n",
            "  inflating: flowers_imitation/4397.png  \n",
            "  inflating: flowers_imitation/4398.png  \n",
            "  inflating: flowers_imitation/4399.png  \n",
            "  inflating: flowers_imitation/44.png  \n",
            "  inflating: flowers_imitation/440.png  \n",
            "  inflating: flowers_imitation/4400.png  \n",
            "  inflating: flowers_imitation/4401.png  \n",
            "  inflating: flowers_imitation/4402.png  \n",
            "  inflating: flowers_imitation/4403.png  \n",
            "  inflating: flowers_imitation/4404.png  \n",
            "  inflating: flowers_imitation/4405.png  \n",
            "  inflating: flowers_imitation/4406.png  \n",
            "  inflating: flowers_imitation/4407.png  \n",
            "  inflating: flowers_imitation/4408.png  \n",
            "  inflating: flowers_imitation/4409.png  \n",
            "  inflating: flowers_imitation/441.png  \n",
            "  inflating: flowers_imitation/4410.png  \n",
            "  inflating: flowers_imitation/4411.png  \n",
            "  inflating: flowers_imitation/4412.png  \n",
            "  inflating: flowers_imitation/4413.png  \n",
            "  inflating: flowers_imitation/4414.png  \n",
            "  inflating: flowers_imitation/4416.png  \n",
            "  inflating: flowers_imitation/4417.png  \n",
            "  inflating: flowers_imitation/4418.png  \n",
            "  inflating: flowers_imitation/4419.png  \n",
            "  inflating: flowers_imitation/442.png  \n",
            "  inflating: flowers_imitation/4420.png  \n",
            "  inflating: flowers_imitation/4421.png  \n",
            "  inflating: flowers_imitation/4422.png  \n",
            "  inflating: flowers_imitation/4423.png  \n",
            "  inflating: flowers_imitation/4424.png  \n",
            "  inflating: flowers_imitation/4425.png  \n",
            "  inflating: flowers_imitation/4426.png  \n",
            "  inflating: flowers_imitation/4427.png  \n",
            "  inflating: flowers_imitation/4428.png  \n",
            "  inflating: flowers_imitation/4429.png  \n",
            "  inflating: flowers_imitation/443.png  \n",
            "  inflating: flowers_imitation/4430.png  \n",
            "  inflating: flowers_imitation/4431.png  \n",
            "  inflating: flowers_imitation/4432.png  \n",
            "  inflating: flowers_imitation/4433.png  \n",
            "  inflating: flowers_imitation/4434.png  \n",
            "  inflating: flowers_imitation/4435.png  \n",
            "  inflating: flowers_imitation/4436.png  \n",
            "  inflating: flowers_imitation/4437.png  \n",
            "  inflating: flowers_imitation/4438.png  \n",
            "  inflating: flowers_imitation/4439.png  \n",
            "  inflating: flowers_imitation/444.png  \n",
            "  inflating: flowers_imitation/4440.png  \n",
            "  inflating: flowers_imitation/4441.png  \n",
            "  inflating: flowers_imitation/4442.png  \n",
            "  inflating: flowers_imitation/4443.png  \n",
            "  inflating: flowers_imitation/4444.png  \n",
            "  inflating: flowers_imitation/4445.png  \n",
            "  inflating: flowers_imitation/4446.png  \n",
            "  inflating: flowers_imitation/4447.png  \n",
            "  inflating: flowers_imitation/4448.png  \n",
            "  inflating: flowers_imitation/4449.png  \n",
            "  inflating: flowers_imitation/445.png  \n",
            "  inflating: flowers_imitation/4450.png  \n",
            "  inflating: flowers_imitation/4451.png  \n",
            "  inflating: flowers_imitation/4452.png  \n",
            "  inflating: flowers_imitation/4453.png  \n",
            "  inflating: flowers_imitation/4454.png  \n",
            "  inflating: flowers_imitation/4455.png  \n",
            "  inflating: flowers_imitation/4456.png  \n",
            "  inflating: flowers_imitation/4457.png  \n",
            "  inflating: flowers_imitation/4458.png  \n",
            "  inflating: flowers_imitation/4459.png  \n",
            "  inflating: flowers_imitation/446.png  \n",
            "  inflating: flowers_imitation/4460.png  \n",
            "  inflating: flowers_imitation/4461.png  \n",
            "  inflating: flowers_imitation/4462.png  \n",
            "  inflating: flowers_imitation/4463.png  \n",
            "  inflating: flowers_imitation/4464.png  \n",
            "  inflating: flowers_imitation/4465.png  \n",
            "  inflating: flowers_imitation/4466.png  \n",
            "  inflating: flowers_imitation/4467.png  \n",
            "  inflating: flowers_imitation/4468.png  \n",
            "  inflating: flowers_imitation/4469.png  \n",
            "  inflating: flowers_imitation/447.png  \n",
            "  inflating: flowers_imitation/4470.png  \n",
            "  inflating: flowers_imitation/4471.png  \n",
            "  inflating: flowers_imitation/4472.png  \n",
            "  inflating: flowers_imitation/4473.png  \n",
            "  inflating: flowers_imitation/4474.png  \n",
            "  inflating: flowers_imitation/4475.png  \n",
            "  inflating: flowers_imitation/4476.png  \n",
            "  inflating: flowers_imitation/4477.png  \n",
            "  inflating: flowers_imitation/4478.png  \n",
            "  inflating: flowers_imitation/4479.png  \n",
            "  inflating: flowers_imitation/448.png  \n",
            "  inflating: flowers_imitation/4480.png  \n",
            "  inflating: flowers_imitation/4481.png  \n",
            "  inflating: flowers_imitation/4482.png  \n",
            "  inflating: flowers_imitation/4483.png  \n",
            "  inflating: flowers_imitation/4484.png  \n",
            "  inflating: flowers_imitation/4485.png  \n",
            "  inflating: flowers_imitation/4486.png  \n",
            "  inflating: flowers_imitation/4487.png  \n",
            "  inflating: flowers_imitation/4488.png  \n",
            "  inflating: flowers_imitation/4489.png  \n",
            "  inflating: flowers_imitation/449.png  \n",
            "  inflating: flowers_imitation/4490.png  \n",
            "  inflating: flowers_imitation/4491.png  \n",
            "  inflating: flowers_imitation/4492.png  \n",
            "  inflating: flowers_imitation/4493.png  \n",
            "  inflating: flowers_imitation/4494.png  \n",
            "  inflating: flowers_imitation/4495.png  \n",
            "  inflating: flowers_imitation/4496.png  \n",
            "  inflating: flowers_imitation/4497.png  \n",
            "  inflating: flowers_imitation/4499.png  \n",
            "  inflating: flowers_imitation/45.png  \n",
            "  inflating: flowers_imitation/450.png  \n",
            "  inflating: flowers_imitation/4500.png  \n",
            "  inflating: flowers_imitation/4501.png  \n",
            "  inflating: flowers_imitation/4502.png  \n",
            "  inflating: flowers_imitation/4503.png  \n",
            "  inflating: flowers_imitation/4504.png  \n",
            "  inflating: flowers_imitation/4505.png  \n",
            "  inflating: flowers_imitation/4506.png  \n",
            "  inflating: flowers_imitation/4507.png  \n",
            "  inflating: flowers_imitation/4508.png  \n",
            "  inflating: flowers_imitation/451.png  \n",
            "  inflating: flowers_imitation/4510.png  \n",
            "  inflating: flowers_imitation/4511.png  \n",
            "  inflating: flowers_imitation/4512.png  \n",
            "  inflating: flowers_imitation/4514.png  \n",
            "  inflating: flowers_imitation/4515.png  \n",
            "  inflating: flowers_imitation/4516.png  \n",
            "  inflating: flowers_imitation/4517.png  \n",
            "  inflating: flowers_imitation/4518.png  \n",
            "  inflating: flowers_imitation/4519.png  \n",
            "  inflating: flowers_imitation/452.png  \n",
            "  inflating: flowers_imitation/4520.png  \n",
            "  inflating: flowers_imitation/4521.png  \n",
            "  inflating: flowers_imitation/4522.png  \n",
            "  inflating: flowers_imitation/4523.png  \n",
            "  inflating: flowers_imitation/4524.png  \n",
            "  inflating: flowers_imitation/4525.png  \n",
            "  inflating: flowers_imitation/4526.png  \n",
            "  inflating: flowers_imitation/4527.png  \n",
            "  inflating: flowers_imitation/4528.png  \n",
            "  inflating: flowers_imitation/4529.png  \n",
            "  inflating: flowers_imitation/453.png  \n",
            "  inflating: flowers_imitation/4530.png  \n",
            "  inflating: flowers_imitation/4531.png  \n",
            "  inflating: flowers_imitation/4532.png  \n",
            "  inflating: flowers_imitation/4533.png  \n",
            "  inflating: flowers_imitation/4534.png  \n",
            "  inflating: flowers_imitation/4535.png  \n",
            "  inflating: flowers_imitation/4536.png  \n",
            "  inflating: flowers_imitation/4537.png  \n",
            "  inflating: flowers_imitation/4538.png  \n",
            "  inflating: flowers_imitation/4539.png  \n",
            "  inflating: flowers_imitation/454.png  \n",
            "  inflating: flowers_imitation/4540.png  \n",
            "  inflating: flowers_imitation/4541.png  \n",
            "  inflating: flowers_imitation/4542.png  \n",
            "  inflating: flowers_imitation/4543.png  \n",
            "  inflating: flowers_imitation/4544.png  \n",
            "  inflating: flowers_imitation/4545.png  \n",
            "  inflating: flowers_imitation/4546.png  \n",
            "  inflating: flowers_imitation/4547.png  \n",
            "  inflating: flowers_imitation/4548.png  \n",
            "  inflating: flowers_imitation/4549.png  \n",
            "  inflating: flowers_imitation/455.png  \n",
            "  inflating: flowers_imitation/4550.png  \n",
            "  inflating: flowers_imitation/4551.png  \n",
            "  inflating: flowers_imitation/4552.png  \n",
            "  inflating: flowers_imitation/4553.png  \n",
            "  inflating: flowers_imitation/4554.png  \n",
            "  inflating: flowers_imitation/4555.png  \n",
            "  inflating: flowers_imitation/4556.png  \n",
            "  inflating: flowers_imitation/4557.png  \n",
            "  inflating: flowers_imitation/4559.png  \n",
            "  inflating: flowers_imitation/456.png  \n",
            "  inflating: flowers_imitation/4560.png  \n",
            "  inflating: flowers_imitation/4561.png  \n",
            "  inflating: flowers_imitation/4562.png  \n",
            "  inflating: flowers_imitation/4563.png  \n",
            "  inflating: flowers_imitation/4564.png  \n",
            "  inflating: flowers_imitation/4565.png  \n",
            "  inflating: flowers_imitation/4566.png  \n",
            "  inflating: flowers_imitation/4567.png  \n",
            "  inflating: flowers_imitation/4568.png  \n",
            "  inflating: flowers_imitation/4569.png  \n",
            "  inflating: flowers_imitation/457.png  \n",
            "  inflating: flowers_imitation/4570.png  \n",
            "  inflating: flowers_imitation/4571.png  \n",
            "  inflating: flowers_imitation/4572.png  \n",
            "  inflating: flowers_imitation/4573.png  \n",
            "  inflating: flowers_imitation/4574.png  \n",
            "  inflating: flowers_imitation/4575.png  \n",
            "  inflating: flowers_imitation/4576.png  \n",
            "  inflating: flowers_imitation/4577.png  \n",
            "  inflating: flowers_imitation/4578.png  \n",
            "  inflating: flowers_imitation/4579.png  \n",
            "  inflating: flowers_imitation/458.png  \n",
            "  inflating: flowers_imitation/4580.png  \n",
            "  inflating: flowers_imitation/4581.png  \n",
            "  inflating: flowers_imitation/4582.png  \n",
            "  inflating: flowers_imitation/4583.png  \n",
            "  inflating: flowers_imitation/4584.png  \n",
            "  inflating: flowers_imitation/4585.png  \n",
            "  inflating: flowers_imitation/4586.png  \n",
            "  inflating: flowers_imitation/4587.png  \n",
            "  inflating: flowers_imitation/4588.png  \n",
            "  inflating: flowers_imitation/4589.png  \n",
            "  inflating: flowers_imitation/459.png  \n",
            "  inflating: flowers_imitation/4591.png  \n",
            "  inflating: flowers_imitation/4592.png  \n",
            "  inflating: flowers_imitation/4593.png  \n",
            "  inflating: flowers_imitation/4594.png  \n",
            "  inflating: flowers_imitation/4595.png  \n",
            "  inflating: flowers_imitation/4597.png  \n",
            "  inflating: flowers_imitation/4598.png  \n",
            "  inflating: flowers_imitation/4599.png  \n",
            "  inflating: flowers_imitation/46.png  \n",
            "  inflating: flowers_imitation/460.png  \n",
            "  inflating: flowers_imitation/4600.png  \n",
            "  inflating: flowers_imitation/4601.png  \n",
            "  inflating: flowers_imitation/4602.png  \n",
            "  inflating: flowers_imitation/4603.png  \n",
            "  inflating: flowers_imitation/4604.png  \n",
            "  inflating: flowers_imitation/4605.png  \n",
            "  inflating: flowers_imitation/4606.png  \n",
            "  inflating: flowers_imitation/4607.png  \n",
            "  inflating: flowers_imitation/4608.png  \n",
            "  inflating: flowers_imitation/4609.png  \n",
            "  inflating: flowers_imitation/461.png  \n",
            "  inflating: flowers_imitation/4610.png  \n",
            "  inflating: flowers_imitation/4611.png  \n",
            "  inflating: flowers_imitation/4612.png  \n",
            "  inflating: flowers_imitation/4613.png  \n",
            "  inflating: flowers_imitation/4614.png  \n",
            "  inflating: flowers_imitation/4615.png  \n",
            "  inflating: flowers_imitation/4616.png  \n",
            "  inflating: flowers_imitation/4617.png  \n",
            "  inflating: flowers_imitation/4618.png  \n",
            "  inflating: flowers_imitation/4619.png  \n",
            "  inflating: flowers_imitation/462.png  \n",
            "  inflating: flowers_imitation/4620.png  \n",
            "  inflating: flowers_imitation/4621.png  \n",
            "  inflating: flowers_imitation/4622.png  \n",
            "  inflating: flowers_imitation/4623.png  \n",
            "  inflating: flowers_imitation/4624.png  \n",
            "  inflating: flowers_imitation/4625.png  \n",
            "  inflating: flowers_imitation/4626.png  \n",
            "  inflating: flowers_imitation/4627.png  \n",
            "  inflating: flowers_imitation/4628.png  \n",
            "  inflating: flowers_imitation/4629.png  \n",
            "  inflating: flowers_imitation/463.png  \n",
            "  inflating: flowers_imitation/4630.png  \n",
            "  inflating: flowers_imitation/4631.png  \n",
            "  inflating: flowers_imitation/4632.png  \n",
            "  inflating: flowers_imitation/4633.png  \n",
            "  inflating: flowers_imitation/4634.png  \n",
            "  inflating: flowers_imitation/4635.png  \n",
            "  inflating: flowers_imitation/4636.png  \n",
            "  inflating: flowers_imitation/4637.png  \n",
            "  inflating: flowers_imitation/4638.png  \n",
            "  inflating: flowers_imitation/4639.png  \n",
            "  inflating: flowers_imitation/464.png  \n",
            "  inflating: flowers_imitation/4640.png  \n",
            "  inflating: flowers_imitation/4641.png  \n",
            "  inflating: flowers_imitation/4642.png  \n",
            "  inflating: flowers_imitation/4643.png  \n",
            "  inflating: flowers_imitation/4644.png  \n",
            "  inflating: flowers_imitation/4645.png  \n",
            "  inflating: flowers_imitation/4646.png  \n",
            "  inflating: flowers_imitation/4647.png  \n",
            "  inflating: flowers_imitation/4648.png  \n",
            "  inflating: flowers_imitation/4649.png  \n",
            "  inflating: flowers_imitation/465.png  \n",
            "  inflating: flowers_imitation/4650.png  \n",
            "  inflating: flowers_imitation/4651.png  \n",
            "  inflating: flowers_imitation/4652.png  \n",
            "  inflating: flowers_imitation/4653.png  \n",
            "  inflating: flowers_imitation/4654.png  \n",
            "  inflating: flowers_imitation/4655.png  \n",
            "  inflating: flowers_imitation/4656.png  \n",
            "  inflating: flowers_imitation/4657.png  \n",
            "  inflating: flowers_imitation/4659.png  \n",
            "  inflating: flowers_imitation/466.png  \n",
            "  inflating: flowers_imitation/4660.png  \n",
            "  inflating: flowers_imitation/4661.png  \n",
            "  inflating: flowers_imitation/4662.png  \n",
            "  inflating: flowers_imitation/4663.png  \n",
            "  inflating: flowers_imitation/4664.png  \n",
            "  inflating: flowers_imitation/4666.png  \n",
            "  inflating: flowers_imitation/4667.png  \n",
            "  inflating: flowers_imitation/4668.png  \n",
            "  inflating: flowers_imitation/4669.png  \n",
            "  inflating: flowers_imitation/467.png  \n",
            "  inflating: flowers_imitation/4670.png  \n",
            "  inflating: flowers_imitation/4671.png  \n",
            "  inflating: flowers_imitation/4672.png  \n",
            "  inflating: flowers_imitation/4673.png  \n",
            "  inflating: flowers_imitation/4674.png  \n",
            "  inflating: flowers_imitation/4675.png  \n",
            "  inflating: flowers_imitation/4676.png  \n",
            "  inflating: flowers_imitation/4677.png  \n",
            "  inflating: flowers_imitation/4679.png  \n",
            "  inflating: flowers_imitation/468.png  \n",
            "  inflating: flowers_imitation/4680.png  \n",
            "  inflating: flowers_imitation/4681.png  \n",
            "  inflating: flowers_imitation/4682.png  \n",
            "  inflating: flowers_imitation/4683.png  \n",
            "  inflating: flowers_imitation/4684.png  \n",
            "  inflating: flowers_imitation/4685.png  \n",
            "  inflating: flowers_imitation/4686.png  \n",
            "  inflating: flowers_imitation/4687.png  \n",
            "  inflating: flowers_imitation/4688.png  \n",
            "  inflating: flowers_imitation/4689.png  \n",
            "  inflating: flowers_imitation/469.png  \n",
            "  inflating: flowers_imitation/4690.png  \n",
            "  inflating: flowers_imitation/4691.png  \n",
            "  inflating: flowers_imitation/4692.png  \n",
            "  inflating: flowers_imitation/4693.png  \n",
            "  inflating: flowers_imitation/4694.png  \n",
            "  inflating: flowers_imitation/4695.png  \n",
            "  inflating: flowers_imitation/4696.png  \n",
            "  inflating: flowers_imitation/4697.png  \n",
            "  inflating: flowers_imitation/4698.png  \n",
            "  inflating: flowers_imitation/4699.png  \n",
            "  inflating: flowers_imitation/47.png  \n",
            "  inflating: flowers_imitation/470.png  \n",
            "  inflating: flowers_imitation/4700.png  \n",
            "  inflating: flowers_imitation/4701.png  \n",
            "  inflating: flowers_imitation/4702.png  \n",
            "  inflating: flowers_imitation/4703.png  \n",
            "  inflating: flowers_imitation/4704.png  \n",
            "  inflating: flowers_imitation/4705.png  \n",
            "  inflating: flowers_imitation/4706.png  \n",
            "  inflating: flowers_imitation/4707.png  \n",
            "  inflating: flowers_imitation/4708.png  \n",
            "  inflating: flowers_imitation/4709.png  \n",
            "  inflating: flowers_imitation/471.png  \n",
            "  inflating: flowers_imitation/4710.png  \n",
            "  inflating: flowers_imitation/4711.png  \n",
            "  inflating: flowers_imitation/4712.png  \n",
            "  inflating: flowers_imitation/4713.png  \n",
            "  inflating: flowers_imitation/4714.png  \n",
            "  inflating: flowers_imitation/4715.png  \n",
            "  inflating: flowers_imitation/4716.png  \n",
            "  inflating: flowers_imitation/4717.png  \n",
            "  inflating: flowers_imitation/4718.png  \n",
            "  inflating: flowers_imitation/4719.png  \n",
            "  inflating: flowers_imitation/472.png  \n",
            "  inflating: flowers_imitation/4720.png  \n",
            "  inflating: flowers_imitation/4721.png  \n",
            "  inflating: flowers_imitation/4722.png  \n",
            "  inflating: flowers_imitation/4723.png  \n",
            "  inflating: flowers_imitation/4724.png  \n",
            "  inflating: flowers_imitation/4725.png  \n",
            "  inflating: flowers_imitation/4726.png  \n",
            "  inflating: flowers_imitation/4727.png  \n",
            "  inflating: flowers_imitation/4728.png  \n",
            "  inflating: flowers_imitation/4729.png  \n",
            "  inflating: flowers_imitation/473.png  \n",
            "  inflating: flowers_imitation/4730.png  \n",
            "  inflating: flowers_imitation/4731.png  \n",
            "  inflating: flowers_imitation/4732.png  \n",
            "  inflating: flowers_imitation/4733.png  \n",
            "  inflating: flowers_imitation/4734.png  \n",
            "  inflating: flowers_imitation/4735.png  \n",
            "  inflating: flowers_imitation/4736.png  \n",
            "  inflating: flowers_imitation/4737.png  \n",
            "  inflating: flowers_imitation/4738.png  \n",
            "  inflating: flowers_imitation/4739.png  \n",
            "  inflating: flowers_imitation/474.png  \n",
            "  inflating: flowers_imitation/4740.png  \n",
            "  inflating: flowers_imitation/4741.png  \n",
            "  inflating: flowers_imitation/4742.png  \n",
            "  inflating: flowers_imitation/4743.png  \n",
            "  inflating: flowers_imitation/4744.png  \n",
            "  inflating: flowers_imitation/4745.png  \n",
            "  inflating: flowers_imitation/4746.png  \n",
            "  inflating: flowers_imitation/4747.png  \n",
            "  inflating: flowers_imitation/4748.png  \n",
            "  inflating: flowers_imitation/4749.png  \n",
            "  inflating: flowers_imitation/475.png  \n",
            "  inflating: flowers_imitation/4750.png  \n",
            "  inflating: flowers_imitation/4751.png  \n",
            "  inflating: flowers_imitation/4752.png  \n",
            "  inflating: flowers_imitation/4753.png  \n",
            "  inflating: flowers_imitation/4754.png  \n",
            "  inflating: flowers_imitation/4755.png  \n",
            "  inflating: flowers_imitation/4756.png  \n",
            "  inflating: flowers_imitation/4757.png  \n",
            "  inflating: flowers_imitation/4758.png  \n",
            "  inflating: flowers_imitation/4759.png  \n",
            "  inflating: flowers_imitation/476.png  \n",
            "  inflating: flowers_imitation/4760.png  \n",
            "  inflating: flowers_imitation/4761.png  \n",
            "  inflating: flowers_imitation/4762.png  \n",
            "  inflating: flowers_imitation/4763.png  \n",
            "  inflating: flowers_imitation/4764.png  \n",
            "  inflating: flowers_imitation/4765.png  \n",
            "  inflating: flowers_imitation/4766.png  \n",
            "  inflating: flowers_imitation/4767.png  \n",
            "  inflating: flowers_imitation/4768.png  \n",
            "  inflating: flowers_imitation/4769.png  \n",
            "  inflating: flowers_imitation/477.png  \n",
            "  inflating: flowers_imitation/4770.png  \n",
            "  inflating: flowers_imitation/4771.png  \n",
            "  inflating: flowers_imitation/4772.png  \n",
            "  inflating: flowers_imitation/4773.png  \n",
            "  inflating: flowers_imitation/4774.png  \n",
            "  inflating: flowers_imitation/4775.png  \n",
            "  inflating: flowers_imitation/4776.png  \n",
            "  inflating: flowers_imitation/4777.png  \n",
            "  inflating: flowers_imitation/4778.png  \n",
            "  inflating: flowers_imitation/4779.png  \n",
            "  inflating: flowers_imitation/478.png  \n",
            "  inflating: flowers_imitation/4780.png  \n",
            "  inflating: flowers_imitation/4781.png  \n",
            "  inflating: flowers_imitation/4782.png  \n",
            "  inflating: flowers_imitation/4783.png  \n",
            "  inflating: flowers_imitation/4784.png  \n",
            "  inflating: flowers_imitation/4785.png  \n",
            "  inflating: flowers_imitation/4786.png  \n",
            "  inflating: flowers_imitation/4787.png  \n",
            "  inflating: flowers_imitation/4788.png  \n",
            "  inflating: flowers_imitation/4789.png  \n",
            "  inflating: flowers_imitation/479.png  \n",
            "  inflating: flowers_imitation/4790.png  \n",
            "  inflating: flowers_imitation/4791.png  \n",
            "  inflating: flowers_imitation/4792.png  \n",
            "  inflating: flowers_imitation/4793.png  \n",
            "  inflating: flowers_imitation/4794.png  \n",
            "  inflating: flowers_imitation/4798.png  \n",
            "  inflating: flowers_imitation/48.png  \n",
            "  inflating: flowers_imitation/480.png  \n",
            "  inflating: flowers_imitation/4802.png  \n",
            "  inflating: flowers_imitation/4803.png  \n",
            "  inflating: flowers_imitation/4804.png  \n",
            "  inflating: flowers_imitation/4805.png  \n",
            "  inflating: flowers_imitation/4806.png  \n",
            "  inflating: flowers_imitation/4807.png  \n",
            "  inflating: flowers_imitation/4808.png  \n",
            "  inflating: flowers_imitation/4809.png  \n",
            "  inflating: flowers_imitation/481.png  \n",
            "  inflating: flowers_imitation/4810.png  \n",
            "  inflating: flowers_imitation/4811.png  \n",
            "  inflating: flowers_imitation/4812.png  \n",
            "  inflating: flowers_imitation/4813.png  \n",
            "  inflating: flowers_imitation/4814.png  \n",
            "  inflating: flowers_imitation/4815.png  \n",
            "  inflating: flowers_imitation/4816.png  \n",
            "  inflating: flowers_imitation/4817.png  \n",
            "  inflating: flowers_imitation/4818.png  \n",
            "  inflating: flowers_imitation/4819.png  \n",
            "  inflating: flowers_imitation/482.png  \n",
            "  inflating: flowers_imitation/4820.png  \n",
            "  inflating: flowers_imitation/4821.png  \n",
            "  inflating: flowers_imitation/4822.png  \n",
            "  inflating: flowers_imitation/4823.png  \n",
            "  inflating: flowers_imitation/4824.png  \n",
            "  inflating: flowers_imitation/4825.png  \n",
            "  inflating: flowers_imitation/4826.png  \n",
            "  inflating: flowers_imitation/4827.png  \n",
            "  inflating: flowers_imitation/4828.png  \n",
            "  inflating: flowers_imitation/4829.png  \n",
            "  inflating: flowers_imitation/483.png  \n",
            "  inflating: flowers_imitation/4830.png  \n",
            "  inflating: flowers_imitation/4831.png  \n",
            "  inflating: flowers_imitation/4832.png  \n",
            "  inflating: flowers_imitation/4833.png  \n",
            "  inflating: flowers_imitation/4834.png  \n",
            "  inflating: flowers_imitation/4835.png  \n",
            "  inflating: flowers_imitation/4836.png  \n",
            "  inflating: flowers_imitation/4837.png  \n",
            "  inflating: flowers_imitation/4838.png  \n",
            "  inflating: flowers_imitation/4839.png  \n",
            "  inflating: flowers_imitation/484.png  \n",
            "  inflating: flowers_imitation/4840.png  \n",
            "  inflating: flowers_imitation/4841.png  \n",
            "  inflating: flowers_imitation/4842.png  \n",
            "  inflating: flowers_imitation/4843.png  \n",
            "  inflating: flowers_imitation/4844.png  \n",
            "  inflating: flowers_imitation/4845.png  \n",
            "  inflating: flowers_imitation/4846.png  \n",
            "  inflating: flowers_imitation/4847.png  \n",
            "  inflating: flowers_imitation/4848.png  \n",
            "  inflating: flowers_imitation/4849.png  \n",
            "  inflating: flowers_imitation/485.png  \n",
            "  inflating: flowers_imitation/4850.png  \n",
            "  inflating: flowers_imitation/4852.png  \n",
            "  inflating: flowers_imitation/4853.png  \n",
            "  inflating: flowers_imitation/4854.png  \n",
            "  inflating: flowers_imitation/4855.png  \n",
            "  inflating: flowers_imitation/4856.png  \n",
            "  inflating: flowers_imitation/4857.png  \n",
            "  inflating: flowers_imitation/4858.png  \n",
            "  inflating: flowers_imitation/4859.png  \n",
            "  inflating: flowers_imitation/486.png  \n",
            "  inflating: flowers_imitation/4860.png  \n",
            "  inflating: flowers_imitation/4861.png  \n",
            "  inflating: flowers_imitation/4862.png  \n",
            "  inflating: flowers_imitation/4863.png  \n",
            "  inflating: flowers_imitation/4864.png  \n",
            "  inflating: flowers_imitation/4865.png  \n",
            "  inflating: flowers_imitation/4866.png  \n",
            "  inflating: flowers_imitation/4867.png  \n",
            "  inflating: flowers_imitation/4868.png  \n",
            "  inflating: flowers_imitation/4869.png  \n",
            "  inflating: flowers_imitation/487.png  \n",
            "  inflating: flowers_imitation/4870.png  \n",
            "  inflating: flowers_imitation/4871.png  \n",
            "  inflating: flowers_imitation/4872.png  \n",
            "  inflating: flowers_imitation/4873.png  \n",
            "  inflating: flowers_imitation/4874.png  \n",
            "  inflating: flowers_imitation/4875.png  \n",
            "  inflating: flowers_imitation/4877.png  \n",
            "  inflating: flowers_imitation/4878.png  \n",
            "  inflating: flowers_imitation/4879.png  \n",
            "  inflating: flowers_imitation/488.png  \n",
            "  inflating: flowers_imitation/4880.png  \n",
            "  inflating: flowers_imitation/4882.png  \n",
            "  inflating: flowers_imitation/4883.png  \n",
            "  inflating: flowers_imitation/4884.png  \n",
            "  inflating: flowers_imitation/4885.png  \n",
            "  inflating: flowers_imitation/4886.png  \n",
            "  inflating: flowers_imitation/4887.png  \n",
            "  inflating: flowers_imitation/4888.png  \n",
            "  inflating: flowers_imitation/4889.png  \n",
            "  inflating: flowers_imitation/489.png  \n",
            "  inflating: flowers_imitation/4890.png  \n",
            "  inflating: flowers_imitation/4891.png  \n",
            "  inflating: flowers_imitation/4892.png  \n",
            "  inflating: flowers_imitation/4893.png  \n",
            "  inflating: flowers_imitation/4894.png  \n",
            "  inflating: flowers_imitation/4895.png  \n",
            "  inflating: flowers_imitation/4896.png  \n",
            "  inflating: flowers_imitation/4897.png  \n",
            "  inflating: flowers_imitation/4898.png  \n",
            "  inflating: flowers_imitation/4899.png  \n",
            "  inflating: flowers_imitation/49.png  \n",
            "  inflating: flowers_imitation/490.png  \n",
            "  inflating: flowers_imitation/4900.png  \n",
            "  inflating: flowers_imitation/4901.png  \n",
            "  inflating: flowers_imitation/4902.png  \n",
            "  inflating: flowers_imitation/4903.png  \n",
            "  inflating: flowers_imitation/4904.png  \n",
            "  inflating: flowers_imitation/4905.png  \n",
            "  inflating: flowers_imitation/4906.png  \n",
            "  inflating: flowers_imitation/4907.png  \n",
            "  inflating: flowers_imitation/4908.png  \n",
            "  inflating: flowers_imitation/491.png  \n",
            "  inflating: flowers_imitation/4910.png  \n",
            "  inflating: flowers_imitation/4911.png  \n",
            "  inflating: flowers_imitation/4912.png  \n",
            "  inflating: flowers_imitation/4913.png  \n",
            "  inflating: flowers_imitation/4914.png  \n",
            "  inflating: flowers_imitation/4915.png  \n",
            "  inflating: flowers_imitation/4917.png  \n",
            "  inflating: flowers_imitation/4918.png  \n",
            "  inflating: flowers_imitation/4919.png  \n",
            "  inflating: flowers_imitation/492.png  \n",
            "  inflating: flowers_imitation/4920.png  \n",
            "  inflating: flowers_imitation/4921.png  \n",
            "  inflating: flowers_imitation/4922.png  \n",
            "  inflating: flowers_imitation/4923.png  \n",
            "  inflating: flowers_imitation/4924.png  \n",
            "  inflating: flowers_imitation/4925.png  \n",
            "  inflating: flowers_imitation/4926.png  \n",
            "  inflating: flowers_imitation/4927.png  \n",
            "  inflating: flowers_imitation/4928.png  \n",
            "  inflating: flowers_imitation/4929.png  \n",
            "  inflating: flowers_imitation/493.png  \n",
            "  inflating: flowers_imitation/4930.png  \n",
            "  inflating: flowers_imitation/4931.png  \n",
            "  inflating: flowers_imitation/4932.png  \n",
            "  inflating: flowers_imitation/4933.png  \n",
            "  inflating: flowers_imitation/4934.png  \n",
            "  inflating: flowers_imitation/4935.png  \n",
            "  inflating: flowers_imitation/4936.png  \n",
            "  inflating: flowers_imitation/4937.png  \n",
            "  inflating: flowers_imitation/4939.png  \n",
            "  inflating: flowers_imitation/494.png  \n",
            "  inflating: flowers_imitation/4940.png  \n",
            "  inflating: flowers_imitation/4941.png  \n",
            "  inflating: flowers_imitation/4942.png  \n",
            "  inflating: flowers_imitation/4944.png  \n",
            "  inflating: flowers_imitation/4945.png  \n",
            "  inflating: flowers_imitation/4946.png  \n",
            "  inflating: flowers_imitation/4947.png  \n",
            "  inflating: flowers_imitation/4948.png  \n",
            "  inflating: flowers_imitation/4949.png  \n",
            "  inflating: flowers_imitation/495.png  \n",
            "  inflating: flowers_imitation/4950.png  \n",
            "  inflating: flowers_imitation/4951.png  \n",
            "  inflating: flowers_imitation/4952.png  \n",
            "  inflating: flowers_imitation/4953.png  \n",
            "  inflating: flowers_imitation/4954.png  \n",
            "  inflating: flowers_imitation/4955.png  \n",
            "  inflating: flowers_imitation/4956.png  \n",
            "  inflating: flowers_imitation/4957.png  \n",
            "  inflating: flowers_imitation/4958.png  \n",
            "  inflating: flowers_imitation/4959.png  \n",
            "  inflating: flowers_imitation/496.png  \n",
            "  inflating: flowers_imitation/4960.png  \n",
            "  inflating: flowers_imitation/4961.png  \n",
            "  inflating: flowers_imitation/4962.png  \n",
            "  inflating: flowers_imitation/4963.png  \n",
            "  inflating: flowers_imitation/4964.png  \n",
            "  inflating: flowers_imitation/4965.png  \n",
            "  inflating: flowers_imitation/4966.png  \n",
            "  inflating: flowers_imitation/4967.png  \n",
            "  inflating: flowers_imitation/4968.png  \n",
            "  inflating: flowers_imitation/4969.png  \n",
            "  inflating: flowers_imitation/497.png  \n",
            "  inflating: flowers_imitation/4970.png  \n",
            "  inflating: flowers_imitation/4971.png  \n",
            "  inflating: flowers_imitation/4972.png  \n",
            "  inflating: flowers_imitation/4973.png  \n",
            "  inflating: flowers_imitation/4974.png  \n",
            "  inflating: flowers_imitation/4975.png  \n",
            "  inflating: flowers_imitation/4976.png  \n",
            "  inflating: flowers_imitation/4977.png  \n",
            "  inflating: flowers_imitation/4978.png  \n",
            "  inflating: flowers_imitation/4979.png  \n",
            "  inflating: flowers_imitation/498.png  \n",
            "  inflating: flowers_imitation/4980.png  \n",
            "  inflating: flowers_imitation/4981.png  \n",
            "  inflating: flowers_imitation/4982.png  \n",
            "  inflating: flowers_imitation/4983.png  \n",
            "  inflating: flowers_imitation/4985.png  \n",
            "  inflating: flowers_imitation/4986.png  \n",
            "  inflating: flowers_imitation/4987.png  \n",
            "  inflating: flowers_imitation/4988.png  \n",
            "  inflating: flowers_imitation/4989.png  \n",
            "  inflating: flowers_imitation/499.png  \n",
            "  inflating: flowers_imitation/4990.png  \n",
            "  inflating: flowers_imitation/4991.png  \n",
            "  inflating: flowers_imitation/4992.png  \n",
            "  inflating: flowers_imitation/4993.png  \n",
            "  inflating: flowers_imitation/4994.png  \n",
            "  inflating: flowers_imitation/4995.png  \n",
            "  inflating: flowers_imitation/4996.png  \n",
            "  inflating: flowers_imitation/4997.png  \n",
            "  inflating: flowers_imitation/4998.png  \n",
            "  inflating: flowers_imitation/4999.png  \n",
            "  inflating: flowers_imitation/5.png  \n",
            "  inflating: flowers_imitation/50.png  \n",
            "  inflating: flowers_imitation/500.png  \n",
            "  inflating: flowers_imitation/5000.png  \n",
            "  inflating: flowers_imitation/5001.png  \n",
            "  inflating: flowers_imitation/5002.png  \n",
            "  inflating: flowers_imitation/5003.png  \n",
            "  inflating: flowers_imitation/5005.png  \n",
            "  inflating: flowers_imitation/5006.png  \n",
            "  inflating: flowers_imitation/5007.png  \n",
            "  inflating: flowers_imitation/5008.png  \n",
            "  inflating: flowers_imitation/5009.png  \n",
            "  inflating: flowers_imitation/501.png  \n",
            "  inflating: flowers_imitation/5010.png  \n",
            "  inflating: flowers_imitation/5011.png  \n",
            "  inflating: flowers_imitation/5012.png  \n",
            "  inflating: flowers_imitation/5013.png  \n",
            "  inflating: flowers_imitation/5014.png  \n",
            "  inflating: flowers_imitation/5015.png  \n",
            "  inflating: flowers_imitation/5016.png  \n",
            "  inflating: flowers_imitation/5017.png  \n",
            "  inflating: flowers_imitation/5018.png  \n",
            "  inflating: flowers_imitation/5019.png  \n",
            "  inflating: flowers_imitation/502.png  \n",
            "  inflating: flowers_imitation/5020.png  \n",
            "  inflating: flowers_imitation/5021.png  \n",
            "  inflating: flowers_imitation/5022.png  \n",
            "  inflating: flowers_imitation/5023.png  \n",
            "  inflating: flowers_imitation/5024.png  \n",
            "  inflating: flowers_imitation/5025.png  \n",
            "  inflating: flowers_imitation/5026.png  \n",
            "  inflating: flowers_imitation/5027.png  \n",
            "  inflating: flowers_imitation/5028.png  \n",
            "  inflating: flowers_imitation/5029.png  \n",
            "  inflating: flowers_imitation/503.png  \n",
            "  inflating: flowers_imitation/5030.png  \n",
            "  inflating: flowers_imitation/5031.png  \n",
            "  inflating: flowers_imitation/5032.png  \n",
            "  inflating: flowers_imitation/5033.png  \n",
            "  inflating: flowers_imitation/5034.png  \n",
            "  inflating: flowers_imitation/5036.png  \n",
            "  inflating: flowers_imitation/5037.png  \n",
            "  inflating: flowers_imitation/5038.png  \n",
            "  inflating: flowers_imitation/5039.png  \n",
            "  inflating: flowers_imitation/504.png  \n",
            "  inflating: flowers_imitation/5040.png  \n",
            "  inflating: flowers_imitation/5041.png  \n",
            "  inflating: flowers_imitation/5042.png  \n",
            "  inflating: flowers_imitation/5043.png  \n",
            "  inflating: flowers_imitation/5044.png  \n",
            "  inflating: flowers_imitation/5045.png  \n",
            "  inflating: flowers_imitation/5046.png  \n",
            "  inflating: flowers_imitation/5047.png  \n",
            "  inflating: flowers_imitation/5048.png  \n",
            "  inflating: flowers_imitation/5049.png  \n",
            "  inflating: flowers_imitation/505.png  \n",
            "  inflating: flowers_imitation/5050.png  \n",
            "  inflating: flowers_imitation/5051.png  \n",
            "  inflating: flowers_imitation/5052.png  \n",
            "  inflating: flowers_imitation/5053.png  \n",
            "  inflating: flowers_imitation/5054.png  \n",
            "  inflating: flowers_imitation/5055.png  \n",
            "  inflating: flowers_imitation/5056.png  \n",
            "  inflating: flowers_imitation/5057.png  \n",
            "  inflating: flowers_imitation/5058.png  \n",
            "  inflating: flowers_imitation/5059.png  \n",
            "  inflating: flowers_imitation/506.png  \n",
            "  inflating: flowers_imitation/5060.png  \n",
            "  inflating: flowers_imitation/5061.png  \n",
            "  inflating: flowers_imitation/5062.png  \n",
            "  inflating: flowers_imitation/5063.png  \n",
            "  inflating: flowers_imitation/5064.png  \n",
            "  inflating: flowers_imitation/5065.png  \n",
            "  inflating: flowers_imitation/5066.png  \n",
            "  inflating: flowers_imitation/5067.png  \n",
            "  inflating: flowers_imitation/5068.png  \n",
            "  inflating: flowers_imitation/5069.png  \n",
            "  inflating: flowers_imitation/507.png  \n",
            "  inflating: flowers_imitation/5070.png  \n",
            "  inflating: flowers_imitation/5071.png  \n",
            "  inflating: flowers_imitation/5072.png  \n",
            "  inflating: flowers_imitation/5073.png  \n",
            "  inflating: flowers_imitation/5074.png  \n",
            "  inflating: flowers_imitation/5075.png  \n",
            "  inflating: flowers_imitation/5076.png  \n",
            "  inflating: flowers_imitation/5077.png  \n",
            "  inflating: flowers_imitation/5078.png  \n",
            "  inflating: flowers_imitation/5079.png  \n",
            "  inflating: flowers_imitation/508.png  \n",
            "  inflating: flowers_imitation/5080.png  \n",
            "  inflating: flowers_imitation/5081.png  \n",
            "  inflating: flowers_imitation/5082.png  \n",
            "  inflating: flowers_imitation/5083.png  \n",
            "  inflating: flowers_imitation/5084.png  \n",
            "  inflating: flowers_imitation/5085.png  \n",
            "  inflating: flowers_imitation/5086.png  \n",
            "  inflating: flowers_imitation/5087.png  \n",
            "  inflating: flowers_imitation/5088.png  \n",
            "  inflating: flowers_imitation/5089.png  \n",
            "  inflating: flowers_imitation/509.png  \n",
            "  inflating: flowers_imitation/5090.png  \n",
            "  inflating: flowers_imitation/5091.png  \n",
            "  inflating: flowers_imitation/5092.png  \n",
            "  inflating: flowers_imitation/5093.png  \n",
            "  inflating: flowers_imitation/5094.png  \n",
            "  inflating: flowers_imitation/5095.png  \n",
            "  inflating: flowers_imitation/5096.png  \n",
            "  inflating: flowers_imitation/5097.png  \n",
            "  inflating: flowers_imitation/5098.png  \n",
            "  inflating: flowers_imitation/5099.png  \n",
            "  inflating: flowers_imitation/51.png  \n",
            "  inflating: flowers_imitation/510.png  \n",
            "  inflating: flowers_imitation/511.png  \n",
            "  inflating: flowers_imitation/512.png  \n",
            "  inflating: flowers_imitation/513.png  \n",
            "  inflating: flowers_imitation/514.png  \n",
            "  inflating: flowers_imitation/515.png  \n",
            "  inflating: flowers_imitation/516.png  \n",
            "  inflating: flowers_imitation/517.png  \n",
            "  inflating: flowers_imitation/518.png  \n",
            "  inflating: flowers_imitation/519.png  \n",
            "  inflating: flowers_imitation/52.png  \n",
            "  inflating: flowers_imitation/520.png  \n",
            "  inflating: flowers_imitation/521.png  \n",
            "  inflating: flowers_imitation/522.png  \n",
            "  inflating: flowers_imitation/523.png  \n",
            "  inflating: flowers_imitation/524.png  \n",
            "  inflating: flowers_imitation/525.png  \n",
            "  inflating: flowers_imitation/526.png  \n",
            "  inflating: flowers_imitation/527.png  \n",
            "  inflating: flowers_imitation/528.png  \n",
            "  inflating: flowers_imitation/529.png  \n",
            "  inflating: flowers_imitation/53.png  \n",
            "  inflating: flowers_imitation/530.png  \n",
            "  inflating: flowers_imitation/531.png  \n",
            "  inflating: flowers_imitation/532.png  \n",
            "  inflating: flowers_imitation/533.png  \n",
            "  inflating: flowers_imitation/534.png  \n",
            "  inflating: flowers_imitation/535.png  \n",
            "  inflating: flowers_imitation/536.png  \n",
            "  inflating: flowers_imitation/537.png  \n",
            "  inflating: flowers_imitation/538.png  \n",
            "  inflating: flowers_imitation/539.png  \n",
            "  inflating: flowers_imitation/54.png  \n",
            "  inflating: flowers_imitation/540.png  \n",
            "  inflating: flowers_imitation/541.png  \n",
            "  inflating: flowers_imitation/542.png  \n",
            "  inflating: flowers_imitation/543.png  \n",
            "  inflating: flowers_imitation/544.png  \n",
            "  inflating: flowers_imitation/545.png  \n",
            "  inflating: flowers_imitation/546.png  \n",
            "  inflating: flowers_imitation/547.png  \n",
            "  inflating: flowers_imitation/548.png  \n",
            "  inflating: flowers_imitation/549.png  \n",
            "  inflating: flowers_imitation/55.png  \n",
            "  inflating: flowers_imitation/550.png  \n",
            "  inflating: flowers_imitation/551.png  \n",
            "  inflating: flowers_imitation/552.png  \n",
            "  inflating: flowers_imitation/553.png  \n",
            "  inflating: flowers_imitation/554.png  \n",
            "  inflating: flowers_imitation/555.png  \n",
            "  inflating: flowers_imitation/556.png  \n",
            "  inflating: flowers_imitation/557.png  \n",
            "  inflating: flowers_imitation/558.png  \n",
            "  inflating: flowers_imitation/559.png  \n",
            "  inflating: flowers_imitation/56.png  \n",
            "  inflating: flowers_imitation/560.png  \n",
            "  inflating: flowers_imitation/561.png  \n",
            "  inflating: flowers_imitation/562.png  \n",
            "  inflating: flowers_imitation/563.png  \n",
            "  inflating: flowers_imitation/564.png  \n",
            "  inflating: flowers_imitation/565.png  \n",
            "  inflating: flowers_imitation/566.png  \n",
            "  inflating: flowers_imitation/567.png  \n",
            "  inflating: flowers_imitation/568.png  \n",
            "  inflating: flowers_imitation/569.png  \n",
            "  inflating: flowers_imitation/57.png  \n",
            "  inflating: flowers_imitation/570.png  \n",
            "  inflating: flowers_imitation/571.png  \n",
            "  inflating: flowers_imitation/572.png  \n",
            "  inflating: flowers_imitation/573.png  \n",
            "  inflating: flowers_imitation/574.png  \n",
            "  inflating: flowers_imitation/575.png  \n",
            "  inflating: flowers_imitation/576.png  \n",
            "  inflating: flowers_imitation/577.png  \n",
            "  inflating: flowers_imitation/578.png  \n",
            "  inflating: flowers_imitation/579.png  \n",
            "  inflating: flowers_imitation/58.png  \n",
            "  inflating: flowers_imitation/580.png  \n",
            "  inflating: flowers_imitation/581.png  \n",
            "  inflating: flowers_imitation/582.png  \n",
            "  inflating: flowers_imitation/583.png  \n",
            "  inflating: flowers_imitation/584.png  \n",
            "  inflating: flowers_imitation/585.png  \n",
            "  inflating: flowers_imitation/586.png  \n",
            "  inflating: flowers_imitation/587.png  \n",
            "  inflating: flowers_imitation/588.png  \n",
            "  inflating: flowers_imitation/589.png  \n",
            "  inflating: flowers_imitation/59.png  \n",
            "  inflating: flowers_imitation/590.png  \n",
            "  inflating: flowers_imitation/591.png  \n",
            "  inflating: flowers_imitation/592.png  \n",
            "  inflating: flowers_imitation/593.png  \n",
            "  inflating: flowers_imitation/594.png  \n",
            "  inflating: flowers_imitation/595.png  \n",
            "  inflating: flowers_imitation/596.png  \n",
            "  inflating: flowers_imitation/597.png  \n",
            "  inflating: flowers_imitation/598.png  \n",
            "  inflating: flowers_imitation/599.png  \n",
            "  inflating: flowers_imitation/6.png  \n",
            "  inflating: flowers_imitation/60.png  \n",
            "  inflating: flowers_imitation/600.png  \n",
            "  inflating: flowers_imitation/6000.png  \n",
            "  inflating: flowers_imitation/601.png  \n",
            "  inflating: flowers_imitation/602.png  \n",
            "  inflating: flowers_imitation/603.png  \n",
            "  inflating: flowers_imitation/604.png  \n",
            "  inflating: flowers_imitation/605.png  \n",
            "  inflating: flowers_imitation/606.png  \n",
            "  inflating: flowers_imitation/607.png  \n",
            "  inflating: flowers_imitation/608.png  \n",
            "  inflating: flowers_imitation/609.png  \n",
            "  inflating: flowers_imitation/61.png  \n",
            "  inflating: flowers_imitation/610.png  \n",
            "  inflating: flowers_imitation/611.png  \n",
            "  inflating: flowers_imitation/612.png  \n",
            "  inflating: flowers_imitation/613.png  \n",
            "  inflating: flowers_imitation/614.png  \n",
            "  inflating: flowers_imitation/615.png  \n",
            "  inflating: flowers_imitation/616.png  \n",
            "  inflating: flowers_imitation/617.png  \n",
            "  inflating: flowers_imitation/618.png  \n",
            "  inflating: flowers_imitation/619.png  \n",
            "  inflating: flowers_imitation/62.png  \n",
            "  inflating: flowers_imitation/620.png  \n",
            "  inflating: flowers_imitation/621.png  \n",
            "  inflating: flowers_imitation/622.png  \n",
            "  inflating: flowers_imitation/623.png  \n",
            "  inflating: flowers_imitation/624.png  \n",
            "  inflating: flowers_imitation/625.png  \n",
            "  inflating: flowers_imitation/626.png  \n",
            "  inflating: flowers_imitation/627.png  \n",
            "  inflating: flowers_imitation/628.png  \n",
            "  inflating: flowers_imitation/629.png  \n",
            "  inflating: flowers_imitation/63.png  \n",
            "  inflating: flowers_imitation/630.png  \n",
            "  inflating: flowers_imitation/631.png  \n",
            "  inflating: flowers_imitation/632.png  \n",
            "  inflating: flowers_imitation/633.png  \n",
            "  inflating: flowers_imitation/634.png  \n",
            "  inflating: flowers_imitation/635.png  \n",
            "  inflating: flowers_imitation/636.png  \n",
            "  inflating: flowers_imitation/637.png  \n",
            "  inflating: flowers_imitation/638.png  \n",
            "  inflating: flowers_imitation/639.png  \n",
            "  inflating: flowers_imitation/64.png  \n",
            "  inflating: flowers_imitation/640.png  \n",
            "  inflating: flowers_imitation/641.png  \n",
            "  inflating: flowers_imitation/642.png  \n",
            "  inflating: flowers_imitation/643.png  \n",
            "  inflating: flowers_imitation/644.png  \n",
            "  inflating: flowers_imitation/645.png  \n",
            "  inflating: flowers_imitation/646.png  \n",
            "  inflating: flowers_imitation/647.png  \n",
            "  inflating: flowers_imitation/648.png  \n",
            "  inflating: flowers_imitation/649.png  \n",
            "  inflating: flowers_imitation/65.png  \n",
            "  inflating: flowers_imitation/650.png  \n",
            "  inflating: flowers_imitation/651.png  \n",
            "  inflating: flowers_imitation/652.png  \n",
            "  inflating: flowers_imitation/653.png  \n",
            "  inflating: flowers_imitation/654.png  \n",
            "  inflating: flowers_imitation/655.png  \n",
            "  inflating: flowers_imitation/656.png  \n",
            "  inflating: flowers_imitation/657.png  \n",
            "  inflating: flowers_imitation/658.png  \n",
            "  inflating: flowers_imitation/659.png  \n",
            "  inflating: flowers_imitation/66.png  \n",
            "  inflating: flowers_imitation/660.png  \n",
            "  inflating: flowers_imitation/661.png  \n",
            "  inflating: flowers_imitation/662.png  \n",
            "  inflating: flowers_imitation/663.png  \n",
            "  inflating: flowers_imitation/664.png  \n",
            "  inflating: flowers_imitation/665.png  \n",
            "  inflating: flowers_imitation/666.png  \n",
            "  inflating: flowers_imitation/667.png  \n",
            "  inflating: flowers_imitation/668.png  \n",
            "  inflating: flowers_imitation/669.png  \n",
            "  inflating: flowers_imitation/67.png  \n",
            "  inflating: flowers_imitation/670.png  \n",
            "  inflating: flowers_imitation/671.png  \n",
            "  inflating: flowers_imitation/672.png  \n",
            "  inflating: flowers_imitation/673.png  \n",
            "  inflating: flowers_imitation/674.png  \n",
            "  inflating: flowers_imitation/675.png  \n",
            "  inflating: flowers_imitation/676.png  \n",
            "  inflating: flowers_imitation/677.png  \n",
            "  inflating: flowers_imitation/678.png  \n",
            "  inflating: flowers_imitation/679.png  \n",
            "  inflating: flowers_imitation/68.png  \n",
            "  inflating: flowers_imitation/680.png  \n",
            "  inflating: flowers_imitation/681.png  \n",
            "  inflating: flowers_imitation/682.png  \n",
            "  inflating: flowers_imitation/683.png  \n",
            "  inflating: flowers_imitation/684.png  \n",
            "  inflating: flowers_imitation/685.png  \n",
            "  inflating: flowers_imitation/686.png  \n",
            "  inflating: flowers_imitation/687.png  \n",
            "  inflating: flowers_imitation/688.png  \n",
            "  inflating: flowers_imitation/689.png  \n",
            "  inflating: flowers_imitation/69.png  \n",
            "  inflating: flowers_imitation/690.png  \n",
            "  inflating: flowers_imitation/691.png  \n",
            "  inflating: flowers_imitation/692.png  \n",
            "  inflating: flowers_imitation/693.png  \n",
            "  inflating: flowers_imitation/694.png  \n",
            "  inflating: flowers_imitation/695.png  \n",
            "  inflating: flowers_imitation/696.png  \n",
            "  inflating: flowers_imitation/697.png  \n",
            "  inflating: flowers_imitation/698.png  \n",
            "  inflating: flowers_imitation/699.png  \n",
            "  inflating: flowers_imitation/7.png  \n",
            "  inflating: flowers_imitation/70.png  \n",
            "  inflating: flowers_imitation/700.png  \n",
            "  inflating: flowers_imitation/701.png  \n",
            "  inflating: flowers_imitation/702.png  \n",
            "  inflating: flowers_imitation/703.png  \n",
            "  inflating: flowers_imitation/704.png  \n",
            "  inflating: flowers_imitation/705.png  \n",
            "  inflating: flowers_imitation/706.png  \n",
            "  inflating: flowers_imitation/707.png  \n",
            "  inflating: flowers_imitation/708.png  \n",
            "  inflating: flowers_imitation/709.png  \n",
            "  inflating: flowers_imitation/71.png  \n",
            "  inflating: flowers_imitation/710.png  \n",
            "  inflating: flowers_imitation/711.png  \n",
            "  inflating: flowers_imitation/712.png  \n",
            "  inflating: flowers_imitation/713.png  \n",
            "  inflating: flowers_imitation/714.png  \n",
            "  inflating: flowers_imitation/715.png  \n",
            "  inflating: flowers_imitation/716.png  \n",
            "  inflating: flowers_imitation/717.png  \n",
            "  inflating: flowers_imitation/718.png  \n",
            "  inflating: flowers_imitation/719.png  \n",
            "  inflating: flowers_imitation/72.png  \n",
            "  inflating: flowers_imitation/720.png  \n",
            "  inflating: flowers_imitation/721.png  \n",
            "  inflating: flowers_imitation/722.png  \n",
            "  inflating: flowers_imitation/723.png  \n",
            "  inflating: flowers_imitation/724.png  \n",
            "  inflating: flowers_imitation/725.png  \n",
            "  inflating: flowers_imitation/726.png  \n",
            "  inflating: flowers_imitation/727.png  \n",
            "  inflating: flowers_imitation/728.png  \n",
            "  inflating: flowers_imitation/729.png  \n",
            "  inflating: flowers_imitation/73.png  \n",
            "  inflating: flowers_imitation/730.png  \n",
            "  inflating: flowers_imitation/731.png  \n",
            "  inflating: flowers_imitation/732.png  \n",
            "  inflating: flowers_imitation/733.png  \n",
            "  inflating: flowers_imitation/734.png  \n",
            "  inflating: flowers_imitation/735.png  \n",
            "  inflating: flowers_imitation/736.png  \n",
            "  inflating: flowers_imitation/737.png  \n",
            "  inflating: flowers_imitation/738.png  \n",
            "  inflating: flowers_imitation/739.png  \n",
            "  inflating: flowers_imitation/74.png  \n",
            "  inflating: flowers_imitation/740.png  \n",
            "  inflating: flowers_imitation/741.png  \n",
            "  inflating: flowers_imitation/742.png  \n",
            "  inflating: flowers_imitation/743.png  \n",
            "  inflating: flowers_imitation/744.png  \n",
            "  inflating: flowers_imitation/745.png  \n",
            "  inflating: flowers_imitation/746.png  \n",
            "  inflating: flowers_imitation/747.png  \n",
            "  inflating: flowers_imitation/748.png  \n",
            "  inflating: flowers_imitation/749.png  \n",
            "  inflating: flowers_imitation/75.png  \n",
            "  inflating: flowers_imitation/750.png  \n",
            "  inflating: flowers_imitation/751.png  \n",
            "  inflating: flowers_imitation/752.png  \n",
            "  inflating: flowers_imitation/753.png  \n",
            "  inflating: flowers_imitation/754.png  \n",
            "  inflating: flowers_imitation/755.png  \n",
            "  inflating: flowers_imitation/756.png  \n",
            "  inflating: flowers_imitation/757.png  \n",
            "  inflating: flowers_imitation/758.png  \n",
            "  inflating: flowers_imitation/759.png  \n",
            "  inflating: flowers_imitation/76.png  \n",
            "  inflating: flowers_imitation/760.png  \n",
            "  inflating: flowers_imitation/761.png  \n",
            "  inflating: flowers_imitation/762.png  \n",
            "  inflating: flowers_imitation/763.png  \n",
            "  inflating: flowers_imitation/764.png  \n",
            "  inflating: flowers_imitation/765.png  \n",
            "  inflating: flowers_imitation/766.png  \n",
            "  inflating: flowers_imitation/767.png  \n",
            "  inflating: flowers_imitation/768.png  \n",
            "  inflating: flowers_imitation/769.png  \n",
            "  inflating: flowers_imitation/77.png  \n",
            "  inflating: flowers_imitation/770.png  \n",
            "  inflating: flowers_imitation/771.png  \n",
            "  inflating: flowers_imitation/772.png  \n",
            "  inflating: flowers_imitation/773.png  \n",
            "  inflating: flowers_imitation/774.png  \n",
            "  inflating: flowers_imitation/775.png  \n",
            "  inflating: flowers_imitation/776.png  \n",
            "  inflating: flowers_imitation/777.png  \n",
            "  inflating: flowers_imitation/778.png  \n",
            "  inflating: flowers_imitation/779.png  \n",
            "  inflating: flowers_imitation/78.png  \n",
            "  inflating: flowers_imitation/780.png  \n",
            "  inflating: flowers_imitation/781.png  \n",
            "  inflating: flowers_imitation/782.png  \n",
            "  inflating: flowers_imitation/783.png  \n",
            "  inflating: flowers_imitation/784.png  \n",
            "  inflating: flowers_imitation/785.png  \n",
            "  inflating: flowers_imitation/786.png  \n",
            "  inflating: flowers_imitation/787.png  \n",
            "  inflating: flowers_imitation/788.png  \n",
            "  inflating: flowers_imitation/789.png  \n",
            "  inflating: flowers_imitation/79.png  \n",
            "  inflating: flowers_imitation/790.png  \n",
            "  inflating: flowers_imitation/791.png  \n",
            "  inflating: flowers_imitation/792.png  \n",
            "  inflating: flowers_imitation/793.png  \n",
            "  inflating: flowers_imitation/794.png  \n",
            "  inflating: flowers_imitation/795.png  \n",
            "  inflating: flowers_imitation/796.png  \n",
            "  inflating: flowers_imitation/797.png  \n",
            "  inflating: flowers_imitation/798.png  \n",
            "  inflating: flowers_imitation/799.png  \n",
            "  inflating: flowers_imitation/8.png  \n",
            "  inflating: flowers_imitation/80.png  \n",
            "  inflating: flowers_imitation/800.png  \n",
            "  inflating: flowers_imitation/801.png  \n",
            "  inflating: flowers_imitation/802.png  \n",
            "  inflating: flowers_imitation/803.png  \n",
            "  inflating: flowers_imitation/804.png  \n",
            "  inflating: flowers_imitation/805.png  \n",
            "  inflating: flowers_imitation/806.png  \n",
            "  inflating: flowers_imitation/807.png  \n",
            "  inflating: flowers_imitation/808.png  \n",
            "  inflating: flowers_imitation/809.png  \n",
            "  inflating: flowers_imitation/81.png  \n",
            "  inflating: flowers_imitation/810.png  \n",
            "  inflating: flowers_imitation/811.png  \n",
            "  inflating: flowers_imitation/812.png  \n",
            "  inflating: flowers_imitation/813.png  \n",
            "  inflating: flowers_imitation/814.png  \n",
            "  inflating: flowers_imitation/815.png  \n",
            "  inflating: flowers_imitation/816.png  \n",
            "  inflating: flowers_imitation/817.png  \n",
            "  inflating: flowers_imitation/818.png  \n",
            "  inflating: flowers_imitation/819.png  \n",
            "  inflating: flowers_imitation/82.png  \n",
            "  inflating: flowers_imitation/820.png  \n",
            "  inflating: flowers_imitation/821.png  \n",
            "  inflating: flowers_imitation/822.png  \n",
            "  inflating: flowers_imitation/823.png  \n",
            "  inflating: flowers_imitation/824.png  \n",
            "  inflating: flowers_imitation/825.png  \n",
            "  inflating: flowers_imitation/826.png  \n",
            "  inflating: flowers_imitation/827.png  \n",
            "  inflating: flowers_imitation/828.png  \n",
            "  inflating: flowers_imitation/829.png  \n",
            "  inflating: flowers_imitation/83.png  \n",
            "  inflating: flowers_imitation/830.png  \n",
            "  inflating: flowers_imitation/831.png  \n",
            "  inflating: flowers_imitation/832.png  \n",
            "  inflating: flowers_imitation/833.png  \n",
            "  inflating: flowers_imitation/834.png  \n",
            "  inflating: flowers_imitation/835.png  \n",
            "  inflating: flowers_imitation/836.png  \n",
            "  inflating: flowers_imitation/837.png  \n",
            "  inflating: flowers_imitation/838.png  \n",
            "  inflating: flowers_imitation/839.png  \n",
            "  inflating: flowers_imitation/84.png  \n",
            "  inflating: flowers_imitation/840.png  \n",
            "  inflating: flowers_imitation/841.png  \n",
            "  inflating: flowers_imitation/842.png  \n",
            "  inflating: flowers_imitation/843.png  \n",
            "  inflating: flowers_imitation/844.png  \n",
            "  inflating: flowers_imitation/845.png  \n",
            "  inflating: flowers_imitation/846.png  \n",
            "  inflating: flowers_imitation/847.png  \n",
            "  inflating: flowers_imitation/848.png  \n",
            "  inflating: flowers_imitation/849.png  \n",
            "  inflating: flowers_imitation/85.png  \n",
            "  inflating: flowers_imitation/850.png  \n",
            "  inflating: flowers_imitation/851.png  \n",
            "  inflating: flowers_imitation/852.png  \n",
            "  inflating: flowers_imitation/853.png  \n",
            "  inflating: flowers_imitation/854.png  \n",
            "  inflating: flowers_imitation/855.png  \n",
            "  inflating: flowers_imitation/856.png  \n",
            "  inflating: flowers_imitation/857.png  \n",
            "  inflating: flowers_imitation/858.png  \n",
            "  inflating: flowers_imitation/859.png  \n",
            "  inflating: flowers_imitation/86.png  \n",
            "  inflating: flowers_imitation/860.png  \n",
            "  inflating: flowers_imitation/861.png  \n",
            "  inflating: flowers_imitation/862.png  \n",
            "  inflating: flowers_imitation/863.png  \n",
            "  inflating: flowers_imitation/864.png  \n",
            "  inflating: flowers_imitation/865.png  \n",
            "  inflating: flowers_imitation/866.png  \n",
            "  inflating: flowers_imitation/867.png  \n",
            "  inflating: flowers_imitation/868.png  \n",
            "  inflating: flowers_imitation/869.png  \n",
            "  inflating: flowers_imitation/87.png  \n",
            "  inflating: flowers_imitation/870.png  \n",
            "  inflating: flowers_imitation/871.png  \n",
            "  inflating: flowers_imitation/872.png  \n",
            "  inflating: flowers_imitation/873.png  \n",
            "  inflating: flowers_imitation/874.png  \n",
            "  inflating: flowers_imitation/875.png  \n",
            "  inflating: flowers_imitation/876.png  \n",
            "  inflating: flowers_imitation/877.png  \n",
            "  inflating: flowers_imitation/878.png  \n",
            "  inflating: flowers_imitation/879.png  \n",
            "  inflating: flowers_imitation/88.png  \n",
            "  inflating: flowers_imitation/880.png  \n",
            "  inflating: flowers_imitation/881.png  \n",
            "  inflating: flowers_imitation/882.png  \n",
            "  inflating: flowers_imitation/883.png  \n",
            "  inflating: flowers_imitation/884.png  \n",
            "  inflating: flowers_imitation/885.png  \n",
            "  inflating: flowers_imitation/886.png  \n",
            "  inflating: flowers_imitation/887.png  \n",
            "  inflating: flowers_imitation/888.png  \n",
            "  inflating: flowers_imitation/889.png  \n",
            "  inflating: flowers_imitation/89.png  \n",
            "  inflating: flowers_imitation/890.png  \n",
            "  inflating: flowers_imitation/891.png  \n",
            "  inflating: flowers_imitation/892.png  \n",
            "  inflating: flowers_imitation/893.png  \n",
            "  inflating: flowers_imitation/894.png  \n",
            "  inflating: flowers_imitation/895.png  \n",
            "  inflating: flowers_imitation/896.png  \n",
            "  inflating: flowers_imitation/897.png  \n",
            "  inflating: flowers_imitation/898.png  \n",
            "  inflating: flowers_imitation/899.png  \n",
            "  inflating: flowers_imitation/9.png  \n",
            "  inflating: flowers_imitation/90.png  \n",
            "  inflating: flowers_imitation/900.png  \n",
            "  inflating: flowers_imitation/901.png  \n",
            "  inflating: flowers_imitation/902.png  \n",
            "  inflating: flowers_imitation/903.png  \n",
            "  inflating: flowers_imitation/904.png  \n",
            "  inflating: flowers_imitation/905.png  \n",
            "  inflating: flowers_imitation/906.png  \n",
            "  inflating: flowers_imitation/907.png  \n",
            "  inflating: flowers_imitation/908.png  \n",
            "  inflating: flowers_imitation/909.png  \n",
            "  inflating: flowers_imitation/91.png  \n",
            "  inflating: flowers_imitation/910.png  \n",
            "  inflating: flowers_imitation/911.png  \n",
            "  inflating: flowers_imitation/912.png  \n",
            "  inflating: flowers_imitation/913.png  \n",
            "  inflating: flowers_imitation/914.png  \n",
            "  inflating: flowers_imitation/915.png  \n",
            "  inflating: flowers_imitation/916.png  \n",
            "  inflating: flowers_imitation/917.png  \n",
            "  inflating: flowers_imitation/918.png  \n",
            "  inflating: flowers_imitation/919.png  \n",
            "  inflating: flowers_imitation/92.png  \n",
            "  inflating: flowers_imitation/920.png  \n",
            "  inflating: flowers_imitation/921.png  \n",
            "  inflating: flowers_imitation/922.png  \n",
            "  inflating: flowers_imitation/923.png  \n",
            "  inflating: flowers_imitation/924.png  \n",
            "  inflating: flowers_imitation/925.png  \n",
            "  inflating: flowers_imitation/926.png  \n",
            "  inflating: flowers_imitation/927.png  \n",
            "  inflating: flowers_imitation/928.png  \n",
            "  inflating: flowers_imitation/929.png  \n",
            "  inflating: flowers_imitation/93.png  \n",
            "  inflating: flowers_imitation/930.png  \n",
            "  inflating: flowers_imitation/931.png  \n",
            "  inflating: flowers_imitation/932.png  \n",
            "  inflating: flowers_imitation/933.png  \n",
            "  inflating: flowers_imitation/934.png  \n",
            "  inflating: flowers_imitation/935.png  \n",
            "  inflating: flowers_imitation/936.png  \n",
            "  inflating: flowers_imitation/937.png  \n",
            "  inflating: flowers_imitation/938.png  \n",
            "  inflating: flowers_imitation/939.png  \n",
            "  inflating: flowers_imitation/94.png  \n",
            "  inflating: flowers_imitation/940.png  \n",
            "  inflating: flowers_imitation/941.png  \n",
            "  inflating: flowers_imitation/942.png  \n",
            "  inflating: flowers_imitation/943.png  \n",
            "  inflating: flowers_imitation/944.png  \n",
            "  inflating: flowers_imitation/945.png  \n",
            "  inflating: flowers_imitation/946.png  \n",
            "  inflating: flowers_imitation/947.png  \n",
            "  inflating: flowers_imitation/948.png  \n",
            "  inflating: flowers_imitation/949.png  \n",
            "  inflating: flowers_imitation/95.png  \n",
            "  inflating: flowers_imitation/950.png  \n",
            "  inflating: flowers_imitation/951.png  \n",
            "  inflating: flowers_imitation/952.png  \n",
            "  inflating: flowers_imitation/953.png  \n",
            "  inflating: flowers_imitation/954.png  \n",
            "  inflating: flowers_imitation/955.png  \n",
            "  inflating: flowers_imitation/956.png  \n",
            "  inflating: flowers_imitation/957.png  \n",
            "  inflating: flowers_imitation/958.png  \n",
            "  inflating: flowers_imitation/959.png  \n",
            "  inflating: flowers_imitation/96.png  \n",
            "  inflating: flowers_imitation/960.png  \n",
            "  inflating: flowers_imitation/961.png  \n",
            "  inflating: flowers_imitation/962.png  \n",
            "  inflating: flowers_imitation/963.png  \n",
            "  inflating: flowers_imitation/964.png  \n",
            "  inflating: flowers_imitation/965.png  \n",
            "  inflating: flowers_imitation/966.png  \n",
            "  inflating: flowers_imitation/967.png  \n",
            "  inflating: flowers_imitation/968.png  \n",
            "  inflating: flowers_imitation/969.png  \n",
            "  inflating: flowers_imitation/97.png  \n",
            "  inflating: flowers_imitation/970.png  \n",
            "  inflating: flowers_imitation/971.png  \n",
            "  inflating: flowers_imitation/972.png  \n",
            "  inflating: flowers_imitation/973.png  \n",
            "  inflating: flowers_imitation/974.png  \n",
            "  inflating: flowers_imitation/975.png  \n",
            "  inflating: flowers_imitation/976.png  \n",
            "  inflating: flowers_imitation/977.png  \n",
            "  inflating: flowers_imitation/978.png  \n",
            "  inflating: flowers_imitation/979.png  \n",
            "  inflating: flowers_imitation/98.png  \n",
            "  inflating: flowers_imitation/980.png  \n",
            "  inflating: flowers_imitation/981.png  \n",
            "  inflating: flowers_imitation/982.png  \n",
            "  inflating: flowers_imitation/983.png  \n",
            "  inflating: flowers_imitation/984.png  \n",
            "  inflating: flowers_imitation/985.png  \n",
            "  inflating: flowers_imitation/986.png  \n",
            "  inflating: flowers_imitation/987.png  \n",
            "  inflating: flowers_imitation/988.png  \n",
            "  inflating: flowers_imitation/989.png  \n",
            "  inflating: flowers_imitation/99.png  \n",
            "  inflating: flowers_imitation/990.png  \n",
            "  inflating: flowers_imitation/991.png  \n",
            "  inflating: flowers_imitation/992.png  \n",
            "  inflating: flowers_imitation/993.png  \n",
            "  inflating: flowers_imitation/994.png  \n",
            "  inflating: flowers_imitation/995.png  \n",
            "  inflating: flowers_imitation/996.png  \n",
            "  inflating: flowers_imitation/997.png  \n",
            "  inflating: flowers_imitation/998.png  \n",
            "  inflating: flowers_imitation/999.png  \n"
          ]
        }
      ]
    },
    {
      "cell_type": "markdown",
      "source": [
        "# Configuration"
      ],
      "metadata": {
        "id": "CNMJhWqyJMoi"
      },
      "id": "CNMJhWqyJMoi"
    },
    {
      "cell_type": "code",
      "execution_count": 3,
      "id": "78d286d4",
      "metadata": {
        "id": "78d286d4"
      },
      "outputs": [],
      "source": [
        "ROOT_DIR = \"kaggle\"\n",
        "\n",
        "CHANNEL_RATIOS = [1, 1, 1, 1, 1/2, 1/4, 1/8, 1/16, 1/32] # 9 variables\n",
        "Z_DIM = 256\n",
        "INIT_CHANNELS = 256\n",
        "\n",
        "IMG_SIZES = [4, 8, 16, 32, 64, 128]\n",
        "BATCH_SIZES = [64, 64, 64, 32, 32, 32]\n",
        "EPOCHS = [30] * len(IMG_SIZES)\n",
        "\n",
        "LR = 1e-3\n",
        "\n",
        "GP_CONSTANT = 10\n",
        "DEVICE = \"cuda\" if torch.cuda.is_available() else \"cpu\""
      ]
    },
    {
      "cell_type": "markdown",
      "source": [
        "# Define Dataset and DataLoader"
      ],
      "metadata": {
        "id": "hhq1Jzr6JRql"
      },
      "id": "hhq1Jzr6JRql"
    },
    {
      "cell_type": "code",
      "execution_count": 4,
      "id": "707cf34f",
      "metadata": {
        "colab": {
          "base_uri": "https://localhost:8080/",
          "height": 226
        },
        "id": "707cf34f",
        "outputId": "b5d56a65-3385-4bc2-b26d-da53c4be854b"
      },
      "outputs": [
        {
          "output_type": "stream",
          "name": "stdout",
          "text": [
            "torch.Size([16, 3, 128, 128])\n"
          ]
        },
        {
          "output_type": "execute_result",
          "data": {
            "text/plain": [
              "<matplotlib.image.AxesImage at 0x7c213ab143a0>"
            ]
          },
          "metadata": {},
          "execution_count": 4
        },
        {
          "output_type": "display_data",
          "data": {
            "text/plain": [
              "<Figure size 640x480 with 1 Axes>"
            ],
            "image/png": "[encoded data removed]"
          },
          "metadata": {}
        }
      ],
      "source": [
        "def get_loader(root_dir, steps, batch_size):\n",
        "    img_size = 4 * 2 ** steps\n",
        "    tsfm = transforms.Compose([\n",
        "        transforms.Resize(img_size),\n",
        "        transforms.ToTensor(),\n",
        "        transforms.RandomHorizontalFlip(0.5),\n",
        "        transforms.Normalize([0.5,0.5,0.5], [0.5, 0.5, 0.5])\n",
        "    ])\n",
        "    dataset = ImageFolder(root=root_dir, transform=tsfm)\n",
        "    dataloader = DataLoader(dataset, batch_size=batch_size, shuffle=True)\n",
        "    return dataloader, dataset\n",
        "\n",
        "dataloader, dataset = get_loader(ROOT_DIR, 5, 16)\n",
        "real, _ = next(iter(dataloader))\n",
        "print(real.size())\n",
        "plt.imshow(np.transpose(vutils.make_grid(real*0.5+0.5, padding=1, normalize=False), (1,2,0)))"
      ]
    },
    {
      "cell_type": "markdown",
      "source": [
        "# Define Generator and Discriminator"
      ],
      "metadata": {
        "id": "Pm646qRqJXJN"
      },
      "id": "Pm646qRqJXJN"
    },
    {
      "cell_type": "code",
      "execution_count": 5,
      "id": "5acb3d7c",
      "metadata": {
        "id": "5acb3d7c"
      },
      "outputs": [],
      "source": [
        "class WSConv2d(nn.Module):\n",
        "    def __init__(self, in_channels, out_channels, kernel_size, stride, padding, gain=2):\n",
        "        super().__init__()\n",
        "        self.conv = nn.Conv2d(in_channels, out_channels, kernel_size, stride, padding)\n",
        "        self.scale = (2 / (in_channels*kernel_size**2)) ** 0.5\n",
        "        self.bias = self.conv.bias\n",
        "        self.conv.bias = None\n",
        "\n",
        "        nn.init.normal_(self.conv.weight)\n",
        "        nn.init.zeros_(self.bias)\n",
        "\n",
        "    def forward(self, x):\n",
        "        return self.conv(x*self.scale) + self.bias.view(1, self.bias.shape[0], 1, 1)\n",
        "\n",
        "class PixelNorm(nn.Module):\n",
        "    def __init__(self):\n",
        "        super().__init__()\n",
        "        self.eps = 1e-8\n",
        "\n",
        "    def forward(self, x):\n",
        "        return x / torch.sqrt(torch.mean(x**2, dim=1, keepdim=True) + self.eps)\n",
        "\n",
        "\n",
        "class ConvBlock(nn.Module):\n",
        "    def __init__(self, in_channels, out_channels, kernel_size=3, stride=1, padding=1, do_pn=True):\n",
        "        super().__init__()\n",
        "        self.do_pn = do_pn\n",
        "        self.conv1 = WSConv2d(in_channels, out_channels, kernel_size, stride, padding)\n",
        "        self.conv2 = WSConv2d(out_channels, out_channels, kernel_size, stride, padding)\n",
        "        self.leaky = nn.LeakyReLU(0.2, inplace=True)\n",
        "        self.pn = PixelNorm()\n",
        "    def forward(self, x):\n",
        "        x = self.leaky(self.conv1(x))\n",
        "        x = self.pn(x) if self.do_pn else x\n",
        "        x = self.leaky(self.conv2(x))\n",
        "        x = self.pn(x) if self.do_pn else x\n",
        "        return x"
      ]
    },
    {
      "cell_type": "code",
      "execution_count": 10,
      "id": "1db2ec00",
      "metadata": {
        "id": "1db2ec00"
      },
      "outputs": [],
      "source": [
        "class Generator(nn.Module):\n",
        "    def __init__(self, z_dim, init_channels, img_channels=3):\n",
        "        super().__init__()\n",
        "        self.init_block = nn.Sequential(\n",
        "            PixelNorm(),\n",
        "            nn.ConvTranspose2d(z_dim, init_channels, 4, 1, 0), # (1,1) -> (4,4)\n",
        "            nn.LeakyReLU(0.2, inplace=True),\n",
        "            WSConv2d(init_channels, init_channels, 3, 1, 1),\n",
        "            nn.LeakyReLU(0.2, inplace=True),\n",
        "            PixelNorm()\n",
        "        )\n",
        "        self.init_toRGB = WSConv2d(init_channels, 3, kernel_size=1, stride=1, padding=0)\n",
        "        self.prog_blocks, self.toRGB_layers = nn.ModuleList([]), nn.ModuleList([self.init_toRGB])\n",
        "\n",
        "        for i in range(0, len(CHANNEL_RATIOS)-1):\n",
        "            conv_in, conv_out = int(INIT_CHANNELS * CHANNEL_RATIOS[i]),int(INIT_CHANNELS * CHANNEL_RATIOS[i+1])\n",
        "            self.prog_blocks.append(ConvBlock(conv_in, conv_out))\n",
        "            self.toRGB_layers.append(WSConv2d(conv_out, 3, kernel_size=1, stride=1, padding=0))\n",
        "\n",
        "    def fade_in(self, alpha, out, upscaled):\n",
        "        return torch.tanh(alpha * out + (1 - alpha) * upscaled) # scale data back to range [-1, 1]\n",
        "\n",
        "    def forward(self, x, alpha, steps):\n",
        "        x = x.view(x.shape[0], x.shape[1], 1, 1)\n",
        "        out = self.init_block(x)\n",
        "        if steps == 0:\n",
        "            return self.init_toRGB(out)\n",
        "\n",
        "        for step in range(steps):\n",
        "            upscaled = F.interpolate(out, scale_factor=2, mode=\"nearest\")\n",
        "            out = self.prog_blocks[step](upscaled)\n",
        "\n",
        "        upscaled_rgb = self.toRGB_layers[steps-1](upscaled)\n",
        "        out_rgb = self.toRGB_layers[steps](out)\n",
        "        #print(upscaled_rgb.size(), out_rgb.size())\n",
        "        return self.fade_in(alpha, out_rgb, upscaled_rgb)\n",
        "\n",
        "class Discriminator(nn.Module):\n",
        "    def __init__(self, init_channels, img_channels=3):\n",
        "        super().__init__()\n",
        "        self.prog_blocks, self.fromRGB_layers = nn.ModuleList([]), nn.ModuleList([])\n",
        "\n",
        "        for i in range(len(CHANNEL_RATIOS)-1, 0, -1):\n",
        "            conv_in, conv_out = int(INIT_CHANNELS * CHANNEL_RATIOS[i]), int(INIT_CHANNELS * CHANNEL_RATIOS[i-1])\n",
        "            self.prog_blocks.append(ConvBlock(conv_in, conv_out, do_pn=False))\n",
        "            self.fromRGB_layers.append(WSConv2d(3, conv_in, kernel_size=1, stride=1, padding=0))\n",
        "\n",
        "        self.init_fromRGB = WSConv2d(3, init_channels, kernel_size=1, stride=1, padding=0)\n",
        "        self.fromRGB_layers.append(self.init_fromRGB)\n",
        "\n",
        "        self.final_block = nn.Sequential(\n",
        "            WSConv2d(init_channels+1, init_channels, 3, 1, 1),\n",
        "            nn.LeakyReLU(0.2, inplace=True),\n",
        "            WSConv2d(init_channels, init_channels, 4, 1, 0),\n",
        "            nn.LeakyReLU(0.2, inplace=True),\n",
        "            WSConv2d(init_channels, 1, kernel_size=1, stride=1, padding=0)\n",
        "        )\n",
        "        self.leaky = nn.LeakyReLU(0.2, inplace=True)\n",
        "        self.avg_pool = nn.AvgPool2d(2, 2)\n",
        "\n",
        "    def fade_in(self, alpha, out, downscaled):\n",
        "        return alpha * out + (1 - alpha) * downscaled\n",
        "\n",
        "    def minibatch(self, x):\n",
        "        minibatch_std = torch.mean(torch.std(x, dim=0)).repeat(x.shape[0], 1, x.shape[2], x.shape[3])\n",
        "        return torch.concat([x, minibatch_std], dim=1)\n",
        "\n",
        "    def forward(self, x, alpha, steps):\n",
        "        cur_step = len(self.prog_blocks) - steps\n",
        "        #print(cur_step)\n",
        "        out = self.leaky(self.fromRGB_layers[cur_step](x))\n",
        "        #print(out.size())\n",
        "        if steps == 0:\n",
        "            out = self.minibatch(out)\n",
        "            return self.final_block(out).view(x.shape[0], -1)\n",
        "\n",
        "        downscaled = self.leaky(self.fromRGB_layers[cur_step+1](self.avg_pool(x)))\n",
        "        out = self.avg_pool(self.prog_blocks[cur_step](out))\n",
        "\n",
        "        out = self.fade_in(alpha, out, downscaled)\n",
        "        for step in range(cur_step+1,  len(self.prog_blocks)):\n",
        "            out = self.prog_blocks[step](out)\n",
        "            out = self.avg_pool(out)\n",
        "        out = self.minibatch(out)\n",
        "        return self.final_block(out).view(x.shape[0], -1)"
      ]
    },
    {
      "cell_type": "markdown",
      "source": [
        "# Define Gradient Penalty"
      ],
      "metadata": {
        "id": "aenxQywpJdcn"
      },
      "id": "aenxQywpJdcn"
    },
    {
      "cell_type": "code",
      "execution_count": 11,
      "id": "0f780771",
      "metadata": {
        "id": "0f780771"
      },
      "outputs": [],
      "source": [
        "def calculate_gradien_penalty(netD, real, fake, alpha, steps, device):\n",
        "    cur_batch_size, C, H, W = real.shape\n",
        "    beta = torch.rand(cur_batch_size, 1, 1, 1).repeat(1, C, H, W).to(device)\n",
        "    interpolated_img = beta * real + (1-beta) * fake.detach()\n",
        "    interpolated_img.requires_grad_(True)\n",
        "    interpolated_pred = netD(interpolated_img, alpha, steps)\n",
        "\n",
        "    gradient = torch.autograd.grad(inputs = interpolated_img,\\\n",
        "                                  outputs = interpolated_pred, \\\n",
        "                                  grad_outputs= torch.ones_like(interpolated_pred),\\\n",
        "                                  create_graph= True,\\\n",
        "                                  retain_graph=True,\n",
        "                                  )[0]\n",
        "    gradient = gradient.view(gradient.shape[0], -1)\n",
        "    gradient_norm = gradient.norm(2, dim=1)\n",
        "    gp  = torch.mean((gradient_norm - 1) ** 2)\n",
        "    return gp"
      ]
    },
    {
      "cell_type": "markdown",
      "source": [
        "# Define training function / visualization function on fixed noise"
      ],
      "metadata": {
        "id": "uzyo0xWHJmqS"
      },
      "id": "uzyo0xWHJmqS"
    },
    {
      "cell_type": "code",
      "execution_count": 13,
      "id": "345aaf10",
      "metadata": {
        "id": "345aaf10"
      },
      "outputs": [],
      "source": [
        "def train_fn(netG, netD, dataloader, dataset, alpha, steps, device, n_epoch):\n",
        "    train_pbar = tqdm(dataloader)\n",
        "\n",
        "    for real, _ in train_pbar:\n",
        "        # update netD\n",
        "        real = real.to(device)\n",
        "        cur_batch_size = real.shape[0]\n",
        "        noise = torch.randn(cur_batch_size, Z_DIM).to(device)\n",
        "        fake = netG(noise, alpha, steps)\n",
        "\n",
        "        gp = calculate_gradien_penalty(netD, real, fake, alpha, steps, device)\n",
        "        real_scores = netD(real, alpha, steps)\n",
        "        fake_scores = netD(fake.detach(), alpha, steps)\n",
        "        loss_critic = - torch.mean(real_scores) + torch.mean(fake_scores) \\\n",
        "                      + GP_CONSTANT * gp + (1e-3 * torch.mean(fake_scores**2))\n",
        "\n",
        "        netD.zero_grad()\n",
        "        loss_critic.backward()\n",
        "        optimD.step()\n",
        "\n",
        "        # update netG\n",
        "        fake_scores = netD(fake, alpha, steps)\n",
        "        loss_gen = - torch.mean(fake_scores)\n",
        "        netG.zero_grad()\n",
        "        loss_gen.backward()\n",
        "        optimG.step()\n",
        "        train_pbar.set_description(f\"Epoch:{n_epoch}\")\n",
        "        train_pbar.set_postfix({\"GP\":f'{gp.detach().item():.2f}', \"loss_critic\":f'{loss_critic.detach().item():.2f}'})\n",
        "\n",
        "        alpha += cur_batch_size / (len(dataset) * EPOCHS[steps] * 0.5)\n",
        "    return alpha\n",
        "\n",
        "def visual_on_fixed_noise(netG, fixed_noise, alpha, steps, n_epoch):\n",
        "    netG.eval()\n",
        "    with torch.no_grad():\n",
        "        fakes = netG(fixed_noise, alpha, steps)\n",
        "    fakes = vutils.make_grid(fakes.detach().cpu()*0.5+0.5, padding=1, normalize=False)\n",
        "    folder = f\"step{steps}\"\n",
        "    if not os.path.exists(folder):\n",
        "        os.makedirs(folder)\n",
        "    save_image(fakes, os.path.join(folder, f\"Epoch_{n_epoch}.jpg\"))\n",
        "    netG.train()\n",
        "    return"
      ]
    },
    {
      "cell_type": "markdown",
      "source": [
        "# Major Training Process"
      ],
      "metadata": {
        "id": "AOLN44b0J07e"
      },
      "id": "AOLN44b0J07e"
    },
    {
      "cell_type": "code",
      "execution_count": 14,
      "id": "023f84de",
      "metadata": {
        "id": "023f84de"
      },
      "outputs": [],
      "source": [
        "netG = Generator(Z_DIM, INIT_CHANNELS).to(DEVICE)\n",
        "netD = Discriminator(INIT_CHANNELS).to(DEVICE)\n",
        "\n",
        "optimG = torch.optim.Adam(netG.parameters(), lr=LR, betas=(0.0, 0.99))\n",
        "optimD = torch.optim.Adam(netD.parameters(), lr=LR, betas=(0.0, 0.99))\n",
        "\n",
        "fixed_noise = torch.randn(64, Z_DIM).to(DEVICE)"
      ]
    },
    {
      "cell_type": "code",
      "execution_count": 16,
      "id": "1cebbe7e",
      "metadata": {
        "colab": {
          "base_uri": "https://localhost:8080/"
        },
        "id": "1cebbe7e",
        "outputId": "76a6624a-6e91-4f46-cc4f-af82ece8aa5c"
      },
      "outputs": [
        {
          "metadata": {
            "tags": null
          },
          "name": "stdout",
          "output_type": "stream",
          "text": [
            "64\n"
          ]
        },
        {
          "metadata": {
            "tags": null
          },
          "name": "stderr",
          "output_type": "stream",
          "text": [
            "Epoch:0: 100%|██████████| 78/78 [00:18<00:00,  4.29it/s, GP=0.03, loss_critic=-1.85]\n"
          ]
        },
        {
          "metadata": {
            "tags": null
          },
          "name": "stdout",
          "output_type": "stream",
          "text": [
            "0.06667666666666666\n"
          ]
        },
        {
          "metadata": {
            "tags": null
          },
          "name": "stderr",
          "output_type": "stream",
          "text": [
            "Epoch:1: 100%|██████████| 78/78 [00:16<00:00,  4.80it/s, GP=0.01, loss_critic=-1.04]\n"
          ]
        },
        {
          "metadata": {
            "tags": null
          },
          "name": "stdout",
          "output_type": "stream",
          "text": [
            "0.13334333333333284\n"
          ]
        },
        {
          "metadata": {
            "tags": null
          },
          "name": "stderr",
          "output_type": "stream",
          "text": [
            "Epoch:2: 100%|██████████| 78/78 [00:15<00:00,  4.96it/s, GP=0.01, loss_critic=-0.61]\n"
          ]
        },
        {
          "metadata": {
            "tags": null
          },
          "name": "stdout",
          "output_type": "stream",
          "text": [
            "0.20000999999999902\n"
          ]
        },
        {
          "metadata": {
            "tags": null
          },
          "name": "stderr",
          "output_type": "stream",
          "text": [
            "Epoch:3: 100%|██████████| 78/78 [00:15<00:00,  5.00it/s, GP=0.01, loss_critic=-0.57]\n"
          ]
        },
        {
          "metadata": {
            "tags": null
          },
          "name": "stdout",
          "output_type": "stream",
          "text": [
            "0.26667666666666573\n"
          ]
        },
        {
          "metadata": {
            "tags": null
          },
          "name": "stderr",
          "output_type": "stream",
          "text": [
            "Epoch:4: 100%|██████████| 78/78 [00:15<00:00,  4.90it/s, GP=0.02, loss_critic=-0.38]\n"
          ]
        },
        {
          "metadata": {
            "tags": null
          },
          "name": "stdout",
          "output_type": "stream",
          "text": [
            "0.33334333333333405\n"
          ]
        },
        {
          "metadata": {
            "tags": null
          },
          "name": "stderr",
          "output_type": "stream",
          "text": [
            "Epoch:5: 100%|██████████| 78/78 [00:16<00:00,  4.84it/s, GP=0.01, loss_critic=-0.48]\n"
          ]
        },
        {
          "metadata": {
            "tags": null
          },
          "name": "stdout",
          "output_type": "stream",
          "text": [
            "0.40001000000000236\n"
          ]
        },
        {
          "metadata": {
            "tags": null
          },
          "name": "stderr",
          "output_type": "stream",
          "text": [
            "Epoch:6: 100%|██████████| 78/78 [00:15<00:00,  4.95it/s, GP=0.01, loss_critic=-0.18]\n"
          ]
        },
        {
          "metadata": {
            "tags": null
          },
          "name": "stdout",
          "output_type": "stream",
          "text": [
            "0.4666766666666707\n"
          ]
        },
        {
          "metadata": {
            "tags": null
          },
          "name": "stderr",
          "output_type": "stream",
          "text": [
            "Epoch:7: 100%|██████████| 78/78 [00:15<00:00,  4.97it/s, GP=0.01, loss_critic=-0.42]\n"
          ]
        },
        {
          "metadata": {
            "tags": null
          },
          "name": "stdout",
          "output_type": "stream",
          "text": [
            "0.5333433333333389\n"
          ]
        },
        {
          "metadata": {
            "tags": null
          },
          "name": "stderr",
          "output_type": "stream",
          "text": [
            "Epoch:8: 100%|██████████| 78/78 [00:16<00:00,  4.78it/s, GP=0.01, loss_critic=-0.20]\n"
          ]
        },
        {
          "metadata": {
            "tags": null
          },
          "name": "stdout",
          "output_type": "stream",
          "text": [
            "0.6000100000000073\n"
          ]
        },
        {
          "metadata": {
            "tags": null
          },
          "name": "stderr",
          "output_type": "stream",
          "text": [
            "Epoch:9: 100%|██████████| 78/78 [00:15<00:00,  4.92it/s, GP=0.01, loss_critic=-0.27]\n"
          ]
        },
        {
          "metadata": {
            "tags": null
          },
          "name": "stdout",
          "output_type": "stream",
          "text": [
            "0.6666766666666756\n"
          ]
        },
        {
          "metadata": {
            "tags": null
          },
          "name": "stderr",
          "output_type": "stream",
          "text": [
            "Epoch:10: 100%|██████████| 78/78 [00:15<00:00,  4.95it/s, GP=0.01, loss_critic=-0.23]\n"
          ]
        },
        {
          "metadata": {
            "tags": null
          },
          "name": "stdout",
          "output_type": "stream",
          "text": [
            "0.7333433333333439\n"
          ]
        },
        {
          "metadata": {
            "tags": null
          },
          "name": "stderr",
          "output_type": "stream",
          "text": [
            "Epoch:11: 100%|██████████| 78/78 [00:16<00:00,  4.78it/s, GP=0.01, loss_critic=-0.15]\n"
          ]
        },
        {
          "metadata": {
            "tags": null
          },
          "name": "stdout",
          "output_type": "stream",
          "text": [
            "0.8000100000000122\n"
          ]
        },
        {
          "metadata": {
            "tags": null
          },
          "name": "stderr",
          "output_type": "stream",
          "text": [
            "Epoch:12: 100%|██████████| 78/78 [00:15<00:00,  4.95it/s, GP=0.01, loss_critic=-0.26]\n"
          ]
        },
        {
          "metadata": {
            "tags": null
          },
          "name": "stdout",
          "output_type": "stream",
          "text": [
            "0.8666766666666805\n"
          ]
        },
        {
          "metadata": {
            "tags": null
          },
          "name": "stderr",
          "output_type": "stream",
          "text": [
            "Epoch:13: 100%|██████████| 78/78 [00:15<00:00,  4.96it/s, GP=0.01, loss_critic=-0.19]\n"
          ]
        },
        {
          "metadata": {
            "tags": null
          },
          "name": "stdout",
          "output_type": "stream",
          "text": [
            "0.9333433333333488\n"
          ]
        },
        {
          "metadata": {
            "tags": null
          },
          "name": "stderr",
          "output_type": "stream",
          "text": [
            "Epoch:14: 100%|██████████| 78/78 [00:16<00:00,  4.78it/s, GP=0.01, loss_critic=-0.22]\n"
          ]
        },
        {
          "metadata": {
            "tags": null
          },
          "name": "stdout",
          "output_type": "stream",
          "text": [
            "1.0000100000000172\n"
          ]
        },
        {
          "metadata": {
            "tags": null
          },
          "name": "stderr",
          "output_type": "stream",
          "text": [
            "Epoch:15: 100%|██████████| 78/78 [00:15<00:00,  4.96it/s, GP=0.01, loss_critic=-0.23]\n"
          ]
        },
        {
          "metadata": {
            "tags": null
          },
          "name": "stdout",
          "output_type": "stream",
          "text": [
            "1.0666766666666854\n"
          ]
        },
        {
          "metadata": {
            "tags": null
          },
          "name": "stderr",
          "output_type": "stream",
          "text": [
            "Epoch:16: 100%|██████████| 78/78 [00:15<00:00,  4.94it/s, GP=0.01, loss_critic=-0.14]\n"
          ]
        },
        {
          "metadata": {
            "tags": null
          },
          "name": "stdout",
          "output_type": "stream",
          "text": [
            "1.1333433333333536\n"
          ]
        },
        {
          "metadata": {
            "tags": null
          },
          "name": "stderr",
          "output_type": "stream",
          "text": [
            "Epoch:17: 100%|██████████| 78/78 [00:16<00:00,  4.79it/s, GP=0.01, loss_critic=-0.16]\n"
          ]
        },
        {
          "metadata": {
            "tags": null
          },
          "name": "stdout",
          "output_type": "stream",
          "text": [
            "1.2000100000000218\n"
          ]
        },
        {
          "metadata": {
            "tags": null
          },
          "name": "stderr",
          "output_type": "stream",
          "text": [
            "Epoch:18: 100%|██████████| 78/78 [00:15<00:00,  4.96it/s, GP=0.01, loss_critic=-0.11]\n"
          ]
        },
        {
          "metadata": {
            "tags": null
          },
          "name": "stdout",
          "output_type": "stream",
          "text": [
            "1.26667666666669\n"
          ]
        },
        {
          "metadata": {
            "tags": null
          },
          "name": "stderr",
          "output_type": "stream",
          "text": [
            "Epoch:19: 100%|██████████| 78/78 [00:15<00:00,  4.97it/s, GP=0.00, loss_critic=-0.15]\n"
          ]
        },
        {
          "metadata": {
            "tags": null
          },
          "name": "stdout",
          "output_type": "stream",
          "text": [
            "1.3333433333333582\n"
          ]
        },
        {
          "metadata": {
            "tags": null
          },
          "name": "stderr",
          "output_type": "stream",
          "text": [
            "Epoch:20: 100%|██████████| 78/78 [00:16<00:00,  4.87it/s, GP=0.01, loss_critic=-0.06]\n"
          ]
        },
        {
          "metadata": {
            "tags": null
          },
          "name": "stdout",
          "output_type": "stream",
          "text": [
            "1.4000100000000264\n"
          ]
        },
        {
          "metadata": {
            "tags": null
          },
          "name": "stderr",
          "output_type": "stream",
          "text": [
            "Epoch:21: 100%|██████████| 78/78 [00:16<00:00,  4.86it/s, GP=0.01, loss_critic=-0.14]\n"
          ]
        },
        {
          "metadata": {
            "tags": null
          },
          "name": "stdout",
          "output_type": "stream",
          "text": [
            "1.4666766666666946\n"
          ]
        },
        {
          "metadata": {
            "tags": null
          },
          "name": "stderr",
          "output_type": "stream",
          "text": [
            "Epoch:22: 100%|██████████| 78/78 [00:15<00:00,  4.96it/s, GP=0.00, loss_critic=-0.10]\n"
          ]
        },
        {
          "metadata": {
            "tags": null
          },
          "name": "stdout",
          "output_type": "stream",
          "text": [
            "1.5333433333333628\n"
          ]
        },
        {
          "metadata": {
            "tags": null
          },
          "name": "stderr",
          "output_type": "stream",
          "text": [
            "Epoch:23: 100%|██████████| 78/78 [00:15<00:00,  4.96it/s, GP=0.01, loss_critic=-0.03]\n"
          ]
        },
        {
          "metadata": {
            "tags": null
          },
          "name": "stdout",
          "output_type": "stream",
          "text": [
            "1.600010000000031\n"
          ]
        },
        {
          "metadata": {
            "tags": null
          },
          "name": "stderr",
          "output_type": "stream",
          "text": [
            "Epoch:24: 100%|██████████| 78/78 [00:16<00:00,  4.80it/s, GP=0.00, loss_critic=-0.16]\n"
          ]
        },
        {
          "metadata": {
            "tags": null
          },
          "name": "stdout",
          "output_type": "stream",
          "text": [
            "1.6666766666666992\n"
          ]
        },
        {
          "metadata": {
            "tags": null
          },
          "name": "stderr",
          "output_type": "stream",
          "text": [
            "Epoch:25: 100%|██████████| 78/78 [00:15<00:00,  4.95it/s, GP=0.01, loss_critic=-0.05]\n"
          ]
        },
        {
          "metadata": {
            "tags": null
          },
          "name": "stdout",
          "output_type": "stream",
          "text": [
            "1.7333433333333674\n"
          ]
        },
        {
          "metadata": {
            "tags": null
          },
          "name": "stderr",
          "output_type": "stream",
          "text": [
            "Epoch:26: 100%|██████████| 78/78 [00:15<00:00,  4.95it/s, GP=0.00, loss_critic=-0.11]\n"
          ]
        },
        {
          "metadata": {
            "tags": null
          },
          "name": "stdout",
          "output_type": "stream",
          "text": [
            "1.8000100000000356\n"
          ]
        },
        {
          "metadata": {
            "tags": null
          },
          "name": "stderr",
          "output_type": "stream",
          "text": [
            "Epoch:27: 100%|██████████| 78/78 [00:16<00:00,  4.79it/s, GP=0.00, loss_critic=-0.07]\n"
          ]
        },
        {
          "metadata": {
            "tags": null
          },
          "name": "stdout",
          "output_type": "stream",
          "text": [
            "1.8666766666667038\n"
          ]
        },
        {
          "metadata": {
            "tags": null
          },
          "name": "stderr",
          "output_type": "stream",
          "text": [
            "Epoch:28: 100%|██████████| 78/78 [00:15<00:00,  4.92it/s, GP=0.00, loss_critic=-0.20]\n"
          ]
        },
        {
          "metadata": {
            "tags": null
          },
          "name": "stdout",
          "output_type": "stream",
          "text": [
            "1.933343333333372\n"
          ]
        },
        {
          "metadata": {
            "tags": null
          },
          "name": "stderr",
          "output_type": "stream",
          "text": [
            "Epoch:29: 100%|██████████| 78/78 [00:15<00:00,  4.98it/s, GP=0.00, loss_critic=-0.10]\n"
          ]
        },
        {
          "metadata": {
            "tags": null
          },
          "name": "stdout",
          "output_type": "stream",
          "text": [
            "2.0000100000000405\n",
            "64\n"
          ]
        },
        {
          "metadata": {
            "tags": null
          },
          "name": "stderr",
          "output_type": "stream",
          "text": [
            "Epoch:0: 100%|██████████| 78/78 [00:19<00:00,  3.95it/s, GP=0.00, loss_critic=-0.87]\n"
          ]
        },
        {
          "metadata": {
            "tags": null
          },
          "name": "stdout",
          "output_type": "stream",
          "text": [
            "0.06667666666666666\n"
          ]
        },
        {
          "metadata": {
            "tags": null
          },
          "name": "stderr",
          "output_type": "stream",
          "text": [
            "Epoch:1: 100%|██████████| 78/78 [00:19<00:00,  4.08it/s, GP=0.00, loss_critic=0.43]\n"
          ]
        },
        {
          "metadata": {
            "tags": null
          },
          "name": "stdout",
          "output_type": "stream",
          "text": [
            "0.13334333333333284\n"
          ]
        },
        {
          "metadata": {
            "tags": null
          },
          "name": "stderr",
          "output_type": "stream",
          "text": [
            "Epoch:2: 100%|██████████| 78/78 [00:19<00:00,  4.06it/s, GP=0.00, loss_critic=0.14]\n"
          ]
        },
        {
          "metadata": {
            "tags": null
          },
          "name": "stdout",
          "output_type": "stream",
          "text": [
            "0.20000999999999902\n"
          ]
        },
        {
          "metadata": {
            "tags": null
          },
          "name": "stderr",
          "output_type": "stream",
          "text": [
            "Epoch:3: 100%|██████████| 78/78 [00:19<00:00,  3.98it/s, GP=0.00, loss_critic=-0.48]\n"
          ]
        },
        {
          "metadata": {
            "tags": null
          },
          "name": "stdout",
          "output_type": "stream",
          "text": [
            "0.26667666666666573\n"
          ]
        },
        {
          "metadata": {
            "tags": null
          },
          "name": "stderr",
          "output_type": "stream",
          "text": [
            "Epoch:4: 100%|██████████| 78/78 [00:19<00:00,  4.09it/s, GP=0.01, loss_critic=-0.03]\n"
          ]
        },
        {
          "metadata": {
            "tags": null
          },
          "name": "stdout",
          "output_type": "stream",
          "text": [
            "0.33334333333333405\n"
          ]
        },
        {
          "metadata": {
            "tags": null
          },
          "name": "stderr",
          "output_type": "stream",
          "text": [
            "Epoch:5: 100%|██████████| 78/78 [00:19<00:00,  3.99it/s, GP=0.00, loss_critic=-0.09]\n"
          ]
        },
        {
          "metadata": {
            "tags": null
          },
          "name": "stdout",
          "output_type": "stream",
          "text": [
            "0.40001000000000236\n"
          ]
        },
        {
          "metadata": {
            "tags": null
          },
          "name": "stderr",
          "output_type": "stream",
          "text": [
            "Epoch:6: 100%|██████████| 78/78 [00:19<00:00,  4.01it/s, GP=0.00, loss_critic=-0.01]\n"
          ]
        },
        {
          "metadata": {
            "tags": null
          },
          "name": "stdout",
          "output_type": "stream",
          "text": [
            "0.4666766666666707\n"
          ]
        },
        {
          "metadata": {
            "tags": null
          },
          "name": "stderr",
          "output_type": "stream",
          "text": [
            "Epoch:7: 100%|██████████| 78/78 [00:19<00:00,  4.03it/s, GP=0.01, loss_critic=-0.05]\n"
          ]
        },
        {
          "metadata": {
            "tags": null
          },
          "name": "stdout",
          "output_type": "stream",
          "text": [
            "0.5333433333333389\n"
          ]
        },
        {
          "metadata": {
            "tags": null
          },
          "name": "stderr",
          "output_type": "stream",
          "text": [
            "Epoch:8: 100%|██████████| 78/78 [00:19<00:00,  4.00it/s, GP=0.00, loss_critic=-0.13]\n"
          ]
        },
        {
          "metadata": {
            "tags": null
          },
          "name": "stdout",
          "output_type": "stream",
          "text": [
            "0.6000100000000073\n"
          ]
        },
        {
          "metadata": {
            "tags": null
          },
          "name": "stderr",
          "output_type": "stream",
          "text": [
            "Epoch:9: 100%|██████████| 78/78 [00:19<00:00,  4.06it/s, GP=0.00, loss_critic=-0.39]\n"
          ]
        },
        {
          "metadata": {
            "tags": null
          },
          "name": "stdout",
          "output_type": "stream",
          "text": [
            "0.6666766666666756\n"
          ]
        },
        {
          "metadata": {
            "tags": null
          },
          "name": "stderr",
          "output_type": "stream",
          "text": [
            "Epoch:10: 100%|██████████| 78/78 [00:19<00:00,  3.98it/s, GP=0.01, loss_critic=-0.15]\n"
          ]
        },
        {
          "metadata": {
            "tags": null
          },
          "name": "stdout",
          "output_type": "stream",
          "text": [
            "0.7333433333333439\n"
          ]
        },
        {
          "metadata": {
            "tags": null
          },
          "name": "stderr",
          "output_type": "stream",
          "text": [
            "Epoch:11: 100%|██████████| 78/78 [00:19<00:00,  4.00it/s, GP=0.01, loss_critic=-0.50]\n"
          ]
        },
        {
          "metadata": {
            "tags": null
          },
          "name": "stdout",
          "output_type": "stream",
          "text": [
            "0.8000100000000122\n"
          ]
        },
        {
          "metadata": {
            "tags": null
          },
          "name": "stderr",
          "output_type": "stream",
          "text": [
            "Epoch:12: 100%|██████████| 78/78 [00:19<00:00,  4.04it/s, GP=0.01, loss_critic=-0.23]\n"
          ]
        },
        {
          "metadata": {
            "tags": null
          },
          "name": "stdout",
          "output_type": "stream",
          "text": [
            "0.8666766666666805\n"
          ]
        },
        {
          "metadata": {
            "tags": null
          },
          "name": "stderr",
          "output_type": "stream",
          "text": [
            "Epoch:13: 100%|██████████| 78/78 [00:19<00:00,  3.97it/s, GP=0.00, loss_critic=0.28]\n"
          ]
        },
        {
          "metadata": {
            "tags": null
          },
          "name": "stdout",
          "output_type": "stream",
          "text": [
            "0.9333433333333488\n"
          ]
        },
        {
          "metadata": {
            "tags": null
          },
          "name": "stderr",
          "output_type": "stream",
          "text": [
            "Epoch:14: 100%|██████████| 78/78 [00:19<00:00,  4.03it/s, GP=0.00, loss_critic=-0.12]\n"
          ]
        },
        {
          "metadata": {
            "tags": null
          },
          "name": "stdout",
          "output_type": "stream",
          "text": [
            "1.0000100000000172\n"
          ]
        },
        {
          "metadata": {
            "tags": null
          },
          "name": "stderr",
          "output_type": "stream",
          "text": [
            "Epoch:15: 100%|██████████| 78/78 [00:19<00:00,  3.99it/s, GP=0.01, loss_critic=0.04]\n"
          ]
        },
        {
          "metadata": {
            "tags": null
          },
          "name": "stdout",
          "output_type": "stream",
          "text": [
            "1.0666766666666854\n"
          ]
        },
        {
          "metadata": {
            "tags": null
          },
          "name": "stderr",
          "output_type": "stream",
          "text": [
            "Epoch:16: 100%|██████████| 78/78 [00:19<00:00,  3.98it/s, GP=0.01, loss_critic=-0.30]\n"
          ]
        },
        {
          "metadata": {
            "tags": null
          },
          "name": "stdout",
          "output_type": "stream",
          "text": [
            "1.1333433333333536\n"
          ]
        },
        {
          "metadata": {
            "tags": null
          },
          "name": "stderr",
          "output_type": "stream",
          "text": [
            "Epoch:17: 100%|██████████| 78/78 [00:19<00:00,  4.06it/s, GP=0.00, loss_critic=0.27]\n"
          ]
        },
        {
          "metadata": {
            "tags": null
          },
          "name": "stdout",
          "output_type": "stream",
          "text": [
            "1.2000100000000218\n"
          ]
        },
        {
          "metadata": {
            "tags": null
          },
          "name": "stderr",
          "output_type": "stream",
          "text": [
            "Epoch:18: 100%|██████████| 78/78 [00:19<00:00,  4.01it/s, GP=0.01, loss_critic=-0.10]\n"
          ]
        },
        {
          "metadata": {
            "tags": null
          },
          "name": "stdout",
          "output_type": "stream",
          "text": [
            "1.26667666666669\n"
          ]
        },
        {
          "metadata": {
            "tags": null
          },
          "name": "stderr",
          "output_type": "stream",
          "text": [
            "Epoch:19: 100%|██████████| 78/78 [00:19<00:00,  4.09it/s, GP=0.01, loss_critic=-0.21]\n"
          ]
        },
        {
          "metadata": {
            "tags": null
          },
          "name": "stdout",
          "output_type": "stream",
          "text": [
            "1.3333433333333582\n"
          ]
        },
        {
          "metadata": {
            "tags": null
          },
          "name": "stderr",
          "output_type": "stream",
          "text": [
            "Epoch:20: 100%|██████████| 78/78 [00:19<00:00,  3.98it/s, GP=0.01, loss_critic=-0.05]\n"
          ]
        },
        {
          "metadata": {
            "tags": null
          },
          "name": "stdout",
          "output_type": "stream",
          "text": [
            "1.4000100000000264\n"
          ]
        },
        {
          "metadata": {
            "tags": null
          },
          "name": "stderr",
          "output_type": "stream",
          "text": [
            "Epoch:21: 100%|██████████| 78/78 [00:19<00:00,  4.01it/s, GP=0.02, loss_critic=0.27]\n"
          ]
        },
        {
          "metadata": {
            "tags": null
          },
          "name": "stdout",
          "output_type": "stream",
          "text": [
            "1.4666766666666946\n"
          ]
        },
        {
          "metadata": {
            "tags": null
          },
          "name": "stderr",
          "output_type": "stream",
          "text": [
            "Epoch:22: 100%|██████████| 78/78 [00:19<00:00,  4.08it/s, GP=0.01, loss_critic=0.29]\n"
          ]
        },
        {
          "metadata": {
            "tags": null
          },
          "name": "stdout",
          "output_type": "stream",
          "text": [
            "1.5333433333333628\n"
          ]
        },
        {
          "metadata": {
            "tags": null
          },
          "name": "stderr",
          "output_type": "stream",
          "text": [
            "Epoch:23: 100%|██████████| 78/78 [00:19<00:00,  3.97it/s, GP=0.01, loss_critic=-0.16]\n"
          ]
        },
        {
          "metadata": {
            "tags": null
          },
          "name": "stdout",
          "output_type": "stream",
          "text": [
            "1.600010000000031\n"
          ]
        },
        {
          "metadata": {
            "tags": null
          },
          "name": "stderr",
          "output_type": "stream",
          "text": [
            "Epoch:24: 100%|██████████| 78/78 [00:19<00:00,  4.05it/s, GP=0.00, loss_critic=-0.21]\n"
          ]
        },
        {
          "metadata": {
            "tags": null
          },
          "name": "stdout",
          "output_type": "stream",
          "text": [
            "1.6666766666666992\n"
          ]
        },
        {
          "metadata": {
            "tags": null
          },
          "name": "stderr",
          "output_type": "stream",
          "text": [
            "Epoch:25: 100%|██████████| 78/78 [00:19<00:00,  4.02it/s, GP=0.01, loss_critic=-0.09]\n"
          ]
        },
        {
          "metadata": {
            "tags": null
          },
          "name": "stdout",
          "output_type": "stream",
          "text": [
            "1.7333433333333674\n"
          ]
        },
        {
          "metadata": {
            "tags": null
          },
          "name": "stderr",
          "output_type": "stream",
          "text": [
            "Epoch:26: 100%|██████████| 78/78 [00:19<00:00,  4.03it/s, GP=0.01, loss_critic=0.20]\n"
          ]
        },
        {
          "metadata": {
            "tags": null
          },
          "name": "stdout",
          "output_type": "stream",
          "text": [
            "1.8000100000000356\n"
          ]
        },
        {
          "metadata": {
            "tags": null
          },
          "name": "stderr",
          "output_type": "stream",
          "text": [
            "Epoch:27: 100%|██████████| 78/78 [00:19<00:00,  4.10it/s, GP=0.01, loss_critic=-0.22]\n"
          ]
        },
        {
          "metadata": {
            "tags": null
          },
          "name": "stdout",
          "output_type": "stream",
          "text": [
            "1.8666766666667038\n"
          ]
        },
        {
          "metadata": {
            "tags": null
          },
          "name": "stderr",
          "output_type": "stream",
          "text": [
            "Epoch:28: 100%|██████████| 78/78 [00:19<00:00,  3.98it/s, GP=0.01, loss_critic=-0.03]\n"
          ]
        },
        {
          "metadata": {
            "tags": null
          },
          "name": "stdout",
          "output_type": "stream",
          "text": [
            "1.933343333333372\n"
          ]
        },
        {
          "metadata": {
            "tags": null
          },
          "name": "stderr",
          "output_type": "stream",
          "text": [
            "Epoch:29: 100%|██████████| 78/78 [00:19<00:00,  4.04it/s, GP=0.01, loss_critic=0.08]\n"
          ]
        },
        {
          "metadata": {
            "tags": null
          },
          "name": "stdout",
          "output_type": "stream",
          "text": [
            "2.0000100000000405\n",
            "64\n"
          ]
        },
        {
          "metadata": {
            "tags": null
          },
          "name": "stderr",
          "output_type": "stream",
          "text": [
            "Epoch:0: 100%|██████████| 78/78 [00:26<00:00,  2.99it/s, GP=0.00, loss_critic=-0.37]\n"
          ]
        },
        {
          "metadata": {
            "tags": null
          },
          "name": "stdout",
          "output_type": "stream",
          "text": [
            "0.06667666666666666\n"
          ]
        },
        {
          "metadata": {
            "tags": null
          },
          "name": "stderr",
          "output_type": "stream",
          "text": [
            "Epoch:1: 100%|██████████| 78/78 [00:25<00:00,  3.06it/s, GP=0.00, loss_critic=-0.29]\n"
          ]
        },
        {
          "metadata": {
            "tags": null
          },
          "name": "stdout",
          "output_type": "stream",
          "text": [
            "0.13334333333333284\n"
          ]
        },
        {
          "metadata": {
            "tags": null
          },
          "name": "stderr",
          "output_type": "stream",
          "text": [
            "Epoch:2: 100%|██████████| 78/78 [00:25<00:00,  3.06it/s, GP=0.00, loss_critic=0.18]\n"
          ]
        },
        {
          "metadata": {
            "tags": null
          },
          "name": "stdout",
          "output_type": "stream",
          "text": [
            "0.20000999999999902\n"
          ]
        },
        {
          "metadata": {
            "tags": null
          },
          "name": "stderr",
          "output_type": "stream",
          "text": [
            "Epoch:3: 100%|██████████| 78/78 [00:25<00:00,  3.05it/s, GP=0.01, loss_critic=-0.43]\n"
          ]
        },
        {
          "metadata": {
            "tags": null
          },
          "name": "stdout",
          "output_type": "stream",
          "text": [
            "0.26667666666666573\n"
          ]
        },
        {
          "metadata": {
            "tags": null
          },
          "name": "stderr",
          "output_type": "stream",
          "text": [
            "Epoch:4: 100%|██████████| 78/78 [00:25<00:00,  3.05it/s, GP=0.00, loss_critic=-0.63]\n"
          ]
        },
        {
          "metadata": {
            "tags": null
          },
          "name": "stdout",
          "output_type": "stream",
          "text": [
            "0.33334333333333405\n"
          ]
        },
        {
          "metadata": {
            "tags": null
          },
          "name": "stderr",
          "output_type": "stream",
          "text": [
            "Epoch:5: 100%|██████████| 78/78 [00:25<00:00,  3.09it/s, GP=0.01, loss_critic=-0.97]\n"
          ]
        },
        {
          "metadata": {
            "tags": null
          },
          "name": "stdout",
          "output_type": "stream",
          "text": [
            "0.40001000000000236\n"
          ]
        },
        {
          "metadata": {
            "tags": null
          },
          "name": "stderr",
          "output_type": "stream",
          "text": [
            "Epoch:6: 100%|██████████| 78/78 [00:25<00:00,  3.06it/s, GP=0.01, loss_critic=-0.87]\n"
          ]
        },
        {
          "metadata": {
            "tags": null
          },
          "name": "stdout",
          "output_type": "stream",
          "text": [
            "0.4666766666666707\n"
          ]
        },
        {
          "metadata": {
            "tags": null
          },
          "name": "stderr",
          "output_type": "stream",
          "text": [
            "Epoch:7: 100%|██████████| 78/78 [00:25<00:00,  3.01it/s, GP=0.01, loss_critic=-0.78]\n"
          ]
        },
        {
          "metadata": {
            "tags": null
          },
          "name": "stdout",
          "output_type": "stream",
          "text": [
            "0.5333433333333389\n"
          ]
        },
        {
          "metadata": {
            "tags": null
          },
          "name": "stderr",
          "output_type": "stream",
          "text": [
            "Epoch:8: 100%|██████████| 78/78 [00:25<00:00,  3.06it/s, GP=0.02, loss_critic=-1.07]\n"
          ]
        },
        {
          "metadata": {
            "tags": null
          },
          "name": "stdout",
          "output_type": "stream",
          "text": [
            "0.6000100000000073\n"
          ]
        },
        {
          "metadata": {
            "tags": null
          },
          "name": "stderr",
          "output_type": "stream",
          "text": [
            "Epoch:9: 100%|██████████| 78/78 [00:25<00:00,  3.06it/s, GP=0.01, loss_critic=-0.66]\n"
          ]
        },
        {
          "metadata": {
            "tags": null
          },
          "name": "stdout",
          "output_type": "stream",
          "text": [
            "0.6666766666666756\n"
          ]
        },
        {
          "metadata": {
            "tags": null
          },
          "name": "stderr",
          "output_type": "stream",
          "text": [
            "Epoch:10: 100%|██████████| 78/78 [00:25<00:00,  3.04it/s, GP=0.02, loss_critic=-0.83]\n"
          ]
        },
        {
          "metadata": {
            "tags": null
          },
          "name": "stdout",
          "output_type": "stream",
          "text": [
            "0.7333433333333439\n"
          ]
        },
        {
          "metadata": {
            "tags": null
          },
          "name": "stderr",
          "output_type": "stream",
          "text": [
            "Epoch:11: 100%|██████████| 78/78 [00:25<00:00,  3.05it/s, GP=0.01, loss_critic=-0.94]\n"
          ]
        },
        {
          "metadata": {
            "tags": null
          },
          "name": "stdout",
          "output_type": "stream",
          "text": [
            "0.8000100000000122\n"
          ]
        },
        {
          "metadata": {
            "tags": null
          },
          "name": "stderr",
          "output_type": "stream",
          "text": [
            "Epoch:12: 100%|██████████| 78/78 [00:25<00:00,  3.05it/s, GP=0.03, loss_critic=-0.79]\n"
          ]
        },
        {
          "metadata": {
            "tags": null
          },
          "name": "stdout",
          "output_type": "stream",
          "text": [
            "0.8666766666666805\n"
          ]
        },
        {
          "metadata": {
            "tags": null
          },
          "name": "stderr",
          "output_type": "stream",
          "text": [
            "Epoch:13: 100%|██████████| 78/78 [00:25<00:00,  3.05it/s, GP=0.01, loss_critic=-0.97]\n"
          ]
        },
        {
          "metadata": {
            "tags": null
          },
          "name": "stdout",
          "output_type": "stream",
          "text": [
            "0.9333433333333488\n"
          ]
        },
        {
          "metadata": {
            "tags": null
          },
          "name": "stderr",
          "output_type": "stream",
          "text": [
            "Epoch:14: 100%|██████████| 78/78 [00:25<00:00,  3.06it/s, GP=0.01, loss_critic=-0.78]\n"
          ]
        },
        {
          "metadata": {
            "tags": null
          },
          "name": "stdout",
          "output_type": "stream",
          "text": [
            "1.0000100000000172\n"
          ]
        },
        {
          "metadata": {
            "tags": null
          },
          "name": "stderr",
          "output_type": "stream",
          "text": [
            "Epoch:15: 100%|██████████| 78/78 [00:25<00:00,  3.03it/s, GP=0.01, loss_critic=-0.73]\n"
          ]
        },
        {
          "metadata": {
            "tags": null
          },
          "name": "stdout",
          "output_type": "stream",
          "text": [
            "1.0666766666666854\n"
          ]
        },
        {
          "metadata": {
            "tags": null
          },
          "name": "stderr",
          "output_type": "stream",
          "text": [
            "Epoch:16: 100%|██████████| 78/78 [00:25<00:00,  3.07it/s, GP=0.01, loss_critic=-1.24]\n"
          ]
        },
        {
          "metadata": {
            "tags": null
          },
          "name": "stdout",
          "output_type": "stream",
          "text": [
            "1.1333433333333536\n"
          ]
        },
        {
          "metadata": {
            "tags": null
          },
          "name": "stderr",
          "output_type": "stream",
          "text": [
            "Epoch:17: 100%|██████████| 78/78 [00:25<00:00,  3.06it/s, GP=0.01, loss_critic=-0.13]\n"
          ]
        },
        {
          "metadata": {
            "tags": null
          },
          "name": "stdout",
          "output_type": "stream",
          "text": [
            "1.2000100000000218\n"
          ]
        },
        {
          "metadata": {
            "tags": null
          },
          "name": "stderr",
          "output_type": "stream",
          "text": [
            "Epoch:18: 100%|██████████| 78/78 [00:25<00:00,  3.05it/s, GP=0.01, loss_critic=-0.25]\n"
          ]
        },
        {
          "metadata": {
            "tags": null
          },
          "name": "stdout",
          "output_type": "stream",
          "text": [
            "1.26667666666669\n"
          ]
        },
        {
          "metadata": {
            "tags": null
          },
          "name": "stderr",
          "output_type": "stream",
          "text": [
            "Epoch:19: 100%|██████████| 78/78 [00:25<00:00,  3.04it/s, GP=0.01, loss_critic=-0.82]\n"
          ]
        },
        {
          "metadata": {
            "tags": null
          },
          "name": "stdout",
          "output_type": "stream",
          "text": [
            "1.3333433333333582\n"
          ]
        },
        {
          "metadata": {
            "tags": null
          },
          "name": "stderr",
          "output_type": "stream",
          "text": [
            "Epoch:20: 100%|██████████| 78/78 [00:25<00:00,  3.04it/s, GP=0.01, loss_critic=-1.04]\n"
          ]
        },
        {
          "metadata": {
            "tags": null
          },
          "name": "stdout",
          "output_type": "stream",
          "text": [
            "1.4000100000000264\n"
          ]
        },
        {
          "metadata": {
            "tags": null
          },
          "name": "stderr",
          "output_type": "stream",
          "text": [
            "Epoch:21: 100%|██████████| 78/78 [00:25<00:00,  3.05it/s, GP=0.01, loss_critic=-0.69]\n"
          ]
        },
        {
          "metadata": {
            "tags": null
          },
          "name": "stdout",
          "output_type": "stream",
          "text": [
            "1.4666766666666946\n"
          ]
        },
        {
          "metadata": {
            "tags": null
          },
          "name": "stderr",
          "output_type": "stream",
          "text": [
            "Epoch:22: 100%|██████████| 78/78 [00:25<00:00,  3.05it/s, GP=0.02, loss_critic=-0.80]\n"
          ]
        },
        {
          "metadata": {
            "tags": null
          },
          "name": "stdout",
          "output_type": "stream",
          "text": [
            "1.5333433333333628\n"
          ]
        },
        {
          "metadata": {
            "tags": null
          },
          "name": "stderr",
          "output_type": "stream",
          "text": [
            "Epoch:23: 100%|██████████| 78/78 [00:25<00:00,  3.02it/s, GP=0.00, loss_critic=-0.79]\n"
          ]
        },
        {
          "metadata": {
            "tags": null
          },
          "name": "stdout",
          "output_type": "stream",
          "text": [
            "1.600010000000031\n"
          ]
        },
        {
          "metadata": {
            "tags": null
          },
          "name": "stderr",
          "output_type": "stream",
          "text": [
            "Epoch:24: 100%|██████████| 78/78 [00:25<00:00,  3.05it/s, GP=0.02, loss_critic=-0.94]\n"
          ]
        },
        {
          "metadata": {
            "tags": null
          },
          "name": "stdout",
          "output_type": "stream",
          "text": [
            "1.6666766666666992\n"
          ]
        },
        {
          "metadata": {
            "tags": null
          },
          "name": "stderr",
          "output_type": "stream",
          "text": [
            "Epoch:25: 100%|██████████| 78/78 [00:25<00:00,  3.04it/s, GP=0.01, loss_critic=-0.95]\n"
          ]
        },
        {
          "metadata": {
            "tags": null
          },
          "name": "stdout",
          "output_type": "stream",
          "text": [
            "1.7333433333333674\n"
          ]
        },
        {
          "metadata": {
            "tags": null
          },
          "name": "stderr",
          "output_type": "stream",
          "text": [
            "Epoch:26: 100%|██████████| 78/78 [00:25<00:00,  3.06it/s, GP=0.01, loss_critic=-0.95]\n"
          ]
        },
        {
          "metadata": {
            "tags": null
          },
          "name": "stdout",
          "output_type": "stream",
          "text": [
            "1.8000100000000356\n"
          ]
        },
        {
          "metadata": {
            "tags": null
          },
          "name": "stderr",
          "output_type": "stream",
          "text": [
            "Epoch:27: 100%|██████████| 78/78 [00:25<00:00,  3.06it/s, GP=0.03, loss_critic=-1.09]\n"
          ]
        },
        {
          "metadata": {
            "tags": null
          },
          "name": "stdout",
          "output_type": "stream",
          "text": [
            "1.8666766666667038\n"
          ]
        },
        {
          "metadata": {
            "tags": null
          },
          "name": "stderr",
          "output_type": "stream",
          "text": [
            "Epoch:28: 100%|██████████| 78/78 [00:25<00:00,  3.06it/s, GP=0.01, loss_critic=-0.59]\n"
          ]
        },
        {
          "metadata": {
            "tags": null
          },
          "name": "stdout",
          "output_type": "stream",
          "text": [
            "1.933343333333372\n"
          ]
        },
        {
          "metadata": {
            "tags": null
          },
          "name": "stderr",
          "output_type": "stream",
          "text": [
            "Epoch:29: 100%|██████████| 78/78 [00:25<00:00,  3.05it/s, GP=0.01, loss_critic=-0.39]\n"
          ]
        },
        {
          "metadata": {
            "tags": null
          },
          "name": "stdout",
          "output_type": "stream",
          "text": [
            "2.0000100000000405\n",
            "32\n"
          ]
        },
        {
          "metadata": {
            "tags": null
          },
          "name": "stderr",
          "output_type": "stream",
          "text": [
            "Epoch:0: 100%|██████████| 155/155 [01:08<00:00,  2.26it/s, GP=0.01, loss_critic=0.59]\n"
          ]
        },
        {
          "metadata": {
            "tags": null
          },
          "name": "stdout",
          "output_type": "stream",
          "text": [
            "0.06667666666666641\n"
          ]
        },
        {
          "metadata": {
            "tags": null
          },
          "name": "stderr",
          "output_type": "stream",
          "text": [
            "Epoch:1: 100%|██████████| 155/155 [01:08<00:00,  2.26it/s, GP=0.01, loss_critic=-1.97]\n"
          ]
        },
        {
          "metadata": {
            "tags": null
          },
          "name": "stdout",
          "output_type": "stream",
          "text": [
            "0.13334333333333284\n"
          ]
        },
        {
          "metadata": {
            "tags": null
          },
          "name": "stderr",
          "output_type": "stream",
          "text": [
            "Epoch:2: 100%|██████████| 155/155 [01:08<00:00,  2.26it/s, GP=0.02, loss_critic=-2.43]\n"
          ]
        },
        {
          "metadata": {
            "tags": null
          },
          "name": "stdout",
          "output_type": "stream",
          "text": [
            "0.20001000000000116\n"
          ]
        },
        {
          "metadata": {
            "tags": null
          },
          "name": "stderr",
          "output_type": "stream",
          "text": [
            "Epoch:3: 100%|██████████| 155/155 [01:08<00:00,  2.26it/s, GP=0.02, loss_critic=-2.14]\n"
          ]
        },
        {
          "metadata": {
            "tags": null
          },
          "name": "stdout",
          "output_type": "stream",
          "text": [
            "0.26667666666666945\n"
          ]
        },
        {
          "metadata": {
            "tags": null
          },
          "name": "stderr",
          "output_type": "stream",
          "text": [
            "Epoch:4: 100%|██████████| 155/155 [01:08<00:00,  2.26it/s, GP=0.01, loss_critic=-2.04]\n"
          ]
        },
        {
          "metadata": {
            "tags": null
          },
          "name": "stdout",
          "output_type": "stream",
          "text": [
            "0.33334333333333777\n"
          ]
        },
        {
          "metadata": {
            "tags": null
          },
          "name": "stderr",
          "output_type": "stream",
          "text": [
            "Epoch:5: 100%|██████████| 155/155 [01:08<00:00,  2.26it/s, GP=0.02, loss_critic=-0.81]\n"
          ]
        },
        {
          "metadata": {
            "tags": null
          },
          "name": "stdout",
          "output_type": "stream",
          "text": [
            "0.4000100000000061\n"
          ]
        },
        {
          "metadata": {
            "tags": null
          },
          "name": "stderr",
          "output_type": "stream",
          "text": [
            "Epoch:6: 100%|██████████| 155/155 [01:08<00:00,  2.26it/s, GP=0.02, loss_critic=-2.85]\n"
          ]
        },
        {
          "metadata": {
            "tags": null
          },
          "name": "stdout",
          "output_type": "stream",
          "text": [
            "0.4666766666666744\n"
          ]
        },
        {
          "metadata": {
            "tags": null
          },
          "name": "stderr",
          "output_type": "stream",
          "text": [
            "Epoch:7: 100%|██████████| 155/155 [01:08<00:00,  2.26it/s, GP=0.01, loss_critic=-2.76]\n"
          ]
        },
        {
          "metadata": {
            "tags": null
          },
          "name": "stdout",
          "output_type": "stream",
          "text": [
            "0.5333433333333427\n"
          ]
        },
        {
          "metadata": {
            "tags": null
          },
          "name": "stderr",
          "output_type": "stream",
          "text": [
            "Epoch:8: 100%|██████████| 155/155 [01:08<00:00,  2.27it/s, GP=0.03, loss_critic=-3.45]\n"
          ]
        },
        {
          "metadata": {
            "tags": null
          },
          "name": "stdout",
          "output_type": "stream",
          "text": [
            "0.600010000000011\n"
          ]
        },
        {
          "metadata": {
            "tags": null
          },
          "name": "stderr",
          "output_type": "stream",
          "text": [
            "Epoch:9: 100%|██████████| 155/155 [01:08<00:00,  2.26it/s, GP=0.06, loss_critic=-2.38]\n"
          ]
        },
        {
          "metadata": {
            "tags": null
          },
          "name": "stdout",
          "output_type": "stream",
          "text": [
            "0.6666766666666794\n"
          ]
        },
        {
          "metadata": {
            "tags": null
          },
          "name": "stderr",
          "output_type": "stream",
          "text": [
            "Epoch:10: 100%|██████████| 155/155 [01:08<00:00,  2.26it/s, GP=0.10, loss_critic=-4.16]\n"
          ]
        },
        {
          "metadata": {
            "tags": null
          },
          "name": "stdout",
          "output_type": "stream",
          "text": [
            "0.7333433333333477\n"
          ]
        },
        {
          "metadata": {
            "tags": null
          },
          "name": "stderr",
          "output_type": "stream",
          "text": [
            "Epoch:11: 100%|██████████| 155/155 [01:08<00:00,  2.26it/s, GP=0.01, loss_critic=-1.36]\n"
          ]
        },
        {
          "metadata": {
            "tags": null
          },
          "name": "stdout",
          "output_type": "stream",
          "text": [
            "0.800010000000016\n"
          ]
        },
        {
          "metadata": {
            "tags": null
          },
          "name": "stderr",
          "output_type": "stream",
          "text": [
            "Epoch:12: 100%|██████████| 155/155 [01:08<00:00,  2.26it/s, GP=0.01, loss_critic=-2.80]\n"
          ]
        },
        {
          "metadata": {
            "tags": null
          },
          "name": "stdout",
          "output_type": "stream",
          "text": [
            "0.8666766666666843\n"
          ]
        },
        {
          "metadata": {
            "tags": null
          },
          "name": "stderr",
          "output_type": "stream",
          "text": [
            "Epoch:13: 100%|██████████| 155/155 [01:08<00:00,  2.27it/s, GP=0.07, loss_critic=-2.37]\n"
          ]
        },
        {
          "metadata": {
            "tags": null
          },
          "name": "stdout",
          "output_type": "stream",
          "text": [
            "0.9333433333333526\n"
          ]
        },
        {
          "metadata": {
            "tags": null
          },
          "name": "stderr",
          "output_type": "stream",
          "text": [
            "Epoch:14: 100%|██████████| 155/155 [01:08<00:00,  2.26it/s, GP=0.03, loss_critic=-2.82]\n"
          ]
        },
        {
          "metadata": {
            "tags": null
          },
          "name": "stdout",
          "output_type": "stream",
          "text": [
            "1.000010000000021\n"
          ]
        },
        {
          "metadata": {
            "tags": null
          },
          "name": "stderr",
          "output_type": "stream",
          "text": [
            "Epoch:15: 100%|██████████| 155/155 [01:08<00:00,  2.26it/s, GP=0.05, loss_critic=-2.71]\n"
          ]
        },
        {
          "metadata": {
            "tags": null
          },
          "name": "stdout",
          "output_type": "stream",
          "text": [
            "1.0666766666666891\n"
          ]
        },
        {
          "metadata": {
            "tags": null
          },
          "name": "stderr",
          "output_type": "stream",
          "text": [
            "Epoch:16: 100%|██████████| 155/155 [01:08<00:00,  2.26it/s, GP=0.03, loss_critic=-2.46]\n"
          ]
        },
        {
          "metadata": {
            "tags": null
          },
          "name": "stdout",
          "output_type": "stream",
          "text": [
            "1.1333433333333574\n"
          ]
        },
        {
          "metadata": {
            "tags": null
          },
          "name": "stderr",
          "output_type": "stream",
          "text": [
            "Epoch:17: 100%|██████████| 155/155 [01:08<00:00,  2.27it/s, GP=0.03, loss_critic=1.16]\n"
          ]
        },
        {
          "metadata": {
            "tags": null
          },
          "name": "stdout",
          "output_type": "stream",
          "text": [
            "1.2000100000000256\n"
          ]
        },
        {
          "metadata": {
            "tags": null
          },
          "name": "stderr",
          "output_type": "stream",
          "text": [
            "Epoch:18: 100%|██████████| 155/155 [01:08<00:00,  2.26it/s, GP=0.02, loss_critic=-1.89]\n"
          ]
        },
        {
          "metadata": {
            "tags": null
          },
          "name": "stdout",
          "output_type": "stream",
          "text": [
            "1.2666766666666938\n"
          ]
        },
        {
          "metadata": {
            "tags": null
          },
          "name": "stderr",
          "output_type": "stream",
          "text": [
            "Epoch:19: 100%|██████████| 155/155 [01:08<00:00,  2.26it/s, GP=0.04, loss_critic=-1.96]\n"
          ]
        },
        {
          "metadata": {
            "tags": null
          },
          "name": "stdout",
          "output_type": "stream",
          "text": [
            "1.333343333333362\n"
          ]
        },
        {
          "metadata": {
            "tags": null
          },
          "name": "stderr",
          "output_type": "stream",
          "text": [
            "Epoch:20: 100%|██████████| 155/155 [01:08<00:00,  2.26it/s, GP=0.05, loss_critic=-1.24]\n"
          ]
        },
        {
          "metadata": {
            "tags": null
          },
          "name": "stdout",
          "output_type": "stream",
          "text": [
            "1.4000100000000302\n"
          ]
        },
        {
          "metadata": {
            "tags": null
          },
          "name": "stderr",
          "output_type": "stream",
          "text": [
            "Epoch:21: 100%|██████████| 155/155 [01:08<00:00,  2.26it/s, GP=0.04, loss_critic=-0.94]\n"
          ]
        },
        {
          "metadata": {
            "tags": null
          },
          "name": "stdout",
          "output_type": "stream",
          "text": [
            "1.4666766666666984\n"
          ]
        },
        {
          "metadata": {
            "tags": null
          },
          "name": "stderr",
          "output_type": "stream",
          "text": [
            "Epoch:22: 100%|██████████| 155/155 [01:08<00:00,  2.26it/s, GP=0.06, loss_critic=0.10]\n"
          ]
        },
        {
          "metadata": {
            "tags": null
          },
          "name": "stdout",
          "output_type": "stream",
          "text": [
            "1.5333433333333666\n"
          ]
        },
        {
          "metadata": {
            "tags": null
          },
          "name": "stderr",
          "output_type": "stream",
          "text": [
            "Epoch:23: 100%|██████████| 155/155 [01:08<00:00,  2.26it/s, GP=0.04, loss_critic=-3.43]\n"
          ]
        },
        {
          "metadata": {
            "tags": null
          },
          "name": "stdout",
          "output_type": "stream",
          "text": [
            "1.6000100000000348\n"
          ]
        },
        {
          "metadata": {
            "tags": null
          },
          "name": "stderr",
          "output_type": "stream",
          "text": [
            "Epoch:24: 100%|██████████| 155/155 [01:08<00:00,  2.27it/s, GP=0.09, loss_critic=0.42]\n"
          ]
        },
        {
          "metadata": {
            "tags": null
          },
          "name": "stdout",
          "output_type": "stream",
          "text": [
            "1.666676666666703\n"
          ]
        },
        {
          "metadata": {
            "tags": null
          },
          "name": "stderr",
          "output_type": "stream",
          "text": [
            "Epoch:25: 100%|██████████| 155/155 [01:08<00:00,  2.25it/s, GP=0.04, loss_critic=-1.27]\n"
          ]
        },
        {
          "metadata": {
            "tags": null
          },
          "name": "stdout",
          "output_type": "stream",
          "text": [
            "1.7333433333333712\n"
          ]
        },
        {
          "metadata": {
            "tags": null
          },
          "name": "stderr",
          "output_type": "stream",
          "text": [
            "Epoch:26: 100%|██████████| 155/155 [01:08<00:00,  2.26it/s, GP=0.02, loss_critic=-2.15]\n"
          ]
        },
        {
          "metadata": {
            "tags": null
          },
          "name": "stdout",
          "output_type": "stream",
          "text": [
            "1.8000100000000394\n"
          ]
        },
        {
          "metadata": {
            "tags": null
          },
          "name": "stderr",
          "output_type": "stream",
          "text": [
            "Epoch:27: 100%|██████████| 155/155 [01:08<00:00,  2.26it/s, GP=0.02, loss_critic=-1.29]\n"
          ]
        },
        {
          "metadata": {
            "tags": null
          },
          "name": "stdout",
          "output_type": "stream",
          "text": [
            "1.8666766666667076\n"
          ]
        },
        {
          "metadata": {
            "tags": null
          },
          "name": "stderr",
          "output_type": "stream",
          "text": [
            "Epoch:28: 100%|██████████| 155/155 [01:08<00:00,  2.26it/s, GP=0.05, loss_critic=-1.44]\n"
          ]
        },
        {
          "metadata": {
            "tags": null
          },
          "name": "stdout",
          "output_type": "stream",
          "text": [
            "1.9333433333333758\n"
          ]
        },
        {
          "metadata": {
            "tags": null
          },
          "name": "stderr",
          "output_type": "stream",
          "text": [
            "Epoch:29: 100%|██████████| 155/155 [01:08<00:00,  2.27it/s, GP=0.01, loss_critic=-1.44]\n"
          ]
        },
        {
          "metadata": {
            "tags": null
          },
          "name": "stdout",
          "output_type": "stream",
          "text": [
            "2.000010000000044\n",
            "32\n"
          ]
        },
        {
          "metadata": {
            "tags": null
          },
          "name": "stderr",
          "output_type": "stream",
          "text": [
            "Epoch:0: 100%|██████████| 155/155 [03:28<00:00,  1.35s/it, GP=0.02, loss_critic=-2.86]\n"
          ]
        },
        {
          "metadata": {
            "tags": null
          },
          "name": "stdout",
          "output_type": "stream",
          "text": [
            "0.06667666666666641\n"
          ]
        },
        {
          "metadata": {
            "tags": null
          },
          "name": "stderr",
          "output_type": "stream",
          "text": [
            "Epoch:1: 100%|██████████| 155/155 [03:28<00:00,  1.35s/it, GP=0.03, loss_critic=-6.44]\n"
          ]
        },
        {
          "metadata": {
            "tags": null
          },
          "name": "stdout",
          "output_type": "stream",
          "text": [
            "0.13334333333333284\n"
          ]
        },
        {
          "metadata": {
            "tags": null
          },
          "name": "stderr",
          "output_type": "stream",
          "text": [
            "Epoch:2: 100%|██████████| 155/155 [03:28<00:00,  1.34s/it, GP=0.05, loss_critic=-7.51]\n"
          ]
        },
        {
          "metadata": {
            "tags": null
          },
          "name": "stdout",
          "output_type": "stream",
          "text": [
            "0.20001000000000116\n"
          ]
        },
        {
          "metadata": {
            "tags": null
          },
          "name": "stderr",
          "output_type": "stream",
          "text": [
            "Epoch:3: 100%|██████████| 155/155 [03:28<00:00,  1.35s/it, GP=0.19, loss_critic=-6.92]\n"
          ]
        },
        {
          "metadata": {
            "tags": null
          },
          "name": "stdout",
          "output_type": "stream",
          "text": [
            "0.26667666666666945\n"
          ]
        },
        {
          "metadata": {
            "tags": null
          },
          "name": "stderr",
          "output_type": "stream",
          "text": [
            "Epoch:4: 100%|██████████| 155/155 [03:28<00:00,  1.34s/it, GP=0.06, loss_critic=-7.55]\n"
          ]
        },
        {
          "metadata": {
            "tags": null
          },
          "name": "stdout",
          "output_type": "stream",
          "text": [
            "0.33334333333333777\n"
          ]
        },
        {
          "metadata": {
            "tags": null
          },
          "name": "stderr",
          "output_type": "stream",
          "text": [
            "Epoch:5: 100%|██████████| 155/155 [03:28<00:00,  1.35s/it, GP=0.06, loss_critic=-4.65]\n"
          ]
        },
        {
          "metadata": {
            "tags": null
          },
          "name": "stdout",
          "output_type": "stream",
          "text": [
            "0.4000100000000061\n"
          ]
        },
        {
          "metadata": {
            "tags": null
          },
          "name": "stderr",
          "output_type": "stream",
          "text": [
            "Epoch:6: 100%|██████████| 155/155 [03:28<00:00,  1.35s/it, GP=0.13, loss_critic=-6.88]\n"
          ]
        },
        {
          "metadata": {
            "tags": null
          },
          "name": "stdout",
          "output_type": "stream",
          "text": [
            "0.4666766666666744\n"
          ]
        },
        {
          "metadata": {
            "tags": null
          },
          "name": "stderr",
          "output_type": "stream",
          "text": [
            "Epoch:7: 100%|██████████| 155/155 [03:28<00:00,  1.35s/it, GP=0.09, loss_critic=-1.80]\n"
          ]
        },
        {
          "metadata": {
            "tags": null
          },
          "name": "stdout",
          "output_type": "stream",
          "text": [
            "0.5333433333333427\n"
          ]
        },
        {
          "metadata": {
            "tags": null
          },
          "name": "stderr",
          "output_type": "stream",
          "text": [
            "Epoch:8: 100%|██████████| 155/155 [03:28<00:00,  1.34s/it, GP=0.11, loss_critic=-5.55]\n"
          ]
        },
        {
          "metadata": {
            "tags": null
          },
          "name": "stdout",
          "output_type": "stream",
          "text": [
            "0.600010000000011\n"
          ]
        },
        {
          "metadata": {
            "tags": null
          },
          "name": "stderr",
          "output_type": "stream",
          "text": [
            "Epoch:9: 100%|██████████| 155/155 [03:28<00:00,  1.34s/it, GP=0.16, loss_critic=-6.72]\n"
          ]
        },
        {
          "metadata": {
            "tags": null
          },
          "name": "stdout",
          "output_type": "stream",
          "text": [
            "0.6666766666666794\n"
          ]
        },
        {
          "metadata": {
            "tags": null
          },
          "name": "stderr",
          "output_type": "stream",
          "text": [
            "Epoch:10: 100%|██████████| 155/155 [03:28<00:00,  1.34s/it, GP=0.09, loss_critic=-7.35]\n"
          ]
        },
        {
          "metadata": {
            "tags": null
          },
          "name": "stdout",
          "output_type": "stream",
          "text": [
            "0.7333433333333477\n"
          ]
        },
        {
          "metadata": {
            "tags": null
          },
          "name": "stderr",
          "output_type": "stream",
          "text": [
            "Epoch:11: 100%|██████████| 155/155 [03:28<00:00,  1.34s/it, GP=0.13, loss_critic=-5.51]\n"
          ]
        },
        {
          "metadata": {
            "tags": null
          },
          "name": "stdout",
          "output_type": "stream",
          "text": [
            "0.800010000000016\n"
          ]
        },
        {
          "metadata": {
            "tags": null
          },
          "name": "stderr",
          "output_type": "stream",
          "text": [
            "Epoch:12: 100%|██████████| 155/155 [03:28<00:00,  1.34s/it, GP=0.06, loss_critic=-2.94]\n"
          ]
        },
        {
          "metadata": {
            "tags": null
          },
          "name": "stdout",
          "output_type": "stream",
          "text": [
            "0.8666766666666843\n"
          ]
        },
        {
          "metadata": {
            "tags": null
          },
          "name": "stderr",
          "output_type": "stream",
          "text": [
            "Epoch:13: 100%|██████████| 155/155 [03:28<00:00,  1.34s/it, GP=0.10, loss_critic=-4.68]\n"
          ]
        },
        {
          "metadata": {
            "tags": null
          },
          "name": "stdout",
          "output_type": "stream",
          "text": [
            "0.9333433333333526\n"
          ]
        },
        {
          "metadata": {
            "tags": null
          },
          "name": "stderr",
          "output_type": "stream",
          "text": [
            "Epoch:14: 100%|██████████| 155/155 [03:28<00:00,  1.34s/it, GP=0.11, loss_critic=-8.16]\n"
          ]
        },
        {
          "metadata": {
            "tags": null
          },
          "name": "stdout",
          "output_type": "stream",
          "text": [
            "1.000010000000021\n"
          ]
        },
        {
          "metadata": {
            "tags": null
          },
          "name": "stderr",
          "output_type": "stream",
          "text": [
            "Epoch:15: 100%|██████████| 155/155 [03:28<00:00,  1.34s/it, GP=0.07, loss_critic=0.44]\n"
          ]
        },
        {
          "metadata": {
            "tags": null
          },
          "name": "stdout",
          "output_type": "stream",
          "text": [
            "1.0666766666666891\n"
          ]
        },
        {
          "metadata": {
            "tags": null
          },
          "name": "stderr",
          "output_type": "stream",
          "text": [
            "Epoch:16: 100%|██████████| 155/155 [03:28<00:00,  1.34s/it, GP=0.05, loss_critic=-4.37]\n"
          ]
        },
        {
          "metadata": {
            "tags": null
          },
          "name": "stdout",
          "output_type": "stream",
          "text": [
            "1.1333433333333574\n"
          ]
        },
        {
          "metadata": {
            "tags": null
          },
          "name": "stderr",
          "output_type": "stream",
          "text": [
            "Epoch:17: 100%|██████████| 155/155 [03:28<00:00,  1.34s/it, GP=0.09, loss_critic=-5.33]\n"
          ]
        },
        {
          "metadata": {
            "tags": null
          },
          "name": "stdout",
          "output_type": "stream",
          "text": [
            "1.2000100000000256\n"
          ]
        },
        {
          "metadata": {
            "tags": null
          },
          "name": "stderr",
          "output_type": "stream",
          "text": [
            "Epoch:18: 100%|██████████| 155/155 [03:28<00:00,  1.35s/it, GP=0.02, loss_critic=-5.80]\n"
          ]
        },
        {
          "metadata": {
            "tags": null
          },
          "name": "stdout",
          "output_type": "stream",
          "text": [
            "1.2666766666666938\n"
          ]
        },
        {
          "metadata": {
            "tags": null
          },
          "name": "stderr",
          "output_type": "stream",
          "text": [
            "Epoch:19: 100%|██████████| 155/155 [03:28<00:00,  1.35s/it, GP=0.05, loss_critic=-6.04]\n"
          ]
        },
        {
          "metadata": {
            "tags": null
          },
          "name": "stdout",
          "output_type": "stream",
          "text": [
            "1.333343333333362\n"
          ]
        },
        {
          "metadata": {
            "tags": null
          },
          "name": "stderr",
          "output_type": "stream",
          "text": [
            "Epoch:20: 100%|██████████| 155/155 [03:28<00:00,  1.34s/it, GP=0.03, loss_critic=-0.98]\n"
          ]
        },
        {
          "metadata": {
            "tags": null
          },
          "name": "stdout",
          "output_type": "stream",
          "text": [
            "1.4000100000000302\n"
          ]
        },
        {
          "metadata": {
            "tags": null
          },
          "name": "stderr",
          "output_type": "stream",
          "text": [
            "Epoch:21: 100%|██████████| 155/155 [03:28<00:00,  1.35s/it, GP=0.16, loss_critic=-1.83]\n"
          ]
        },
        {
          "metadata": {
            "tags": null
          },
          "name": "stdout",
          "output_type": "stream",
          "text": [
            "1.4666766666666984\n"
          ]
        },
        {
          "metadata": {
            "tags": null
          },
          "name": "stderr",
          "output_type": "stream",
          "text": [
            "Epoch:22: 100%|██████████| 155/155 [03:28<00:00,  1.34s/it, GP=0.18, loss_critic=-4.74]\n"
          ]
        },
        {
          "metadata": {
            "tags": null
          },
          "name": "stdout",
          "output_type": "stream",
          "text": [
            "1.5333433333333666\n"
          ]
        },
        {
          "metadata": {
            "tags": null
          },
          "name": "stderr",
          "output_type": "stream",
          "text": [
            "Epoch:23: 100%|██████████| 155/155 [03:28<00:00,  1.34s/it, GP=0.07, loss_critic=-6.63]\n"
          ]
        },
        {
          "metadata": {
            "tags": null
          },
          "name": "stdout",
          "output_type": "stream",
          "text": [
            "1.6000100000000348\n"
          ]
        },
        {
          "metadata": {
            "tags": null
          },
          "name": "stderr",
          "output_type": "stream",
          "text": [
            "Epoch:24: 100%|██████████| 155/155 [03:29<00:00,  1.35s/it, GP=0.01, loss_critic=-1.83]\n"
          ]
        },
        {
          "metadata": {
            "tags": null
          },
          "name": "stdout",
          "output_type": "stream",
          "text": [
            "1.666676666666703\n"
          ]
        },
        {
          "metadata": {
            "tags": null
          },
          "name": "stderr",
          "output_type": "stream",
          "text": [
            "Epoch:25: 100%|██████████| 155/155 [03:28<00:00,  1.35s/it, GP=0.02, loss_critic=-3.44]\n"
          ]
        },
        {
          "metadata": {
            "tags": null
          },
          "name": "stdout",
          "output_type": "stream",
          "text": [
            "1.7333433333333712\n"
          ]
        },
        {
          "metadata": {
            "tags": null
          },
          "name": "stderr",
          "output_type": "stream",
          "text": [
            "Epoch:26: 100%|██████████| 155/155 [03:28<00:00,  1.34s/it, GP=0.05, loss_critic=-7.69]\n"
          ]
        },
        {
          "metadata": {
            "tags": null
          },
          "name": "stdout",
          "output_type": "stream",
          "text": [
            "1.8000100000000394\n"
          ]
        },
        {
          "metadata": {
            "tags": null
          },
          "name": "stderr",
          "output_type": "stream",
          "text": [
            "Epoch:27: 100%|██████████| 155/155 [03:28<00:00,  1.35s/it, GP=0.04, loss_critic=-7.64]\n"
          ]
        },
        {
          "metadata": {
            "tags": null
          },
          "name": "stdout",
          "output_type": "stream",
          "text": [
            "1.8666766666667076\n"
          ]
        },
        {
          "metadata": {
            "tags": null
          },
          "name": "stderr",
          "output_type": "stream",
          "text": [
            "Epoch:28: 100%|██████████| 155/155 [03:28<00:00,  1.35s/it, GP=0.07, loss_critic=-3.46]\n"
          ]
        },
        {
          "metadata": {
            "tags": null
          },
          "name": "stdout",
          "output_type": "stream",
          "text": [
            "1.9333433333333758\n"
          ]
        },
        {
          "metadata": {
            "tags": null
          },
          "name": "stderr",
          "output_type": "stream",
          "text": [
            "Epoch:29: 100%|██████████| 155/155 [03:28<00:00,  1.35s/it, GP=0.06, loss_critic=-2.60]\n"
          ]
        },
        {
          "metadata": {
            "tags": null
          },
          "name": "stdout",
          "output_type": "stream",
          "text": [
            "2.000010000000044\n",
            "32\n"
          ]
        },
        {
          "metadata": {
            "tags": null
          },
          "name": "stderr",
          "output_type": "stream",
          "text": [
            "Epoch:0: 100%|██████████| 155/155 [05:49<00:00,  2.25s/it, GP=0.09, loss_critic=-13.22]\n"
          ]
        },
        {
          "metadata": {
            "tags": null
          },
          "name": "stdout",
          "output_type": "stream",
          "text": [
            "0.06667666666666641\n"
          ]
        },
        {
          "metadata": {
            "tags": null
          },
          "name": "stderr",
          "output_type": "stream",
          "text": [
            "Epoch:1: 100%|██████████| 155/155 [05:49<00:00,  2.25s/it, GP=0.16, loss_critic=-6.57]\n"
          ]
        },
        {
          "metadata": {
            "tags": null
          },
          "name": "stdout",
          "output_type": "stream",
          "text": [
            "0.13334333333333284\n"
          ]
        },
        {
          "metadata": {
            "tags": null
          },
          "name": "stderr",
          "output_type": "stream",
          "text": [
            "Epoch:2: 100%|██████████| 155/155 [05:49<00:00,  2.25s/it, GP=0.29, loss_critic=-6.54]\n"
          ]
        },
        {
          "metadata": {
            "tags": null
          },
          "name": "stdout",
          "output_type": "stream",
          "text": [
            "0.20001000000000116\n"
          ]
        },
        {
          "metadata": {
            "tags": null
          },
          "name": "stderr",
          "output_type": "stream",
          "text": [
            "Epoch:3: 100%|██████████| 155/155 [05:49<00:00,  2.25s/it, GP=0.21, loss_critic=-11.35]\n"
          ]
        },
        {
          "metadata": {
            "tags": null
          },
          "name": "stdout",
          "output_type": "stream",
          "text": [
            "0.26667666666666945\n"
          ]
        },
        {
          "metadata": {
            "tags": null
          },
          "name": "stderr",
          "output_type": "stream",
          "text": [
            "Epoch:4: 100%|██████████| 155/155 [05:49<00:00,  2.25s/it, GP=0.22, loss_critic=-14.19]\n"
          ]
        },
        {
          "metadata": {
            "tags": null
          },
          "name": "stdout",
          "output_type": "stream",
          "text": [
            "0.33334333333333777\n"
          ]
        },
        {
          "metadata": {
            "tags": null
          },
          "name": "stderr",
          "output_type": "stream",
          "text": [
            "Epoch:5: 100%|██████████| 155/155 [05:49<00:00,  2.25s/it, GP=0.13, loss_critic=-18.30]\n"
          ]
        },
        {
          "metadata": {
            "tags": null
          },
          "name": "stdout",
          "output_type": "stream",
          "text": [
            "0.4000100000000061\n"
          ]
        },
        {
          "metadata": {
            "tags": null
          },
          "name": "stderr",
          "output_type": "stream",
          "text": [
            "Epoch:6: 100%|██████████| 155/155 [05:48<00:00,  2.25s/it, GP=0.16, loss_critic=-11.74]\n"
          ]
        },
        {
          "metadata": {
            "tags": null
          },
          "name": "stdout",
          "output_type": "stream",
          "text": [
            "0.4666766666666744\n"
          ]
        },
        {
          "output_type": "stream",
          "name": "stderr",
          "text": [
            "Epoch:7: 100%|██████████| 155/155 [05:49<00:00,  2.25s/it, GP=0.17, loss_critic=-9.88]\n"
          ]
        },
        {
          "output_type": "stream",
          "name": "stdout",
          "text": [
            "0.5333433333333427\n"
          ]
        },
        {
          "output_type": "stream",
          "name": "stderr",
          "text": [
            "Epoch:8: 100%|██████████| 155/155 [05:49<00:00,  2.26s/it, GP=0.19, loss_critic=-7.28]\n"
          ]
        },
        {
          "output_type": "stream",
          "name": "stdout",
          "text": [
            "0.600010000000011\n"
          ]
        },
        {
          "output_type": "stream",
          "name": "stderr",
          "text": [
            "Epoch:9: 100%|██████████| 155/155 [05:49<00:00,  2.26s/it, GP=0.20, loss_critic=-11.80]\n"
          ]
        },
        {
          "output_type": "stream",
          "name": "stdout",
          "text": [
            "0.6666766666666794\n"
          ]
        },
        {
          "output_type": "stream",
          "name": "stderr",
          "text": [
            "Epoch:10: 100%|██████████| 155/155 [05:50<00:00,  2.26s/it, GP=0.17, loss_critic=-2.80]\n"
          ]
        },
        {
          "output_type": "stream",
          "name": "stdout",
          "text": [
            "0.7333433333333477\n"
          ]
        },
        {
          "output_type": "stream",
          "name": "stderr",
          "text": [
            "Epoch:11: 100%|██████████| 155/155 [05:50<00:00,  2.26s/it, GP=0.33, loss_critic=-5.40]\n"
          ]
        },
        {
          "output_type": "stream",
          "name": "stdout",
          "text": [
            "0.800010000000016\n"
          ]
        },
        {
          "output_type": "stream",
          "name": "stderr",
          "text": [
            "Epoch:12: 100%|██████████| 155/155 [05:50<00:00,  2.26s/it, GP=0.16, loss_critic=-18.91]\n"
          ]
        },
        {
          "output_type": "stream",
          "name": "stdout",
          "text": [
            "0.8666766666666843\n"
          ]
        },
        {
          "output_type": "stream",
          "name": "stderr",
          "text": [
            "Epoch:13: 100%|██████████| 155/155 [05:49<00:00,  2.26s/it, GP=0.06, loss_critic=-12.57]\n"
          ]
        },
        {
          "output_type": "stream",
          "name": "stdout",
          "text": [
            "0.9333433333333526\n"
          ]
        },
        {
          "output_type": "stream",
          "name": "stderr",
          "text": [
            "Epoch:14: 100%|██████████| 155/155 [05:49<00:00,  2.26s/it, GP=0.11, loss_critic=-7.84]\n"
          ]
        },
        {
          "output_type": "stream",
          "name": "stdout",
          "text": [
            "1.000010000000021\n"
          ]
        },
        {
          "output_type": "stream",
          "name": "stderr",
          "text": [
            "Epoch:15: 100%|██████████| 155/155 [05:49<00:00,  2.26s/it, GP=0.24, loss_critic=-13.72]\n"
          ]
        },
        {
          "output_type": "stream",
          "name": "stdout",
          "text": [
            "1.0666766666666891\n"
          ]
        },
        {
          "output_type": "stream",
          "name": "stderr",
          "text": [
            "Epoch:16: 100%|██████████| 155/155 [05:49<00:00,  2.26s/it, GP=0.15, loss_critic=-2.33]\n"
          ]
        },
        {
          "output_type": "stream",
          "name": "stdout",
          "text": [
            "1.1333433333333574\n"
          ]
        },
        {
          "output_type": "stream",
          "name": "stderr",
          "text": [
            "Epoch:17: 100%|██████████| 155/155 [05:50<00:00,  2.26s/it, GP=0.19, loss_critic=-10.46]\n"
          ]
        },
        {
          "output_type": "stream",
          "name": "stdout",
          "text": [
            "1.2000100000000256\n"
          ]
        },
        {
          "output_type": "stream",
          "name": "stderr",
          "text": [
            "Epoch:18: 100%|██████████| 155/155 [05:50<00:00,  2.26s/it, GP=0.34, loss_critic=-10.39]\n"
          ]
        },
        {
          "output_type": "stream",
          "name": "stdout",
          "text": [
            "1.2666766666666938\n"
          ]
        },
        {
          "output_type": "stream",
          "name": "stderr",
          "text": [
            "Epoch:19: 100%|██████████| 155/155 [05:49<00:00,  2.25s/it, GP=0.15, loss_critic=-12.29]\n"
          ]
        },
        {
          "output_type": "stream",
          "name": "stdout",
          "text": [
            "1.333343333333362\n"
          ]
        },
        {
          "output_type": "stream",
          "name": "stderr",
          "text": [
            "Epoch:20: 100%|██████████| 155/155 [05:49<00:00,  2.26s/it, GP=0.12, loss_critic=-5.31]\n"
          ]
        },
        {
          "output_type": "stream",
          "name": "stdout",
          "text": [
            "1.4000100000000302\n"
          ]
        },
        {
          "output_type": "stream",
          "name": "stderr",
          "text": [
            "Epoch:21: 100%|██████████| 155/155 [05:49<00:00,  2.25s/it, GP=0.10, loss_critic=-12.77]\n"
          ]
        },
        {
          "output_type": "stream",
          "name": "stdout",
          "text": [
            "1.4666766666666984\n"
          ]
        },
        {
          "output_type": "stream",
          "name": "stderr",
          "text": [
            "Epoch:22: 100%|██████████| 155/155 [05:49<00:00,  2.25s/it, GP=0.12, loss_critic=-4.54]\n"
          ]
        },
        {
          "output_type": "stream",
          "name": "stdout",
          "text": [
            "1.5333433333333666\n"
          ]
        },
        {
          "output_type": "stream",
          "name": "stderr",
          "text": [
            "Epoch:23: 100%|██████████| 155/155 [05:49<00:00,  2.25s/it, GP=0.24, loss_critic=-10.03]\n"
          ]
        },
        {
          "output_type": "stream",
          "name": "stdout",
          "text": [
            "1.6000100000000348\n"
          ]
        },
        {
          "output_type": "stream",
          "name": "stderr",
          "text": [
            "Epoch:24: 100%|██████████| 155/155 [05:49<00:00,  2.26s/it, GP=0.27, loss_critic=-6.68]\n"
          ]
        },
        {
          "output_type": "stream",
          "name": "stdout",
          "text": [
            "1.666676666666703\n"
          ]
        },
        {
          "output_type": "stream",
          "name": "stderr",
          "text": [
            "Epoch:25: 100%|██████████| 155/155 [05:49<00:00,  2.25s/it, GP=0.22, loss_critic=-10.42]\n"
          ]
        },
        {
          "output_type": "stream",
          "name": "stdout",
          "text": [
            "1.7333433333333712\n"
          ]
        },
        {
          "output_type": "stream",
          "name": "stderr",
          "text": [
            "Epoch:26: 100%|██████████| 155/155 [05:49<00:00,  2.25s/it, GP=0.19, loss_critic=-14.02]\n"
          ]
        },
        {
          "output_type": "stream",
          "name": "stdout",
          "text": [
            "1.8000100000000394\n"
          ]
        },
        {
          "output_type": "stream",
          "name": "stderr",
          "text": [
            "Epoch:27: 100%|██████████| 155/155 [05:49<00:00,  2.25s/it, GP=0.19, loss_critic=-11.70]\n"
          ]
        },
        {
          "output_type": "stream",
          "name": "stdout",
          "text": [
            "1.8666766666667076\n"
          ]
        },
        {
          "output_type": "stream",
          "name": "stderr",
          "text": [
            "Epoch:28: 100%|██████████| 155/155 [05:49<00:00,  2.26s/it, GP=0.11, loss_critic=-10.99]\n"
          ]
        },
        {
          "output_type": "stream",
          "name": "stdout",
          "text": [
            "1.9333433333333758\n"
          ]
        },
        {
          "output_type": "stream",
          "name": "stderr",
          "text": [
            "Epoch:29: 100%|██████████| 155/155 [05:48<00:00,  2.25s/it, GP=0.25, loss_critic=-7.49]\n"
          ]
        },
        {
          "output_type": "stream",
          "name": "stdout",
          "text": [
            "2.000010000000044\n"
          ]
        }
      ],
      "source": [
        "img_sizes = [4, 8, 16, 32, 64, 128]\n",
        "batch_sizes = [64, 64, 64, 32, 32, 32]\n",
        "epochs = [30] * len(img_sizes)\n",
        "\n",
        "\n",
        "same_seed(1314520)\n",
        "for img_size in IMG_SIZES:\n",
        "    steps = int(log2(img_size / 4))\n",
        "    cur_batch_size = BATCH_SIZES[steps]\n",
        "    print(cur_batch_size)\n",
        "    alpha = 1e-5\n",
        "    # each step have 30 epochs\n",
        "    for n_epoch in range(EPOCHS[steps]):\n",
        "        dataloader, dataset = get_loader(ROOT_DIR, steps, cur_batch_size)\n",
        "        alpha = train_fn(netG, netD, dataloader, dataset, alpha, steps, DEVICE, n_epoch)\n",
        "        print(alpha)\n",
        "        visual_on_fixed_noise(netG, fixed_noise, alpha, steps, n_epoch)"
      ]
    },
    {
      "cell_type": "markdown",
      "source": [
        "# Saving and Inference"
      ],
      "metadata": {
        "id": "6Lg_atS4M3Tw"
      },
      "id": "6Lg_atS4M3Tw"
    },
    {
      "cell_type": "code",
      "source": [
        "from google.colab import drive\n",
        "drive.mount(\"content\")"
      ],
      "metadata": {
        "colab": {
          "base_uri": "https://localhost:8080/"
        },
        "id": "9SPZeiVLIqMC",
        "outputId": "b13693c5-e076-43fc-8fc5-26a51f8a8f1c"
      },
      "id": "9SPZeiVLIqMC",
      "execution_count": 19,
      "outputs": [
        {
          "output_type": "stream",
          "name": "stdout",
          "text": [
            "Mounted at content\n"
          ]
        }
      ]
    },
    {
      "cell_type": "code",
      "source": [
        "! mkdir results && mv step* results\n",
        "! scp -r results /content/content/MyDrive/MyAIProjects/ProGAN"
      ],
      "metadata": {
        "id": "EH1lLT2bJ-vi"
      },
      "id": "EH1lLT2bJ-vi",
      "execution_count": 20,
      "outputs": []
    },
    {
      "cell_type": "code",
      "source": [
        "# visualization on fixed noise\n",
        "netG.eval()\n",
        "with torch.no_grad():\n",
        "    fakes = netG(fixed_noise, alpha=0, steps=6)\n",
        "print(fakes.size())\n",
        "plt.imshow(np.transpose(vutils.make_grid(fakes.detach().cpu()*0.5+0.5, padding=1, normalize=False), (1,2,0)))"
      ],
      "metadata": {
        "colab": {
          "base_uri": "https://localhost:8080/",
          "height": 471
        },
        "id": "G8wyS7HhKVOd",
        "outputId": "acdcdcc0-3b4f-4814-ddcc-d35c1a021e3b"
      },
      "id": "G8wyS7HhKVOd",
      "execution_count": 28,
      "outputs": [
        {
          "output_type": "stream",
          "name": "stdout",
          "text": [
            "torch.Size([64, 3, 256, 256])\n"
          ]
        },
        {
          "output_type": "execute_result",
          "data": {
            "text/plain": [
              "<matplotlib.image.AxesImage at 0x7c20d417ca90>"
            ]
          },
          "metadata": {},
          "execution_count": 28
        },
        {
          "output_type": "display_data",
          "data": {
            "text/plain": [
              "<Figure size 640x480 with 1 Axes>"
            ],
            "image/png": "[encoded data removed]"
          },
          "metadata": {}
        }
      ]
    },
    {
      "cell_type": "code",
      "source": [
        "# visualization on fixed noise\n",
        "netG.eval()\n",
        "noise = torch.rand(64, Z_DIM).to(DEVICE)\n",
        "with torch.no_grad():\n",
        "    fakes = netG(noise, alpha=0, steps=6)\n",
        "print(fakes.size())\n",
        "plt.imshow(np.transpose(vutils.make_grid(fakes.detach().cpu()*0.5+0.5, padding=1, normalize=False), (1,2,0)))"
      ],
      "metadata": {
        "colab": {
          "base_uri": "https://localhost:8080/",
          "height": 471
        },
        "id": "hsfu6CptLh0r",
        "outputId": "d0832f10-683c-40e4-fc33-5bb97cf1733f"
      },
      "id": "hsfu6CptLh0r",
      "execution_count": 40,
      "outputs": [
        {
          "output_type": "stream",
          "name": "stdout",
          "text": [
            "torch.Size([64, 3, 256, 256])\n"
          ]
        },
        {
          "output_type": "execute_result",
          "data": {
            "text/plain": [
              "<matplotlib.image.AxesImage at 0x7c20c622c670>"
            ]
          },
          "metadata": {},
          "execution_count": 40
        },
        {
          "output_type": "display_data",
          "data": {
            "text/plain": [
              "<Figure size 640x480 with 1 Axes>"
            ],
            "image/png": "[encoded data removed]"
          },
          "metadata": {}
        }
      ]
    },
    {
      "cell_type": "code",
      "source": [
        "torch.save(netG.state_dict(), \"/content/content/MyDrive/MyAIProjects/ProGAN/results/netG.pth\")\n",
        "torch.save(netD.state_dict(), \"/content/content/MyDrive/MyAIProjects/ProGAN/results/netD.pth\")"
      ],
      "metadata": {
        "id": "8BErC5W9MHMS"
      },
      "id": "8BErC5W9MHMS",
      "execution_count": 41,
      "outputs": []
    }
  ],
  "metadata": {
    "kernelspec": {
      "display_name": "Python 3",
      "name": "python3"
    },
    "language_info": {
      "codemirror_mode": {
        "name": "ipython",
        "version": 3
      },
      "file_extension": ".py",
      "mimetype": "text/x-python",
      "name": "python",
      "nbconvert_exporter": "python",
      "pygments_lexer": "ipython3",
      "version": "3.11.4"
    },
    "colab": {
      "provenance": [],
      "gpuType": "T4"
    },
    "accelerator": "GPU"
  },
  "nbformat": 4,
  "nbformat_minor": 5
}